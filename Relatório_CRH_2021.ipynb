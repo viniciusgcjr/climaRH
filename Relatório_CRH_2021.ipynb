{
  "nbformat": 4,
  "nbformat_minor": 0,
  "metadata": {
    "colab": {
      "provenance": [],
      "toc_visible": true,
      "mount_file_id": "1xQu5vpKUQlcK_e_maJo-M22AvuNFUb2x",
      "authorship_tag": "ABX9TyMou/gKHEO87FOFlZzda0oT",
      "include_colab_link": true
    },
    "kernelspec": {
      "name": "python3",
      "display_name": "Python 3"
    },
    "language_info": {
      "name": "python"
    }
  },
  "cells": [
    {
      "cell_type": "markdown",
      "metadata": {
        "id": "view-in-github",
        "colab_type": "text"
      },
      "source": [
        "<a href=\"https://colab.research.google.com/github/viniciusgcjr/climaRH/blob/main/Relat%C3%B3rio_CRH_2021.ipynb\" target=\"_parent\"><img src=\"https://colab.research.google.com/assets/colab-badge.svg\" alt=\"Open In Colab\"/></a>"
      ]
    },
    {
      "cell_type": "markdown",
      "metadata": {
        "id": "1zwIT2TYIZyW"
      },
      "source": [
        "# Relatório da disciplina de Clima e Recursos Hídricos\n",
        "\n",
        "<center><img src=\"https://upload.wikimedia.org/wikipedia/commons/thumb/8/85/Bras%C3%A3o_da_UFPE.png/161px-Bras%C3%A3o_da_UFPE.png\"/>\n",
        "\n",
        "UNIVERSIDADE FEDERAL DE PERNAMBUCO  \n",
        "CENTRO DE TECNOLOGIA E GEOCIÊNCIAS  \n",
        "DEPARTAMENTO DE ENGENHARIA CIVIL  \n",
        "PROGRAMA DE PÓS-GRADUAÇÃO EM ENGENHARIA CIVIL\n",
        "  \n",
        "___________________________      \n",
        "VINÍCIUS GOMES COSTA JÚNIOR  \n",
        "\n",
        "Recife, julho de 2021\n",
        "\n",
        "</center>\n",
        "\n",
        "\n"
      ]
    },
    {
      "cell_type": "markdown",
      "metadata": {
        "id": "p8lyFvktIfUs"
      },
      "source": [
        "## INTRODUÇÃO\n",
        "\n",
        "A disciplina de Clima e Recursos Hídricos possui carga horária de 45 horas e é ministrada no âmbito do Programa de Pós-Graduação em Engenharia Civil da Universidade Federal de Pernambuco. A disciplina tem como objetivo conduzir o aluno a entender os conceitos básicos\n",
        "relacionados a fenômenos que interferem na disponibilidade hídrica de bacias\n",
        "hidrográficas como eventos de seca, variabilidade climática natural e mudanças\n",
        "climáticas antropogênicas.\n",
        "\n",
        "Este relatório tem o objetivo de demonstrar as técnicas aprendidas durante o\n",
        "processo de aprendizagem desta disciplina no período compreendido entre 31 de\n",
        "março de 2021 a 7 de julho de 2021.\n",
        "\n",
        "Foram apresentados diversos softwares nesta disciplina, os alunos no entanto tinham liberdade para escolher os que mais se aderissem a eles. Este relatório foi produzido essencialmente na plataforma Colab do Google, com as linguagens python e R.\n",
        "\n",
        "A atividades deste relatório se referem aos seguintes conteúdos: Obtenção de dados hidrológicos e meteorológicos; Implementação de métodos estátisticos; confecção de índices e exploração de dados referentes aos cenários climáticos do IPCC."
      ]
    },
    {
      "cell_type": "markdown",
      "metadata": {
        "id": "n31L7NYWbQGV"
      },
      "source": [
        "## RESULTADOS E DISCUSSÃO"
      ]
    },
    {
      "cell_type": "markdown",
      "metadata": {
        "id": "GY0aH8tMIpqo"
      },
      "source": [
        "## API ERA5"
      ]
    },
    {
      "cell_type": "markdown",
      "metadata": {
        "id": "ATDxvUmmItCB"
      },
      "source": [
        "Primeiramente instalamos a interface de programaçao de aplicativos (API) do Climate Data Store.  \n",
        "\n",
        "O manual da API pode ser visitado em: https://cds.climate.copernicus.eu/api-how-to"
      ]
    },
    {
      "cell_type": "code",
      "metadata": {
        "colab": {
          "base_uri": "https://localhost:8080/"
        },
        "id": "SStCh2zhGsAL",
        "outputId": "0dc0fa6a-1ed3-41f0-fece-c115c76b9994"
      },
      "source": [
        "!pip install cdsapi"
      ],
      "execution_count": null,
      "outputs": [
        {
          "output_type": "stream",
          "text": [
            "Collecting cdsapi\n",
            "  Downloading cdsapi-0.5.1.tar.gz (12 kB)\n",
            "Requirement already satisfied: requests>=2.5.0 in /usr/local/lib/python3.7/dist-packages (from cdsapi) (2.23.0)\n",
            "Requirement already satisfied: tqdm in /usr/local/lib/python3.7/dist-packages (from cdsapi) (4.41.1)\n",
            "Requirement already satisfied: chardet<4,>=3.0.2 in /usr/local/lib/python3.7/dist-packages (from requests>=2.5.0->cdsapi) (3.0.4)\n",
            "Requirement already satisfied: urllib3!=1.25.0,!=1.25.1,<1.26,>=1.21.1 in /usr/local/lib/python3.7/dist-packages (from requests>=2.5.0->cdsapi) (1.24.3)\n",
            "Requirement already satisfied: idna<3,>=2.5 in /usr/local/lib/python3.7/dist-packages (from requests>=2.5.0->cdsapi) (2.10)\n",
            "Requirement already satisfied: certifi>=2017.4.17 in /usr/local/lib/python3.7/dist-packages (from requests>=2.5.0->cdsapi) (2021.5.30)\n",
            "Building wheels for collected packages: cdsapi\n",
            "  Building wheel for cdsapi (setup.py) ... \u001b[?25l\u001b[?25hdone\n",
            "  Created wheel for cdsapi: filename=cdsapi-0.5.1-py2.py3-none-any.whl size=11699 sha256=ae5a3e84c893868bee7536b380e4b716ae0fac029fe88fb3f56d40165800643a\n",
            "  Stored in directory: /root/.cache/pip/wheels/1d/2e/3c/3746e0cd076320584d6f47b688da7b13a5d5d1a92606779ca4\n",
            "Successfully built cdsapi\n",
            "Installing collected packages: cdsapi\n",
            "Successfully installed cdsapi-0.5.1\n"
          ],
          "name": "stdout"
        }
      ]
    },
    {
      "cell_type": "markdown",
      "metadata": {
        "id": "CsmFSxf_JWzV"
      },
      "source": [
        "Após o cadastro na plataforma cada usuário recebe uma UID e chave para utilizar a API. A chave para a variável key deve seguir um padrão similar a este:  \n",
        "\n",
        "'key: 9911:a15b80a7-39d7-121c-b11d-876326074brop'\n",
        "\n",
        "Como cada chave é individual importo a biblioteca getpass para que cada usuário possa inserir sua chave, quando este código for compartilhado."
      ]
    },
    {
      "cell_type": "code",
      "metadata": {
        "id": "4R2ELsuRRCe8"
      },
      "source": [
        "#importar getpass para solicitar a chave do usuário\n",
        "import getpass"
      ],
      "execution_count": null,
      "outputs": []
    },
    {
      "cell_type": "code",
      "metadata": {
        "id": "sMKi1OakKMAd",
        "colab": {
          "base_uri": "https://localhost:8080/"
        },
        "outputId": "721280a9-a9a0-448d-a602-99bfb1392a2d"
      },
      "source": [
        "url = 'url: https://cds.climate.copernicus.eu/api/v2'\n",
        "\n",
        "UID_KEY = getpass.getpass()\n",
        "key = 'key: ' + UID_KEY\n"
      ],
      "execution_count": null,
      "outputs": [
        {
          "output_type": "stream",
          "text": [
            "··········\n"
          ],
          "name": "stdout"
        }
      ]
    },
    {
      "cell_type": "markdown",
      "metadata": {
        "id": "kCucf4gYKOU8"
      },
      "source": [
        "Para se utilizar a api se faz necessário criar um arquivo com as credenciais acima e guardalas no diretório root do computador. Como o google colab roda em um computador linux, criei este arquivo da seguinte maneira:"
      ]
    },
    {
      "cell_type": "code",
      "metadata": {
        "id": "svBQc2OIGgVT"
      },
      "source": [
        "with open('/root/.cdsapirc', 'w') as f:\n",
        "    f.write('\\n'.join([url, key]))"
      ],
      "execution_count": null,
      "outputs": []
    },
    {
      "cell_type": "markdown",
      "metadata": {
        "id": "AXNJpDTmKuRH"
      },
      "source": [
        "Importa-se então a api e deve-se executa-la para testar seu funcionamento."
      ]
    },
    {
      "cell_type": "code",
      "metadata": {
        "colab": {
          "base_uri": "https://localhost:8080/"
        },
        "id": "YMF1DbEFGlIS",
        "outputId": "adc1ca82-f9ee-4336-ccef-d258d2564f36"
      },
      "source": [
        "import cdsapi\n",
        "cdsapi.Client()"
      ],
      "execution_count": null,
      "outputs": [
        {
          "output_type": "execute_result",
          "data": {
            "text/plain": [
              "<cdsapi.api.Client at 0x7ffb3580b490>"
            ]
          },
          "metadata": {
            "tags": []
          },
          "execution_count": 5
        }
      ]
    },
    {
      "cell_type": "markdown",
      "metadata": {
        "id": "gir50-AwLG2U"
      },
      "source": [
        "Os dados gerados neste trabalho foram persistidos no google drive. Neste caso uma permissão para a montagem é necessária. A montagem desta nuvem no ambiente colab é feita da seguinte maneira:"
      ]
    },
    {
      "cell_type": "code",
      "metadata": {
        "colab": {
          "base_uri": "https://localhost:8080/"
        },
        "id": "gJh3PwoVGoVP",
        "outputId": "3da258ae-660f-4256-df74-bdb410241136"
      },
      "source": [
        "from google.colab import drive\n",
        "drive.mount('/content/drive')"
      ],
      "execution_count": null,
      "outputs": [
        {
          "output_type": "stream",
          "text": [
            "Drive already mounted at /content/drive; to attempt to forcibly remount, call drive.mount(\"/content/drive\", force_remount=True).\n"
          ],
          "name": "stdout"
        }
      ]
    },
    {
      "cell_type": "markdown",
      "metadata": {
        "id": "4VHdzqVPND50"
      },
      "source": [
        "#### Requisição de dados\n",
        "\n",
        "\n",
        "A biblioteca xarray será utilizada uma vez que ela já integra as bibliotecas pandas e netcdf4, além de potencializar as operações que seriam possíveis no numpy.\n",
        "\n"
      ]
    },
    {
      "cell_type": "markdown",
      "metadata": {
        "id": "-t96gbMmjMnm"
      },
      "source": [
        "    Produzi o seguinte GIF para demonstrar a facilidade de se obter o código necessário na API:\n",
        "\n",
        "![API CDS](https://media.giphy.com/media/M3Ac8iCkTVMi3enu0r/giphy.gif)"
      ]
    },
    {
      "cell_type": "code",
      "metadata": {
        "colab": {
          "base_uri": "https://localhost:8080/"
        },
        "id": "PNjPH8YkG4kC",
        "outputId": "7baebf3d-ea2f-409f-ee79-758bdc690ab2"
      },
      "source": [
        "import xarray as xr #biblioteca para processar os dados\n",
        "from urllib.request import urlopen\n",
        "\n",
        "#leitura do dataset\n",
        "c = cdsapi.Client()\n",
        "\n",
        "# flag para o download data\n",
        "download_flag = False\n",
        "\n",
        "dataset = 'reanalysis-era5-single-levels-monthly-means'\n",
        "\n",
        "# parametros da api\n",
        "params = {\n",
        "    'format': 'netcdf',\n",
        "    'variable': ['total_precipitation', '2m_temperature'],\n",
        "    'product_type': 'monthly_averaged_reanalysis',\n",
        "    'expver': '1',\n",
        "    'year': [\n",
        "            '1981', '1982', '1983','1984', '1985', '1986','1987', '1988', '1989',\n",
        "            '1990', '1991', '1992','1993', '1994', '1995','1996', '1997', '1998',\n",
        "            '1999', '2000', '2001','2002', '2003', '2004','2005', '2006', '2007',\n",
        "            '2008', '2009', '2010','2011', '2012', '2013','2014', '2015', '2016',\n",
        "            '2017', '2018', '2019','2020'],\n",
        "    'month':['01', '02', '03', '04', '05', '06', '07', '08', '09','10', '11', '12'],\n",
        "    'time': '00:00',\n",
        "    'area': [-7.15, -41.5, -9.6, -35],\n",
        "    }\n",
        "\n",
        "#Escolha de diretório no google drive\n",
        "PernambucoERA5 = './drive/MyDrive/CRH/PernambucoERA5.nc'\n",
        "\n",
        "#Arquivo gerado pelos paramêtros especificados\n",
        "fl = c.retrieve(dataset, params)\n",
        "\n",
        "#Caso a flag esteja como True o download do arquivo em netcdf será realizado e\n",
        "#persistido no diretório especificado no google drive\n",
        "if download_flag:\n",
        "  fl.download(PernambucoERA5)\n",
        "\n",
        "#leitura dos dados\n",
        "with urlopen(fl.location) as f:\n",
        "    ds = xr.open_dataset(f.read())\n",
        "    print(ds)"
      ],
      "execution_count": null,
      "outputs": [
        {
          "output_type": "stream",
          "text": [
            "2021-07-20 02:54:24,398 INFO Welcome to the CDS\n",
            "2021-07-20 02:54:24,400 INFO Sending request to https://cds.climate.copernicus.eu/api/v2/resources/reanalysis-era5-single-levels-monthly-means\n",
            "2021-07-20 02:54:24,618 INFO Request is completed\n"
          ],
          "name": "stderr"
        },
        {
          "output_type": "stream",
          "text": [
            "<xarray.Dataset>\n",
            "Dimensions:    (latitude: 10, longitude: 27, time: 480)\n",
            "Coordinates:\n",
            "  * longitude  (longitude) float32 -41.5 -41.25 -41.0 ... -35.5 -35.25 -35.0\n",
            "  * latitude   (latitude) float32 -7.35 -7.6 -7.85 -8.1 ... -9.1 -9.35 -9.6\n",
            "  * time       (time) datetime64[ns] 1981-01-01 1981-02-01 ... 2020-12-01\n",
            "Data variables:\n",
            "    tp         (time, latitude, longitude) float32 ...\n",
            "    t2m        (time, latitude, longitude) float32 ...\n",
            "Attributes:\n",
            "    Conventions:  CF-1.6\n",
            "    history:      2021-07-13 22:36:50 GMT by grib_to_netcdf-2.20.0: /opt/ecmw...\n"
          ],
          "name": "stdout"
        }
      ]
    },
    {
      "cell_type": "markdown",
      "metadata": {
        "id": "8ORpd_J6LQEr"
      },
      "source": [
        "Variáveis recuperadas:  \n",
        "\n",
        "\n",
        "    tp         = total precipitation  \n",
        "    t2m        = temperatura do ar (2m)"
      ]
    },
    {
      "cell_type": "markdown",
      "metadata": {
        "id": "0TOKyA0-Kwu5"
      },
      "source": [
        "##### Mapa de temperatura do ar (2m) em 01/12/2020"
      ]
    },
    {
      "cell_type": "code",
      "metadata": {
        "colab": {
          "base_uri": "https://localhost:8080/",
          "height": 313
        },
        "id": "aOqg0tvIFCov",
        "outputId": "cf07d7a4-f83a-4a2f-f361-3055f04d7ee0"
      },
      "source": [
        "temperatura = ds.t2m - 273.15 #convertendo de k para ºC\n",
        "temperatura[479].plot()"
      ],
      "execution_count": null,
      "outputs": [
        {
          "output_type": "execute_result",
          "data": {
            "text/plain": [
              "<matplotlib.collections.QuadMesh at 0x7ffb309ece10>"
            ]
          },
          "metadata": {
            "tags": []
          },
          "execution_count": 8
        },
        {
          "output_type": "display_data",
          "data": {
            "image/png": "[encoded data removed]",
            "text/plain": [
              "<Figure size 432x288 with 2 Axes>"
            ]
          },
          "metadata": {
            "tags": [],
            "needs_background": "light"
          }
        }
      ]
    },
    {
      "cell_type": "markdown",
      "metadata": {
        "id": "bkjs57ZGOAE7"
      },
      "source": [
        "#### Dataframe\n",
        "\n",
        "A biblioteca pandas será utilizada para manipulação dos dados, sendo uma biblioteca elegante e poderosa para este fim."
      ]
    },
    {
      "cell_type": "code",
      "metadata": {
        "colab": {
          "base_uri": "https://localhost:8080/",
          "height": 473
        },
        "id": "3fDZOlEQHRej",
        "outputId": "047fc473-b702-4d5b-d908-15d3fd7c4ac2"
      },
      "source": [
        "#Transformação dos dados em dataframe\n",
        "df = ds.to_dataframe()\n",
        "\n",
        "#Conversão de m para mm\n",
        "df.loc[:,'tp'] = df.loc[:,'tp']*1000\n",
        "\n",
        "#Conversão de K para ºC\n",
        "df.loc[:,'t2m'] = df.loc[:,'t2m'] - 273.15\n",
        "\n",
        "df"
      ],
      "execution_count": null,
      "outputs": [
        {
          "output_type": "stream",
          "text": [
            "2021-07-20 02:54:26,696 INFO NumExpr defaulting to 2 threads.\n"
          ],
          "name": "stderr"
        },
        {
          "output_type": "execute_result",
          "data": {
            "text/html": [
              "<div>\n",
              "<style scoped>\n",
              "    .dataframe tbody tr th:only-of-type {\n",
              "        vertical-align: middle;\n",
              "    }\n",
              "\n",
              "    .dataframe tbody tr th {\n",
              "        vertical-align: top;\n",
              "    }\n",
              "\n",
              "    .dataframe thead th {\n",
              "        text-align: right;\n",
              "    }\n",
              "</style>\n",
              "<table border=\"1\" class=\"dataframe\">\n",
              "  <thead>\n",
              "    <tr style=\"text-align: right;\">\n",
              "      <th></th>\n",
              "      <th></th>\n",
              "      <th></th>\n",
              "      <th>tp</th>\n",
              "      <th>t2m</th>\n",
              "    </tr>\n",
              "    <tr>\n",
              "      <th>latitude</th>\n",
              "      <th>longitude</th>\n",
              "      <th>time</th>\n",
              "      <th></th>\n",
              "      <th></th>\n",
              "    </tr>\n",
              "  </thead>\n",
              "  <tbody>\n",
              "    <tr>\n",
              "      <th rowspan=\"5\" valign=\"top\">-7.35</th>\n",
              "      <th rowspan=\"5\" valign=\"top\">-41.5</th>\n",
              "      <th>1981-01-01</th>\n",
              "      <td>4.351404</td>\n",
              "      <td>26.504205</td>\n",
              "    </tr>\n",
              "    <tr>\n",
              "      <th>1981-02-01</th>\n",
              "      <td>0.993128</td>\n",
              "      <td>28.256006</td>\n",
              "    </tr>\n",
              "    <tr>\n",
              "      <th>1981-03-01</th>\n",
              "      <td>10.961049</td>\n",
              "      <td>27.177423</td>\n",
              "    </tr>\n",
              "    <tr>\n",
              "      <th>1981-04-01</th>\n",
              "      <td>1.676493</td>\n",
              "      <td>26.214044</td>\n",
              "    </tr>\n",
              "    <tr>\n",
              "      <th>1981-05-01</th>\n",
              "      <td>0.006800</td>\n",
              "      <td>27.354944</td>\n",
              "    </tr>\n",
              "    <tr>\n",
              "      <th>...</th>\n",
              "      <th>...</th>\n",
              "      <th>...</th>\n",
              "      <td>...</td>\n",
              "      <td>...</td>\n",
              "    </tr>\n",
              "    <tr>\n",
              "      <th rowspan=\"5\" valign=\"top\">-9.60</th>\n",
              "      <th rowspan=\"5\" valign=\"top\">-35.0</th>\n",
              "      <th>2020-08-01</th>\n",
              "      <td>1.073591</td>\n",
              "      <td>25.054163</td>\n",
              "    </tr>\n",
              "    <tr>\n",
              "      <th>2020-09-01</th>\n",
              "      <td>1.157453</td>\n",
              "      <td>25.116876</td>\n",
              "    </tr>\n",
              "    <tr>\n",
              "      <th>2020-10-01</th>\n",
              "      <td>0.602148</td>\n",
              "      <td>25.923242</td>\n",
              "    </tr>\n",
              "    <tr>\n",
              "      <th>2020-11-01</th>\n",
              "      <td>1.075857</td>\n",
              "      <td>26.252618</td>\n",
              "    </tr>\n",
              "    <tr>\n",
              "      <th>2020-12-01</th>\n",
              "      <td>1.106078</td>\n",
              "      <td>26.365930</td>\n",
              "    </tr>\n",
              "  </tbody>\n",
              "</table>\n",
              "<p>129600 rows × 2 columns</p>\n",
              "</div>"
            ],
            "text/plain": [
              "                                      tp        t2m\n",
              "latitude longitude time                            \n",
              "-7.35    -41.5     1981-01-01   4.351404  26.504205\n",
              "                   1981-02-01   0.993128  28.256006\n",
              "                   1981-03-01  10.961049  27.177423\n",
              "                   1981-04-01   1.676493  26.214044\n",
              "                   1981-05-01   0.006800  27.354944\n",
              "...                                  ...        ...\n",
              "-9.60    -35.0     2020-08-01   1.073591  25.054163\n",
              "                   2020-09-01   1.157453  25.116876\n",
              "                   2020-10-01   0.602148  25.923242\n",
              "                   2020-11-01   1.075857  26.252618\n",
              "                   2020-12-01   1.106078  26.365930\n",
              "\n",
              "[129600 rows x 2 columns]"
            ]
          },
          "metadata": {
            "tags": []
          },
          "execution_count": 9
        }
      ]
    },
    {
      "cell_type": "markdown",
      "metadata": {
        "id": "bONgKxeXNJix"
      },
      "source": [
        "##### Descrição básica dos dados"
      ]
    },
    {
      "cell_type": "code",
      "metadata": {
        "colab": {
          "base_uri": "https://localhost:8080/",
          "height": 300
        },
        "id": "SkxqAma1NCN4",
        "outputId": "2345e4ca-c1a3-463b-8703-c2802282bfb5"
      },
      "source": [
        "df.describe()"
      ],
      "execution_count": null,
      "outputs": [
        {
          "output_type": "execute_result",
          "data": {
            "text/html": [
              "<div>\n",
              "<style scoped>\n",
              "    .dataframe tbody tr th:only-of-type {\n",
              "        vertical-align: middle;\n",
              "    }\n",
              "\n",
              "    .dataframe tbody tr th {\n",
              "        vertical-align: top;\n",
              "    }\n",
              "\n",
              "    .dataframe thead th {\n",
              "        text-align: right;\n",
              "    }\n",
              "</style>\n",
              "<table border=\"1\" class=\"dataframe\">\n",
              "  <thead>\n",
              "    <tr style=\"text-align: right;\">\n",
              "      <th></th>\n",
              "      <th>tp</th>\n",
              "      <th>t2m</th>\n",
              "    </tr>\n",
              "  </thead>\n",
              "  <tbody>\n",
              "    <tr>\n",
              "      <th>count</th>\n",
              "      <td>129600.000000</td>\n",
              "      <td>129600.000000</td>\n",
              "    </tr>\n",
              "    <tr>\n",
              "      <th>mean</th>\n",
              "      <td>1.658527</td>\n",
              "      <td>25.697175</td>\n",
              "    </tr>\n",
              "    <tr>\n",
              "      <th>std</th>\n",
              "      <td>2.050772</td>\n",
              "      <td>1.983663</td>\n",
              "    </tr>\n",
              "    <tr>\n",
              "      <th>min</th>\n",
              "      <td>0.000000</td>\n",
              "      <td>19.296411</td>\n",
              "    </tr>\n",
              "    <tr>\n",
              "      <th>25%</th>\n",
              "      <td>0.287475</td>\n",
              "      <td>24.311792</td>\n",
              "    </tr>\n",
              "    <tr>\n",
              "      <th>50%</th>\n",
              "      <td>0.930420</td>\n",
              "      <td>25.708582</td>\n",
              "    </tr>\n",
              "    <tr>\n",
              "      <th>75%</th>\n",
              "      <td>2.249176</td>\n",
              "      <td>27.066003</td>\n",
              "    </tr>\n",
              "    <tr>\n",
              "      <th>max</th>\n",
              "      <td>24.755669</td>\n",
              "      <td>32.821436</td>\n",
              "    </tr>\n",
              "  </tbody>\n",
              "</table>\n",
              "</div>"
            ],
            "text/plain": [
              "                  tp            t2m\n",
              "count  129600.000000  129600.000000\n",
              "mean        1.658527      25.697175\n",
              "std         2.050772       1.983663\n",
              "min         0.000000      19.296411\n",
              "25%         0.287475      24.311792\n",
              "50%         0.930420      25.708582\n",
              "75%         2.249176      27.066003\n",
              "max        24.755669      32.821436"
            ]
          },
          "metadata": {
            "tags": []
          },
          "execution_count": 10
        }
      ]
    },
    {
      "cell_type": "markdown",
      "metadata": {
        "id": "Em3J3r03Ocpm"
      },
      "source": [
        "#### Ponto mais próximo ao posto meteorológico\n",
        "\n",
        "É necessário criar uma função para determinar qual o ponto de grade no arquivo netcdf que mais se aproxima da estação meteorológica que será utilizada. Isto facilitará na produção de um script sem intervenção humana, deixando o processo bem mais automático e sem possíveis falhas."
      ]
    },
    {
      "cell_type": "code",
      "metadata": {
        "id": "HqBp4rY7N7Sw"
      },
      "source": [
        "import numpy as np\n",
        "\n",
        "def geo_idx(dd, dd_array):\n",
        "\n",
        "   geo_idx = (np.abs(dd_array - dd)).argmin()\n",
        "   return geo_idx\n"
      ],
      "execution_count": null,
      "outputs": []
    },
    {
      "cell_type": "markdown",
      "metadata": {
        "id": "yll5OpvNPzul"
      },
      "source": [
        "Visualização do array de latitude e longitude do ERA5"
      ]
    },
    {
      "cell_type": "code",
      "metadata": {
        "colab": {
          "base_uri": "https://localhost:8080/"
        },
        "id": "klnbnKYNPxep",
        "outputId": "1dd8d58d-a805-4114-9e37-b28f02d3d2d3"
      },
      "source": [
        "print(ds.variables['latitude'][:])\n",
        "print(ds.variables['longitude'][:])"
      ],
      "execution_count": null,
      "outputs": [
        {
          "output_type": "stream",
          "text": [
            "<xarray.IndexVariable 'latitude' (latitude: 10)>\n",
            "array([-7.35, -7.6 , -7.85, -8.1 , -8.35, -8.6 , -8.85, -9.1 , -9.35, -9.6 ],\n",
            "      dtype=float32)\n",
            "Attributes:\n",
            "    units:      degrees_north\n",
            "    long_name:  latitude\n",
            "<xarray.IndexVariable 'longitude' (longitude: 27)>\n",
            "array([-41.5 , -41.25, -41.  , -40.75, -40.5 , -40.25, -40.  , -39.75, -39.5 ,\n",
            "       -39.25, -39.  , -38.75, -38.5 , -38.25, -38.  , -37.75, -37.5 , -37.25,\n",
            "       -37.  , -36.75, -36.5 , -36.25, -36.  , -35.75, -35.5 , -35.25, -35.  ],\n",
            "      dtype=float32)\n",
            "Attributes:\n",
            "    units:      degrees_east\n",
            "    long_name:  longitude\n"
          ],
          "name": "stdout"
        }
      ]
    },
    {
      "cell_type": "markdown",
      "metadata": {
        "id": "PrJbiGemQr6c"
      },
      "source": [
        "A estação escolhida para a comparação está localizada em Petrolina e pertece ao Instituto Nacional de Meteorologia (INMET).\n",
        "\n",
        "As informações da estação podem ser visualizadas no site: https://mapas.inmet.gov.br/\n",
        "\n",
        "\n",
        "![API CDS](https://media.giphy.com/media/oL6wz3cLib6jCxtxPJ/giphy.gif)"
      ]
    },
    {
      "cell_type": "code",
      "metadata": {
        "id": "NcbhU6N6P0ph"
      },
      "source": [
        "#Estação 82983\n",
        "inmet_lat = -9.39,\n",
        "inmet_lon = -40.52"
      ],
      "execution_count": null,
      "outputs": []
    },
    {
      "cell_type": "code",
      "metadata": {
        "colab": {
          "base_uri": "https://localhost:8080/"
        },
        "id": "bcvW6u20RQdx",
        "outputId": "151388c4-0563-4387-a2fc-43b976c715da"
      },
      "source": [
        "lats_ERA5 = ds.variables['latitude'][:]\n",
        "lons_ERA5 = ds.variables['longitude'][:]\n",
        "\n",
        "lat_idx = geo_idx(inmet_lat, lats_ERA5)\n",
        "lon_idx = geo_idx(inmet_lon, lons_ERA5)"
      ],
      "execution_count": null,
      "outputs": [
        {
          "output_type": "stream",
          "text": [
            "/usr/local/lib/python3.7/dist-packages/ipykernel_launcher.py:5: DeprecationWarning: Behaviour of argmin/argmax with neither dim nor axis argument will change to return a dict of indices of each dimension. To get a single, flat index, please use np.argmin(da.data) or np.argmax(da.data) instead of da.argmin() or da.argmax().\n",
            "  \"\"\"\n",
            "/usr/local/lib/python3.7/dist-packages/ipykernel_launcher.py:5: DeprecationWarning: Behaviour of argmin/argmax with neither dim nor axis argument will change to return a dict of indices of each dimension. To get a single, flat index, please use np.argmin(da.data) or np.argmax(da.data) instead of da.argmin() or da.argmax().\n",
            "  \"\"\"\n"
          ],
          "name": "stderr"
        }
      ]
    },
    {
      "cell_type": "markdown",
      "metadata": {
        "id": "v5qc1547Mm89"
      },
      "source": [
        "Índices do array que correspondem o ponto da estação"
      ]
    },
    {
      "cell_type": "code",
      "metadata": {
        "colab": {
          "base_uri": "https://localhost:8080/"
        },
        "id": "co7w5G1PJoox",
        "outputId": "8c4a3ee7-7ad6-4183-b0f7-2ad39419614b"
      },
      "source": [
        "print(lat_idx.values)\n",
        "print(lon_idx.values)"
      ],
      "execution_count": null,
      "outputs": [
        {
          "output_type": "stream",
          "text": [
            "8\n",
            "4\n"
          ],
          "name": "stdout"
        }
      ]
    },
    {
      "cell_type": "markdown",
      "metadata": {
        "id": "D1cPQw_PKaXG"
      },
      "source": [
        "#### Série de precipitação\n",
        "\n",
        "Série de precipitação para o ponto de grade que compreende a estação do INMET"
      ]
    },
    {
      "cell_type": "code",
      "metadata": {
        "colab": {
          "base_uri": "https://localhost:8080/",
          "height": 324
        },
        "id": "fs59lw1WDHw7",
        "outputId": "5b83bd9c-f36e-4ecc-a264-3688f6612c75"
      },
      "source": [
        "tp = ds.tp * 1000 #ajuste de escala\n",
        "tp.isel(latitude=8, longitude=4).plot()"
      ],
      "execution_count": null,
      "outputs": [
        {
          "output_type": "execute_result",
          "data": {
            "text/plain": [
              "[<matplotlib.lines.Line2D at 0x7ffb30951ed0>]"
            ]
          },
          "metadata": {
            "tags": []
          },
          "execution_count": 16
        },
        {
          "output_type": "display_data",
          "data": {
            "image/png": "[encoded data removed]",
            "text/plain": [
              "<Figure size 432x288 with 1 Axes>"
            ]
          },
          "metadata": {
            "tags": [],
            "needs_background": "light"
          }
        }
      ]
    },
    {
      "cell_type": "markdown",
      "metadata": {
        "id": "dHOLfM6BNX7H"
      },
      "source": [
        "#### Tabela filtrada"
      ]
    },
    {
      "cell_type": "markdown",
      "metadata": {
        "id": "Ph1QWxbrYfb3"
      },
      "source": [
        "Como os dados do era são do tipo float, não é possível comparar diretamente o\n",
        "valor de latitude e longitude, logo utiliza-se um delta para a query que\n",
        "retornará os dados do ponto de grade mais próximos das coordenadas da estação que foram passadas acima.\n",
        "\n",
        "O delta escolhido foi de 0.1, visto que a grade tem espacamento de 0,25."
      ]
    },
    {
      "cell_type": "code",
      "metadata": {
        "colab": {
          "base_uri": "https://localhost:8080/",
          "height": 455
        },
        "id": "cnLiyaiTR2tW",
        "outputId": "811e0173-c218-459e-871f-21d988ec749e"
      },
      "source": [
        "delta = 0.1\n",
        "latitude1 = str(lats_ERA5[lat_idx].values + delta )\n",
        "latitude2 = str(lats_ERA5[lat_idx].values - delta)\n",
        "longitude1 = str(lons_ERA5[lon_idx].values + delta)\n",
        "longitude2 = str(lons_ERA5[lon_idx].values - delta)\n",
        "\n",
        "tabelaEra5 = (df.query('latitude < ' + latitude1 + ' and latitude > ' + latitude2 + ' and longitude < ' + longitude1 + ' and longitude > ' + longitude2))\n",
        "tabelaEra5"
      ],
      "execution_count": null,
      "outputs": [
        {
          "output_type": "execute_result",
          "data": {
            "text/html": [
              "<div>\n",
              "<style scoped>\n",
              "    .dataframe tbody tr th:only-of-type {\n",
              "        vertical-align: middle;\n",
              "    }\n",
              "\n",
              "    .dataframe tbody tr th {\n",
              "        vertical-align: top;\n",
              "    }\n",
              "\n",
              "    .dataframe thead th {\n",
              "        text-align: right;\n",
              "    }\n",
              "</style>\n",
              "<table border=\"1\" class=\"dataframe\">\n",
              "  <thead>\n",
              "    <tr style=\"text-align: right;\">\n",
              "      <th></th>\n",
              "      <th></th>\n",
              "      <th></th>\n",
              "      <th>tp</th>\n",
              "      <th>t2m</th>\n",
              "    </tr>\n",
              "    <tr>\n",
              "      <th>latitude</th>\n",
              "      <th>longitude</th>\n",
              "      <th>time</th>\n",
              "      <th></th>\n",
              "      <th></th>\n",
              "    </tr>\n",
              "  </thead>\n",
              "  <tbody>\n",
              "    <tr>\n",
              "      <th rowspan=\"11\" valign=\"top\">-9.35</th>\n",
              "      <th rowspan=\"11\" valign=\"top\">-40.5</th>\n",
              "      <th>1981-01-01</th>\n",
              "      <td>2.243132</td>\n",
              "      <td>26.472437</td>\n",
              "    </tr>\n",
              "    <tr>\n",
              "      <th>1981-02-01</th>\n",
              "      <td>0.528485</td>\n",
              "      <td>27.565454</td>\n",
              "    </tr>\n",
              "    <tr>\n",
              "      <th>1981-03-01</th>\n",
              "      <td>9.087366</td>\n",
              "      <td>25.965326</td>\n",
              "    </tr>\n",
              "    <tr>\n",
              "      <th>1981-04-01</th>\n",
              "      <td>1.852529</td>\n",
              "      <td>24.651483</td>\n",
              "    </tr>\n",
              "    <tr>\n",
              "      <th>1981-05-01</th>\n",
              "      <td>0.150726</td>\n",
              "      <td>24.467798</td>\n",
              "    </tr>\n",
              "    <tr>\n",
              "      <th>...</th>\n",
              "      <td>...</td>\n",
              "      <td>...</td>\n",
              "    </tr>\n",
              "    <tr>\n",
              "      <th>2020-08-01</th>\n",
              "      <td>0.163947</td>\n",
              "      <td>24.956934</td>\n",
              "    </tr>\n",
              "    <tr>\n",
              "      <th>2020-09-01</th>\n",
              "      <td>0.100862</td>\n",
              "      <td>26.793573</td>\n",
              "    </tr>\n",
              "    <tr>\n",
              "      <th>2020-10-01</th>\n",
              "      <td>0.338850</td>\n",
              "      <td>29.294122</td>\n",
              "    </tr>\n",
              "    <tr>\n",
              "      <th>2020-11-01</th>\n",
              "      <td>1.808710</td>\n",
              "      <td>27.216028</td>\n",
              "    </tr>\n",
              "    <tr>\n",
              "      <th>2020-12-01</th>\n",
              "      <td>0.200968</td>\n",
              "      <td>28.621088</td>\n",
              "    </tr>\n",
              "  </tbody>\n",
              "</table>\n",
              "<p>480 rows × 2 columns</p>\n",
              "</div>"
            ],
            "text/plain": [
              "                                     tp        t2m\n",
              "latitude longitude time                           \n",
              "-9.35    -40.5     1981-01-01  2.243132  26.472437\n",
              "                   1981-02-01  0.528485  27.565454\n",
              "                   1981-03-01  9.087366  25.965326\n",
              "                   1981-04-01  1.852529  24.651483\n",
              "                   1981-05-01  0.150726  24.467798\n",
              "...                                 ...        ...\n",
              "                   2020-08-01  0.163947  24.956934\n",
              "                   2020-09-01  0.100862  26.793573\n",
              "                   2020-10-01  0.338850  29.294122\n",
              "                   2020-11-01  1.808710  27.216028\n",
              "                   2020-12-01  0.200968  28.621088\n",
              "\n",
              "[480 rows x 2 columns]"
            ]
          },
          "metadata": {
            "tags": []
          },
          "execution_count": 17
        }
      ]
    },
    {
      "cell_type": "markdown",
      "metadata": {
        "id": "xlEigUqxlpCl"
      },
      "source": [
        "Agora se pode comparar os dados da estação do INMET com os dados provenientes do ERA5."
      ]
    },
    {
      "cell_type": "code",
      "metadata": {
        "colab": {
          "base_uri": "https://localhost:8080/",
          "height": 424
        },
        "id": "Tqk8vfuPo4ht",
        "outputId": "a7c528fc-4c18-437b-b970-1ec2192377a7"
      },
      "source": [
        "dftabela=tabelaEra5.reset_index()\n",
        "dftabela=dftabela.drop(['latitude'],axis=1)\n",
        "dftabela=dftabela.drop(['longitude'],axis=1)\n",
        "#dftabela.set_index('time', inplace=True) #Caso queira configurar a data como índice do dataframe\n",
        "dftabela"
      ],
      "execution_count": null,
      "outputs": [
        {
          "output_type": "execute_result",
          "data": {
            "text/html": [
              "<div>\n",
              "<style scoped>\n",
              "    .dataframe tbody tr th:only-of-type {\n",
              "        vertical-align: middle;\n",
              "    }\n",
              "\n",
              "    .dataframe tbody tr th {\n",
              "        vertical-align: top;\n",
              "    }\n",
              "\n",
              "    .dataframe thead th {\n",
              "        text-align: right;\n",
              "    }\n",
              "</style>\n",
              "<table border=\"1\" class=\"dataframe\">\n",
              "  <thead>\n",
              "    <tr style=\"text-align: right;\">\n",
              "      <th></th>\n",
              "      <th>time</th>\n",
              "      <th>tp</th>\n",
              "      <th>t2m</th>\n",
              "    </tr>\n",
              "  </thead>\n",
              "  <tbody>\n",
              "    <tr>\n",
              "      <th>0</th>\n",
              "      <td>1981-01-01</td>\n",
              "      <td>2.243132</td>\n",
              "      <td>26.472437</td>\n",
              "    </tr>\n",
              "    <tr>\n",
              "      <th>1</th>\n",
              "      <td>1981-02-01</td>\n",
              "      <td>0.528485</td>\n",
              "      <td>27.565454</td>\n",
              "    </tr>\n",
              "    <tr>\n",
              "      <th>2</th>\n",
              "      <td>1981-03-01</td>\n",
              "      <td>9.087366</td>\n",
              "      <td>25.965326</td>\n",
              "    </tr>\n",
              "    <tr>\n",
              "      <th>3</th>\n",
              "      <td>1981-04-01</td>\n",
              "      <td>1.852529</td>\n",
              "      <td>24.651483</td>\n",
              "    </tr>\n",
              "    <tr>\n",
              "      <th>4</th>\n",
              "      <td>1981-05-01</td>\n",
              "      <td>0.150726</td>\n",
              "      <td>24.467798</td>\n",
              "    </tr>\n",
              "    <tr>\n",
              "      <th>...</th>\n",
              "      <td>...</td>\n",
              "      <td>...</td>\n",
              "      <td>...</td>\n",
              "    </tr>\n",
              "    <tr>\n",
              "      <th>475</th>\n",
              "      <td>2020-08-01</td>\n",
              "      <td>0.163947</td>\n",
              "      <td>24.956934</td>\n",
              "    </tr>\n",
              "    <tr>\n",
              "      <th>476</th>\n",
              "      <td>2020-09-01</td>\n",
              "      <td>0.100862</td>\n",
              "      <td>26.793573</td>\n",
              "    </tr>\n",
              "    <tr>\n",
              "      <th>477</th>\n",
              "      <td>2020-10-01</td>\n",
              "      <td>0.338850</td>\n",
              "      <td>29.294122</td>\n",
              "    </tr>\n",
              "    <tr>\n",
              "      <th>478</th>\n",
              "      <td>2020-11-01</td>\n",
              "      <td>1.808710</td>\n",
              "      <td>27.216028</td>\n",
              "    </tr>\n",
              "    <tr>\n",
              "      <th>479</th>\n",
              "      <td>2020-12-01</td>\n",
              "      <td>0.200968</td>\n",
              "      <td>28.621088</td>\n",
              "    </tr>\n",
              "  </tbody>\n",
              "</table>\n",
              "<p>480 rows × 3 columns</p>\n",
              "</div>"
            ],
            "text/plain": [
              "          time        tp        t2m\n",
              "0   1981-01-01  2.243132  26.472437\n",
              "1   1981-02-01  0.528485  27.565454\n",
              "2   1981-03-01  9.087366  25.965326\n",
              "3   1981-04-01  1.852529  24.651483\n",
              "4   1981-05-01  0.150726  24.467798\n",
              "..         ...       ...        ...\n",
              "475 2020-08-01  0.163947  24.956934\n",
              "476 2020-09-01  0.100862  26.793573\n",
              "477 2020-10-01  0.338850  29.294122\n",
              "478 2020-11-01  1.808710  27.216028\n",
              "479 2020-12-01  0.200968  28.621088\n",
              "\n",
              "[480 rows x 3 columns]"
            ]
          },
          "metadata": {
            "tags": []
          },
          "execution_count": 18
        }
      ]
    },
    {
      "cell_type": "markdown",
      "metadata": {
        "id": "W0BKvJW9Xmr6"
      },
      "source": [
        "## API INMET  \n",
        "\n",
        "O manual da API pode ser encontrado em: https://portal.inmet.gov.br/manual"
      ]
    },
    {
      "cell_type": "code",
      "metadata": {
        "id": "DFnp05WvXcIq"
      },
      "source": [
        "import requests\n",
        "import pandas as pd"
      ],
      "execution_count": null,
      "outputs": []
    },
    {
      "cell_type": "markdown",
      "metadata": {
        "id": "2TqzfMgm3uIX"
      },
      "source": [
        "Código da estação e geocode de Petrolina: 82983; 2611101."
      ]
    },
    {
      "cell_type": "code",
      "metadata": {
        "id": "LKThAABvbYO2"
      },
      "source": [
        "response_inmet = requests.get('https://apitempo.inmet.gov.br/estacao/diaria/1981-01-01/2020-12-31/82983').json() #Requisição de dados ao INMET"
      ],
      "execution_count": null,
      "outputs": []
    },
    {
      "cell_type": "code",
      "metadata": {
        "colab": {
          "base_uri": "https://localhost:8080/",
          "height": 238
        },
        "id": "v1mYQnDhbuH1",
        "outputId": "5230f333-73f4-4ece-9e04-37fabd8df6c9"
      },
      "source": [
        "df_projeta = pd.DataFrame.from_dict(response_inmet) #Conversão de json para dataframe\n",
        "df_projeta['DT_MEDICAO'] =  pd.to_datetime(df_projeta['DT_MEDICAO'], format='%Y-%m-%d')\n",
        "df_projeta.set_index('DT_MEDICAO', inplace=True)\n",
        "df_projeta.head()"
      ],
      "execution_count": null,
      "outputs": [
        {
          "output_type": "execute_result",
          "data": {
            "text/html": [
              "<div>\n",
              "<style scoped>\n",
              "    .dataframe tbody tr th:only-of-type {\n",
              "        vertical-align: middle;\n",
              "    }\n",
              "\n",
              "    .dataframe tbody tr th {\n",
              "        vertical-align: top;\n",
              "    }\n",
              "\n",
              "    .dataframe thead th {\n",
              "        text-align: right;\n",
              "    }\n",
              "</style>\n",
              "<table border=\"1\" class=\"dataframe\">\n",
              "  <thead>\n",
              "    <tr style=\"text-align: right;\">\n",
              "      <th></th>\n",
              "      <th>TEMP_MAX</th>\n",
              "      <th>UMID_MED</th>\n",
              "      <th>UF</th>\n",
              "      <th>DC_NOME</th>\n",
              "      <th>TEMP_MED</th>\n",
              "      <th>CHUVA</th>\n",
              "      <th>INSOLACAO</th>\n",
              "      <th>CD_ESTACAO</th>\n",
              "      <th>VL_LATITUDE</th>\n",
              "      <th>VL_LONGITUDE</th>\n",
              "      <th>TEMP_MIN</th>\n",
              "    </tr>\n",
              "    <tr>\n",
              "      <th>DT_MEDICAO</th>\n",
              "      <th></th>\n",
              "      <th></th>\n",
              "      <th></th>\n",
              "      <th></th>\n",
              "      <th></th>\n",
              "      <th></th>\n",
              "      <th></th>\n",
              "      <th></th>\n",
              "      <th></th>\n",
              "      <th></th>\n",
              "      <th></th>\n",
              "    </tr>\n",
              "  </thead>\n",
              "  <tbody>\n",
              "    <tr>\n",
              "      <th>1981-01-01</th>\n",
              "      <td>29.6</td>\n",
              "      <td>74.75</td>\n",
              "      <td>PE</td>\n",
              "      <td>PETROLINA</td>\n",
              "      <td>25.44</td>\n",
              "      <td>16.4</td>\n",
              "      <td>0.7</td>\n",
              "      <td>82983</td>\n",
              "      <td>-9.3886111</td>\n",
              "      <td>-40.52333332</td>\n",
              "      <td>22.2</td>\n",
              "    </tr>\n",
              "    <tr>\n",
              "      <th>1981-01-02</th>\n",
              "      <td>32.1</td>\n",
              "      <td>57.5</td>\n",
              "      <td>PE</td>\n",
              "      <td>PETROLINA</td>\n",
              "      <td>27.5</td>\n",
              "      <td>0</td>\n",
              "      <td>4.6</td>\n",
              "      <td>82983</td>\n",
              "      <td>-9.3886111</td>\n",
              "      <td>-40.52333332</td>\n",
              "      <td>23.4</td>\n",
              "    </tr>\n",
              "    <tr>\n",
              "      <th>1981-01-03</th>\n",
              "      <td>31.5</td>\n",
              "      <td>58.5</td>\n",
              "      <td>PE</td>\n",
              "      <td>PETROLINA</td>\n",
              "      <td>26.74</td>\n",
              "      <td>4.6</td>\n",
              "      <td>5.5</td>\n",
              "      <td>82983</td>\n",
              "      <td>-9.3886111</td>\n",
              "      <td>-40.52333332</td>\n",
              "      <td>22</td>\n",
              "    </tr>\n",
              "    <tr>\n",
              "      <th>1981-01-04</th>\n",
              "      <td>32.3</td>\n",
              "      <td>46.75</td>\n",
              "      <td>PE</td>\n",
              "      <td>PETROLINA</td>\n",
              "      <td>27.1</td>\n",
              "      <td>0</td>\n",
              "      <td>8.6</td>\n",
              "      <td>82983</td>\n",
              "      <td>-9.3886111</td>\n",
              "      <td>-40.52333332</td>\n",
              "      <td>22.4</td>\n",
              "    </tr>\n",
              "    <tr>\n",
              "      <th>1981-01-05</th>\n",
              "      <td>31.7</td>\n",
              "      <td>55.25</td>\n",
              "      <td>PE</td>\n",
              "      <td>PETROLINA</td>\n",
              "      <td>26.5</td>\n",
              "      <td>0</td>\n",
              "      <td>11.1</td>\n",
              "      <td>82983</td>\n",
              "      <td>-9.3886111</td>\n",
              "      <td>-40.52333332</td>\n",
              "      <td>21.4</td>\n",
              "    </tr>\n",
              "  </tbody>\n",
              "</table>\n",
              "</div>"
            ],
            "text/plain": [
              "           TEMP_MAX UMID_MED  UF  ... VL_LATITUDE  VL_LONGITUDE TEMP_MIN\n",
              "DT_MEDICAO                        ...                                   \n",
              "1981-01-01     29.6    74.75  PE  ...  -9.3886111  -40.52333332     22.2\n",
              "1981-01-02     32.1     57.5  PE  ...  -9.3886111  -40.52333332     23.4\n",
              "1981-01-03     31.5     58.5  PE  ...  -9.3886111  -40.52333332       22\n",
              "1981-01-04     32.3    46.75  PE  ...  -9.3886111  -40.52333332     22.4\n",
              "1981-01-05     31.7    55.25  PE  ...  -9.3886111  -40.52333332     21.4\n",
              "\n",
              "[5 rows x 11 columns]"
            ]
          },
          "metadata": {
            "tags": []
          },
          "execution_count": 21
        }
      ]
    },
    {
      "cell_type": "code",
      "metadata": {
        "id": "lheMqkWahYS4"
      },
      "source": [
        "df_projeta[\"TEMP_MED\"] = pd.to_numeric(df_projeta[\"TEMP_MED\"], downcast=\"float\") #conversão do dado para o tipo float\n",
        "df_projeta[\"CHUVA\"] = pd.to_numeric(df_projeta[\"CHUVA\"], downcast=\"float\")\n",
        "tab = df_projeta[['TEMP_MED', 'CHUVA']]\n"
      ],
      "execution_count": null,
      "outputs": []
    },
    {
      "cell_type": "markdown",
      "metadata": {
        "id": "hhnaGc6Z3Hgd"
      },
      "source": [
        "Os dados do INMET tem resolução temporal diária, logo é necessário agrupar os dados em médias mensais:"
      ]
    },
    {
      "cell_type": "code",
      "metadata": {
        "colab": {
          "base_uri": "https://localhost:8080/",
          "height": 424
        },
        "id": "kEDppy11gtei",
        "outputId": "e7fe8b3f-5ed6-49e2-9135-c6f4139fee55"
      },
      "source": [
        "tab = tab.groupby(pd.Grouper(freq='1M', origin='start')).mean()\n",
        "tab = tab.reset_index()\n",
        "#df_projeta_media_mensal = tab.groupby(by=[tab.index.year, tab.index.month]).mean() # Se preferir com datas em multinível\n",
        "#df_projeta_media_mensal.reset_index(inplace = True) #caso queira reiniciar o índice\n",
        "tab"
      ],
      "execution_count": null,
      "outputs": [
        {
          "output_type": "execute_result",
          "data": {
            "text/html": [
              "<div>\n",
              "<style scoped>\n",
              "    .dataframe tbody tr th:only-of-type {\n",
              "        vertical-align: middle;\n",
              "    }\n",
              "\n",
              "    .dataframe tbody tr th {\n",
              "        vertical-align: top;\n",
              "    }\n",
              "\n",
              "    .dataframe thead th {\n",
              "        text-align: right;\n",
              "    }\n",
              "</style>\n",
              "<table border=\"1\" class=\"dataframe\">\n",
              "  <thead>\n",
              "    <tr style=\"text-align: right;\">\n",
              "      <th></th>\n",
              "      <th>DT_MEDICAO</th>\n",
              "      <th>TEMP_MED</th>\n",
              "      <th>CHUVA</th>\n",
              "    </tr>\n",
              "  </thead>\n",
              "  <tbody>\n",
              "    <tr>\n",
              "      <th>0</th>\n",
              "      <td>1981-01-31</td>\n",
              "      <td>27.090588</td>\n",
              "      <td>1.155882</td>\n",
              "    </tr>\n",
              "    <tr>\n",
              "      <th>1</th>\n",
              "      <td>1981-02-28</td>\n",
              "      <td>27.842142</td>\n",
              "      <td>0.542857</td>\n",
              "    </tr>\n",
              "    <tr>\n",
              "      <th>2</th>\n",
              "      <td>1981-03-31</td>\n",
              "      <td>26.272121</td>\n",
              "      <td>8.690625</td>\n",
              "    </tr>\n",
              "    <tr>\n",
              "      <th>3</th>\n",
              "      <td>1981-04-30</td>\n",
              "      <td>24.904516</td>\n",
              "      <td>3.138710</td>\n",
              "    </tr>\n",
              "    <tr>\n",
              "      <th>4</th>\n",
              "      <td>1981-05-31</td>\n",
              "      <td>24.494545</td>\n",
              "      <td>0.000000</td>\n",
              "    </tr>\n",
              "    <tr>\n",
              "      <th>...</th>\n",
              "      <td>...</td>\n",
              "      <td>...</td>\n",
              "      <td>...</td>\n",
              "    </tr>\n",
              "    <tr>\n",
              "      <th>475</th>\n",
              "      <td>2020-08-31</td>\n",
              "      <td>25.010714</td>\n",
              "      <td>0.141935</td>\n",
              "    </tr>\n",
              "    <tr>\n",
              "      <th>476</th>\n",
              "      <td>2020-09-30</td>\n",
              "      <td>26.930666</td>\n",
              "      <td>0.020000</td>\n",
              "    </tr>\n",
              "    <tr>\n",
              "      <th>477</th>\n",
              "      <td>2020-10-31</td>\n",
              "      <td>29.584139</td>\n",
              "      <td>0.067742</td>\n",
              "    </tr>\n",
              "    <tr>\n",
              "      <th>478</th>\n",
              "      <td>2020-11-30</td>\n",
              "      <td>27.251034</td>\n",
              "      <td>5.436666</td>\n",
              "    </tr>\n",
              "    <tr>\n",
              "      <th>479</th>\n",
              "      <td>2020-12-31</td>\n",
              "      <td>29.007999</td>\n",
              "      <td>0.048276</td>\n",
              "    </tr>\n",
              "  </tbody>\n",
              "</table>\n",
              "<p>480 rows × 3 columns</p>\n",
              "</div>"
            ],
            "text/plain": [
              "    DT_MEDICAO   TEMP_MED     CHUVA\n",
              "0   1981-01-31  27.090588  1.155882\n",
              "1   1981-02-28  27.842142  0.542857\n",
              "2   1981-03-31  26.272121  8.690625\n",
              "3   1981-04-30  24.904516  3.138710\n",
              "4   1981-05-31  24.494545  0.000000\n",
              "..         ...        ...       ...\n",
              "475 2020-08-31  25.010714  0.141935\n",
              "476 2020-09-30  26.930666  0.020000\n",
              "477 2020-10-31  29.584139  0.067742\n",
              "478 2020-11-30  27.251034  5.436666\n",
              "479 2020-12-31  29.007999  0.048276\n",
              "\n",
              "[480 rows x 3 columns]"
            ]
          },
          "metadata": {
            "tags": []
          },
          "execution_count": 23
        }
      ]
    },
    {
      "cell_type": "markdown",
      "metadata": {
        "id": "MjufrY5y3UlD"
      },
      "source": [
        "observação: o dia da medição ainda aparece na tabela mas deve ser desconsiderado. Ele só ajuda visualmente."
      ]
    },
    {
      "cell_type": "markdown",
      "metadata": {
        "id": "XSbqYJDi3jId"
      },
      "source": [
        "Concatenação dos dados observados com os dados do ERA5:"
      ]
    },
    {
      "cell_type": "code",
      "metadata": {
        "id": "49XTIbfGoaix"
      },
      "source": [
        "fimTabela = len(tab)\n",
        "resultado = pd.concat([tab[0:fimTabela], dftabela], axis=1).reindex(tab[0:fimTabela].index)\n"
      ],
      "execution_count": null,
      "outputs": []
    },
    {
      "cell_type": "markdown",
      "metadata": {
        "id": "whG9SKo1mKWa"
      },
      "source": [
        "A tabela acima demonstra os valores obtidos no INMET e no ERA5. Como os dados são mensais o dia apresentado é mero formalismo computacional. Podemos agora comparar esses dados."
      ]
    },
    {
      "cell_type": "code",
      "metadata": {
        "colab": {
          "base_uri": "https://localhost:8080/",
          "height": 455
        },
        "id": "tFUE2plyr2ND",
        "outputId": "93fa784d-188b-4ca4-e5b7-b02893c88c67"
      },
      "source": [
        "resultado['DT_MEDICAO'] =  pd.to_datetime(resultado['DT_MEDICAO']).dt.strftime(\"%Y-%m\") # conversão da string de data para datetime\n",
        "resultado['time'] =  pd.to_datetime(resultado['time']).dt.strftime(\"%Y-%m\") # conversão da string de data para datetime\n",
        "resultado.set_index('time', inplace=True)\n",
        "resultado[\"CHUVA\"] = pd.to_numeric(resultado[\"CHUVA\"], downcast=\"float\")\n",
        "resultado[\"tp\"] = pd.to_numeric(resultado[\"tp\"], downcast=\"float\")\n",
        "\n",
        "\n",
        "resultado"
      ],
      "execution_count": null,
      "outputs": [
        {
          "output_type": "execute_result",
          "data": {
            "text/html": [
              "<div>\n",
              "<style scoped>\n",
              "    .dataframe tbody tr th:only-of-type {\n",
              "        vertical-align: middle;\n",
              "    }\n",
              "\n",
              "    .dataframe tbody tr th {\n",
              "        vertical-align: top;\n",
              "    }\n",
              "\n",
              "    .dataframe thead th {\n",
              "        text-align: right;\n",
              "    }\n",
              "</style>\n",
              "<table border=\"1\" class=\"dataframe\">\n",
              "  <thead>\n",
              "    <tr style=\"text-align: right;\">\n",
              "      <th></th>\n",
              "      <th>DT_MEDICAO</th>\n",
              "      <th>TEMP_MED</th>\n",
              "      <th>CHUVA</th>\n",
              "      <th>tp</th>\n",
              "      <th>t2m</th>\n",
              "    </tr>\n",
              "    <tr>\n",
              "      <th>time</th>\n",
              "      <th></th>\n",
              "      <th></th>\n",
              "      <th></th>\n",
              "      <th></th>\n",
              "      <th></th>\n",
              "    </tr>\n",
              "  </thead>\n",
              "  <tbody>\n",
              "    <tr>\n",
              "      <th>1981-01</th>\n",
              "      <td>1981-01</td>\n",
              "      <td>27.090588</td>\n",
              "      <td>1.155882</td>\n",
              "      <td>2.243132</td>\n",
              "      <td>26.472437</td>\n",
              "    </tr>\n",
              "    <tr>\n",
              "      <th>1981-02</th>\n",
              "      <td>1981-02</td>\n",
              "      <td>27.842142</td>\n",
              "      <td>0.542857</td>\n",
              "      <td>0.528485</td>\n",
              "      <td>27.565454</td>\n",
              "    </tr>\n",
              "    <tr>\n",
              "      <th>1981-03</th>\n",
              "      <td>1981-03</td>\n",
              "      <td>26.272121</td>\n",
              "      <td>8.690625</td>\n",
              "      <td>9.087366</td>\n",
              "      <td>25.965326</td>\n",
              "    </tr>\n",
              "    <tr>\n",
              "      <th>1981-04</th>\n",
              "      <td>1981-04</td>\n",
              "      <td>24.904516</td>\n",
              "      <td>3.138710</td>\n",
              "      <td>1.852529</td>\n",
              "      <td>24.651483</td>\n",
              "    </tr>\n",
              "    <tr>\n",
              "      <th>1981-05</th>\n",
              "      <td>1981-05</td>\n",
              "      <td>24.494545</td>\n",
              "      <td>0.000000</td>\n",
              "      <td>0.150726</td>\n",
              "      <td>24.467798</td>\n",
              "    </tr>\n",
              "    <tr>\n",
              "      <th>...</th>\n",
              "      <td>...</td>\n",
              "      <td>...</td>\n",
              "      <td>...</td>\n",
              "      <td>...</td>\n",
              "      <td>...</td>\n",
              "    </tr>\n",
              "    <tr>\n",
              "      <th>2020-08</th>\n",
              "      <td>2020-08</td>\n",
              "      <td>25.010714</td>\n",
              "      <td>0.141935</td>\n",
              "      <td>0.163947</td>\n",
              "      <td>24.956934</td>\n",
              "    </tr>\n",
              "    <tr>\n",
              "      <th>2020-09</th>\n",
              "      <td>2020-09</td>\n",
              "      <td>26.930666</td>\n",
              "      <td>0.020000</td>\n",
              "      <td>0.100862</td>\n",
              "      <td>26.793573</td>\n",
              "    </tr>\n",
              "    <tr>\n",
              "      <th>2020-10</th>\n",
              "      <td>2020-10</td>\n",
              "      <td>29.584139</td>\n",
              "      <td>0.067742</td>\n",
              "      <td>0.338850</td>\n",
              "      <td>29.294122</td>\n",
              "    </tr>\n",
              "    <tr>\n",
              "      <th>2020-11</th>\n",
              "      <td>2020-11</td>\n",
              "      <td>27.251034</td>\n",
              "      <td>5.436666</td>\n",
              "      <td>1.808710</td>\n",
              "      <td>27.216028</td>\n",
              "    </tr>\n",
              "    <tr>\n",
              "      <th>2020-12</th>\n",
              "      <td>2020-12</td>\n",
              "      <td>29.007999</td>\n",
              "      <td>0.048276</td>\n",
              "      <td>0.200968</td>\n",
              "      <td>28.621088</td>\n",
              "    </tr>\n",
              "  </tbody>\n",
              "</table>\n",
              "<p>480 rows × 5 columns</p>\n",
              "</div>"
            ],
            "text/plain": [
              "        DT_MEDICAO   TEMP_MED     CHUVA        tp        t2m\n",
              "time                                                        \n",
              "1981-01    1981-01  27.090588  1.155882  2.243132  26.472437\n",
              "1981-02    1981-02  27.842142  0.542857  0.528485  27.565454\n",
              "1981-03    1981-03  26.272121  8.690625  9.087366  25.965326\n",
              "1981-04    1981-04  24.904516  3.138710  1.852529  24.651483\n",
              "1981-05    1981-05  24.494545  0.000000  0.150726  24.467798\n",
              "...            ...        ...       ...       ...        ...\n",
              "2020-08    2020-08  25.010714  0.141935  0.163947  24.956934\n",
              "2020-09    2020-09  26.930666  0.020000  0.100862  26.793573\n",
              "2020-10    2020-10  29.584139  0.067742  0.338850  29.294122\n",
              "2020-11    2020-11  27.251034  5.436666  1.808710  27.216028\n",
              "2020-12    2020-12  29.007999  0.048276  0.200968  28.621088\n",
              "\n",
              "[480 rows x 5 columns]"
            ]
          },
          "metadata": {
            "tags": []
          },
          "execution_count": 25
        }
      ]
    },
    {
      "cell_type": "code",
      "metadata": {
        "colab": {
          "base_uri": "https://localhost:8080/"
        },
        "id": "J7PpdfBX3RUG",
        "outputId": "a1726881-ec87-48e5-b37d-428dc536eaa0"
      },
      "source": [
        "resultado.info()"
      ],
      "execution_count": null,
      "outputs": [
        {
          "output_type": "stream",
          "text": [
            "<class 'pandas.core.frame.DataFrame'>\n",
            "Index: 480 entries, 1981-01 to 2020-12\n",
            "Data columns (total 5 columns):\n",
            " #   Column      Non-Null Count  Dtype  \n",
            "---  ------      --------------  -----  \n",
            " 0   DT_MEDICAO  480 non-null    object \n",
            " 1   TEMP_MED    449 non-null    float32\n",
            " 2   CHUVA       463 non-null    float32\n",
            " 3   tp          480 non-null    float32\n",
            " 4   t2m         480 non-null    float64\n",
            "dtypes: float32(3), float64(1), object(1)\n",
            "memory usage: 16.9+ KB\n"
          ],
          "name": "stdout"
        }
      ]
    },
    {
      "cell_type": "markdown",
      "metadata": {
        "id": "h36GwwkY3w2X"
      },
      "source": [
        "São demonstradas as informações básicas da tabela de dados. Pode-se perceber que os dados de chuva do INMET apresentam ausências quando comparados com os dados de reanálise. Assim, para normalizar a tabela deve-se retirar os dados dos dias que apresentam falhas."
      ]
    },
    {
      "cell_type": "code",
      "metadata": {
        "colab": {
          "base_uri": "https://localhost:8080/"
        },
        "id": "FYHawl-_6GBE",
        "outputId": "632acdd7-6eb0-4210-bed6-0ee66567207e"
      },
      "source": [
        "result = resultado.dropna() #deletar linhas com células vazias\n",
        "result.info()"
      ],
      "execution_count": null,
      "outputs": [
        {
          "output_type": "stream",
          "text": [
            "<class 'pandas.core.frame.DataFrame'>\n",
            "Index: 449 entries, 1981-01 to 2020-12\n",
            "Data columns (total 5 columns):\n",
            " #   Column      Non-Null Count  Dtype  \n",
            "---  ------      --------------  -----  \n",
            " 0   DT_MEDICAO  449 non-null    object \n",
            " 1   TEMP_MED    449 non-null    float32\n",
            " 2   CHUVA       449 non-null    float32\n",
            " 3   tp          449 non-null    float32\n",
            " 4   t2m         449 non-null    float64\n",
            "dtypes: float32(3), float64(1), object(1)\n",
            "memory usage: 15.8+ KB\n"
          ],
          "name": "stdout"
        }
      ]
    },
    {
      "cell_type": "markdown",
      "metadata": {
        "id": "CkjQM98L4dyE"
      },
      "source": [
        "Os dados agora estão nas mesmas dimensões, com 449 linhas."
      ]
    },
    {
      "cell_type": "code",
      "metadata": {
        "id": "UYgjIXh_qo8C"
      },
      "source": [
        "result.to_csv('tabelacompleta.csv')"
      ],
      "execution_count": null,
      "outputs": []
    },
    {
      "cell_type": "markdown",
      "metadata": {
        "id": "avqccNlU4oPQ"
      },
      "source": [
        "Os dados são exportados para csv. Ressalta-se que não estão sendo persistidos no google drive, mas podem ser encontrados na aba ao lado e descarregados para um computador local. Uma vez fechada a sessão os dados ao lado são deletados pelo ambiente."
      ]
    },
    {
      "cell_type": "markdown",
      "metadata": {
        "id": "wxQ6FNBUu77b"
      },
      "source": [
        "##### RMSE"
      ]
    },
    {
      "cell_type": "code",
      "metadata": {
        "colab": {
          "base_uri": "https://localhost:8080/"
        },
        "id": "5Ixat3KiwADs",
        "outputId": "48f0e620-48f5-4b58-9afd-96dbde2bdf26"
      },
      "source": [
        "from sklearn.metrics import mean_squared_error\n",
        "\n",
        "rmse = mean_squared_error(result['CHUVA'], result['tp'], squared=False)\n",
        "rmse\n"
      ],
      "execution_count": null,
      "outputs": [
        {
          "output_type": "execute_result",
          "data": {
            "text/plain": [
              "1.1265843"
            ]
          },
          "metadata": {
            "tags": []
          },
          "execution_count": 29
        }
      ]
    },
    {
      "cell_type": "markdown",
      "metadata": {
        "id": "9Rb_4iUr6whg"
      },
      "source": [
        "#### MAE"
      ]
    },
    {
      "cell_type": "code",
      "metadata": {
        "colab": {
          "base_uri": "https://localhost:8080/"
        },
        "id": "SBiMmwO459NO",
        "outputId": "055e9aeb-4562-4451-efd8-ef5d0f6410b8"
      },
      "source": [
        " from sklearn.metrics import mean_absolute_error\n",
        "\n",
        "mae = mean_absolute_error(result['CHUVA'], result['tp'])\n",
        "mae\n"
      ],
      "execution_count": null,
      "outputs": [
        {
          "output_type": "execute_result",
          "data": {
            "text/plain": [
              "0.6182127"
            ]
          },
          "metadata": {
            "tags": []
          },
          "execution_count": 30
        }
      ]
    },
    {
      "cell_type": "markdown",
      "metadata": {
        "id": "8hPnBRJ-7ox3"
      },
      "source": [
        "    Visto que ambos os valores (RMSE e MAE) ficaram próximos os erros devem apresentar pequena variâncias."
      ]
    },
    {
      "cell_type": "markdown",
      "metadata": {
        "id": "QCOgTECP5PX7"
      },
      "source": [
        "#### Correlação"
      ]
    },
    {
      "cell_type": "code",
      "metadata": {
        "colab": {
          "base_uri": "https://localhost:8080/"
        },
        "id": "5-yg0Bdc7ra2",
        "outputId": "019b3bdf-979d-49f0-e9c6-d6cc9846fa19"
      },
      "source": [
        "from sklearn.metrics import r2_score #método para o cálculo do R2\n",
        "\n",
        "R_2 = r2_score(result['CHUVA'], result['tp'])  #realiza o cálculo do R2\n",
        "R_2"
      ],
      "execution_count": null,
      "outputs": [
        {
          "output_type": "execute_result",
          "data": {
            "text/plain": [
              "0.7185310087562924"
            ]
          },
          "metadata": {
            "tags": []
          },
          "execution_count": 31
        }
      ]
    },
    {
      "cell_type": "markdown",
      "metadata": {
        "id": "4IvhIORA66Vy"
      },
      "source": [
        "Os dados aparentam ter boa correlação, visto que R2 ficou igual a 0,71."
      ]
    },
    {
      "cell_type": "code",
      "metadata": {
        "colab": {
          "base_uri": "https://localhost:8080/",
          "height": 269
        },
        "id": "FzdIvQmg7YkQ",
        "outputId": "42b78036-3025-448c-8a44-189a4f56822e"
      },
      "source": [
        "from matplotlib import pyplot as plt\n",
        "plt.scatter(result['CHUVA'], result['tp'])\n",
        "plt.xlim(0, 10)\n",
        "plt.ylim(0,10)\n",
        "plt.grid()"
      ],
      "execution_count": null,
      "outputs": [
        {
          "output_type": "display_data",
          "data": {
            "image/png": "[encoded data removed]",
            "text/plain": [
              "<Figure size 432x288 with 1 Axes>"
            ]
          },
          "metadata": {
            "tags": [],
            "needs_background": "light"
          }
        }
      ]
    },
    {
      "cell_type": "markdown",
      "metadata": {
        "id": "ftxPqJRpw_uM"
      },
      "source": [
        "## Testes de Hipótese\n"
      ]
    },
    {
      "cell_type": "code",
      "metadata": {
        "id": "ZcM81QyOxsot"
      },
      "source": [
        "from scipy.stats import mannwhitneyu\n",
        "import statsmodels as sm"
      ],
      "execution_count": null,
      "outputs": []
    },
    {
      "cell_type": "code",
      "metadata": {
        "id": "UkiqYAt702bL"
      },
      "source": [
        "def testeMW(sample1, sample2):\n",
        "\n",
        "  statMann, pMann = mannwhitneyu(sample1, sample2)\n",
        "  hipotese(pMann)\n",
        "\n",
        "def testeWaldwolf(sample1,sample2):\n",
        "  statWald, pWald = sm.sandbox.stats.runs.runstest_2samp(sample1, sample2)\n",
        "  hipotese(pWald)\n",
        "\n",
        "\n",
        "def hipotese(p):\n",
        "  print(f'p-valor: {p:.3f}')\n",
        "  alpha = 0.05\n",
        "  if p > alpha:\n",
        "\t  print('Mesma distribuição (falha ao rejeitar H0)')\n",
        "  else:\n",
        "\t  print('Distribution diferente (H0 rejeitado)')\n",
        "\n"
      ],
      "execution_count": null,
      "outputs": []
    },
    {
      "cell_type": "code",
      "metadata": {
        "id": "VtNStIQq5sm_"
      },
      "source": [
        "indiceMetadeSerie = int((len(result['tp'])/2)) # divide  a série pela metade\n",
        "amostra1 = result['tp'][0:indiceMetadeSerie]    #amostra com a metade inicial\n",
        "amostra2 = result['tp'][indiceMetadeSerie:(len(result['tp'])-1)] #amostra com a metade final"
      ],
      "execution_count": null,
      "outputs": []
    },
    {
      "cell_type": "code",
      "metadata": {
        "colab": {
          "base_uri": "https://localhost:8080/"
        },
        "id": "0q3jsqcVx1rg",
        "outputId": "bfffd3b3-26f0-4085-e3e1-d537287f6885"
      },
      "source": [
        "testeMW(amostra1, amostra2)"
      ],
      "execution_count": null,
      "outputs": [
        {
          "output_type": "stream",
          "text": [
            "p-valor: 0.134\n",
            "Mesma distribuição (falha ao rejeitar H0)\n"
          ],
          "name": "stdout"
        }
      ]
    },
    {
      "cell_type": "code",
      "metadata": {
        "id": "ScUpbkZ45rS7"
      },
      "source": [
        "#testeWaldwolf(amostra1, amostra2) # A biblioteca statsmodel não está estável, assim algumas vezes essas função não roda. Só precisa rodar mais de uma vez quando for o caso"
      ],
      "execution_count": null,
      "outputs": []
    },
    {
      "cell_type": "code",
      "metadata": {
        "colab": {
          "base_uri": "https://localhost:8080/"
        },
        "id": "k_Ua4MTFb5NX",
        "outputId": "67b33bda-7d85-4821-cd5a-02601fd87c44"
      },
      "source": [
        "# Example of the Chi-Squared Test\n",
        "from scipy.stats import chi2_contingency\n",
        "\n",
        "stat, p, dof, expected = chi2_contingency(amostra1, amostra2)\n",
        "print('stat=%.3f, p=%.3f' % (stat, p))\n",
        "if p > 0.05:\n",
        "\tprint('Provavelmente independente')\n",
        "else:\n",
        "\tprint('Provavelmente dependente')"
      ],
      "execution_count": null,
      "outputs": [
        {
          "output_type": "stream",
          "text": [
            "stat=0.000, p=1.000\n",
            "Provavelmente independente\n"
          ],
          "name": "stdout"
        }
      ]
    },
    {
      "cell_type": "code",
      "metadata": {
        "colab": {
          "base_uri": "https://localhost:8080/"
        },
        "id": "Uss9S76LPlae",
        "outputId": "737f5f18-728d-483e-fcf6-39e2303b5637"
      },
      "source": [
        "from scipy import stats\n",
        "\n",
        "stats.spearmanr(amostra1, amostra2)"
      ],
      "execution_count": null,
      "outputs": [
        {
          "output_type": "execute_result",
          "data": {
            "text/plain": [
              "SpearmanrResult(correlation=-0.22536053393307934, pvalue=0.0006792201746687402)"
            ]
          },
          "metadata": {
            "tags": []
          },
          "execution_count": 39
        }
      ]
    },
    {
      "cell_type": "code",
      "metadata": {
        "colab": {
          "base_uri": "https://localhost:8080/"
        },
        "id": "JFXAoePzZ7OW",
        "outputId": "0613fda7-ed75-469d-951d-14e483247c66"
      },
      "source": [
        "from statsmodels.sandbox.stats.runs import runstest_2samp\n",
        "runstest_2samp(amostra1, amostra2)"
      ],
      "execution_count": null,
      "outputs": [
        {
          "output_type": "stream",
          "text": [
            "ties detected\n"
          ],
          "name": "stdout"
        },
        {
          "output_type": "stream",
          "text": [
            "/usr/local/lib/python3.7/dist-packages/statsmodels/tools/_testing.py:19: FutureWarning: pandas.util.testing is deprecated. Use the functions in the public API at pandas.testing instead.\n",
            "  import pandas.util.testing as tm\n"
          ],
          "name": "stderr"
        },
        {
          "output_type": "execute_result",
          "data": {
            "text/plain": [
              "(-0.6621789348084367, 0.5078565527775274)"
            ]
          },
          "metadata": {
            "tags": []
          },
          "execution_count": 40
        }
      ]
    },
    {
      "cell_type": "markdown",
      "metadata": {
        "id": "BrRFoYYx86n3"
      },
      "source": [
        "P-valor acimda de 0.05 indica que são provavelmente independentes."
      ]
    },
    {
      "cell_type": "code",
      "metadata": {
        "colab": {
          "base_uri": "https://localhost:8080/"
        },
        "id": "vFXjHLBqZ8yM",
        "outputId": "ba269b2a-6982-42b9-9d30-63459cdfd753"
      },
      "source": [
        "from statsmodels.tsa.stattools import adfuller\n",
        "stat, p, lags, obs, crit, t = adfuller(result['tp'])\n",
        "print('stat=%.3f, p=%.3f' % (stat, p))\n",
        "if p > 0.05:\n",
        "\tprint('Provavelmente não é estationário')\n",
        "else:\n",
        "\tprint('Provavelmente estationário')"
      ],
      "execution_count": null,
      "outputs": [
        {
          "output_type": "stream",
          "text": [
            "stat=-4.166, p=0.001\n",
            "Provavelmente estationário\n"
          ],
          "name": "stdout"
        }
      ]
    },
    {
      "cell_type": "markdown",
      "metadata": {
        "id": "Qm-fUACxAgKR"
      },
      "source": [
        "O teste de adfuller foi realizado e estimou a série como estacionária."
      ]
    },
    {
      "cell_type": "markdown",
      "metadata": {
        "id": "GgDedO2NodbH"
      },
      "source": [
        "### Tendência"
      ]
    },
    {
      "cell_type": "markdown",
      "metadata": {
        "id": "9GElsvBZ-FHn"
      },
      "source": [
        "#### MannKendall e Sen-Slope"
      ]
    },
    {
      "cell_type": "markdown",
      "metadata": {
        "id": "fr8qxlNe9Ywi"
      },
      "source": [
        "Para análise da tendẽncia a biblioteca pymannkendall será utilizada. A documentação pode ser apreciada em: https://github.com/mmhs013/pymannkendall"
      ]
    },
    {
      "cell_type": "code",
      "metadata": {
        "colab": {
          "base_uri": "https://localhost:8080/"
        },
        "id": "siOJtE5pbVG9",
        "outputId": "eae475d0-3d14-48e2-bedb-269a1546929f"
      },
      "source": [
        "!pip install pymannkendall"
      ],
      "execution_count": null,
      "outputs": [
        {
          "output_type": "stream",
          "text": [
            "Collecting pymannkendall\n",
            "  Downloading pymannkendall-1.4.2-py3-none-any.whl (12 kB)\n",
            "Requirement already satisfied: numpy in /usr/local/lib/python3.7/dist-packages (from pymannkendall) (1.19.5)\n",
            "Requirement already satisfied: scipy in /usr/local/lib/python3.7/dist-packages (from pymannkendall) (1.4.1)\n",
            "Installing collected packages: pymannkendall\n",
            "Successfully installed pymannkendall-1.4.2\n"
          ],
          "name": "stdout"
        }
      ]
    },
    {
      "cell_type": "code",
      "metadata": {
        "colab": {
          "base_uri": "https://localhost:8080/"
        },
        "id": "EoX45sNMogel",
        "outputId": "42ca1f81-8d08-43dc-ef20-21c4e89c3bc6"
      },
      "source": [
        "import pymannkendall as mk\n",
        "\n",
        "mk.original_test(result['tp'])"
      ],
      "execution_count": null,
      "outputs": [
        {
          "output_type": "execute_result",
          "data": {
            "text/plain": [
              "Mann_Kendall_Test(trend='no trend', h=False, p=0.35355961937443325, z=-0.9277069171954985, Tau=-0.029311167674196628, s=-2948.0, var_s=10091104.0, slope=-0.00012043023842680598, intercept=0.4096465673182033)"
            ]
          },
          "metadata": {
            "tags": []
          },
          "execution_count": 43
        }
      ]
    },
    {
      "cell_type": "code",
      "metadata": {
        "colab": {
          "base_uri": "https://localhost:8080/"
        },
        "id": "SSoM-rxgvsRs",
        "outputId": "9433f4ac-1db1-4d37-ac2d-27d0f16ea802"
      },
      "source": [
        "mk.seasonal_test(result['tp'], period=12)"
      ],
      "execution_count": null,
      "outputs": [
        {
          "output_type": "execute_result",
          "data": {
            "text/plain": [
              "Seasonal_Mann_Kendall_Test(trend='no trend', h=False, p=0.63199863632895, z=-0.4789156509011953, Tau=-0.01589825119236884, s=-130.0, var_s=72554.0, slope=-0.0005396349089486259, intercept=0.39274337887763977)"
            ]
          },
          "metadata": {
            "tags": []
          },
          "execution_count": 44
        }
      ]
    },
    {
      "cell_type": "code",
      "metadata": {
        "colab": {
          "base_uri": "https://localhost:8080/"
        },
        "id": "qeSndnU6uiI-",
        "outputId": "baa984d3-5bd1-413e-8865-a54c0ec8b1a3"
      },
      "source": [
        "mk.seasonal_test(result['t2m'], period=12)"
      ],
      "execution_count": null,
      "outputs": [
        {
          "output_type": "execute_result",
          "data": {
            "text/plain": [
              "Seasonal_Mann_Kendall_Test(trend='increasing', h=True, p=3.601974274403119e-10, z=6.270367331963504, Tau=0.2066772655007949, s=1690.0, var_s=72556.0, slope=0.03684326171875, intercept=26.461636555989607)"
            ]
          },
          "metadata": {
            "tags": []
          },
          "execution_count": 45
        }
      ]
    },
    {
      "cell_type": "markdown",
      "metadata": {
        "id": "oQgLnsqy-98m"
      },
      "source": [
        "Enquanto a váriavel tp (chuva) não demonstra tendência de alteração, a temperatura do ar tende a aumentar ao longo do tempo."
      ]
    },
    {
      "cell_type": "code",
      "metadata": {
        "colab": {
          "base_uri": "https://localhost:8080/"
        },
        "id": "4djt5IcDqSv2",
        "outputId": "09ad8e4f-b55a-4aeb-bcc8-c7de53092a14"
      },
      "source": [
        "mk.sens_slope(result['tp'])"
      ],
      "execution_count": null,
      "outputs": [
        {
          "output_type": "execute_result",
          "data": {
            "text/plain": [
              "Sens_Slope_Test(slope=-0.00012043023842680598, intercept=0.4096465673182033)"
            ]
          },
          "metadata": {
            "tags": []
          },
          "execution_count": 46
        }
      ]
    },
    {
      "cell_type": "code",
      "metadata": {
        "colab": {
          "base_uri": "https://localhost:8080/"
        },
        "id": "KRvsad6lolNo",
        "outputId": "e3d4211a-c8f0-43c4-9984-e35421d7edcf"
      },
      "source": [
        "import scipy.stats as stats\n",
        "tau, p_value = stats.kendalltau(amostra1, amostra2)\n",
        "print(tau)\n",
        "\n",
        "p_value"
      ],
      "execution_count": null,
      "outputs": [
        {
          "output_type": "stream",
          "text": [
            "-0.14252818351339963\n"
          ],
          "name": "stdout"
        },
        {
          "output_type": "execute_result",
          "data": {
            "text/plain": [
              "0.0015022580705378798"
            ]
          },
          "metadata": {
            "tags": []
          },
          "execution_count": 47
        }
      ]
    },
    {
      "cell_type": "markdown",
      "metadata": {
        "id": "nz5Nqr4z98rz"
      },
      "source": [
        "####Pettitt"
      ]
    },
    {
      "cell_type": "code",
      "metadata": {
        "colab": {
          "base_uri": "https://localhost:8080/"
        },
        "id": "b9IVudR6pU_e",
        "outputId": "ddc23d12-ec0d-4e2e-bf8e-31c829d5d2af"
      },
      "source": [
        "!pip install pyhomogeneity"
      ],
      "execution_count": null,
      "outputs": [
        {
          "output_type": "stream",
          "text": [
            "Collecting pyhomogeneity\n",
            "  Downloading pyhomogeneity-1.1-py3-none-any.whl (12 kB)\n",
            "Requirement already satisfied: numpy in /usr/local/lib/python3.7/dist-packages (from pyhomogeneity) (1.19.5)\n",
            "Requirement already satisfied: scipy in /usr/local/lib/python3.7/dist-packages (from pyhomogeneity) (1.4.1)\n",
            "Installing collected packages: pyhomogeneity\n",
            "Successfully installed pyhomogeneity-1.1\n"
          ],
          "name": "stdout"
        }
      ]
    },
    {
      "cell_type": "code",
      "metadata": {
        "colab": {
          "base_uri": "https://localhost:8080/"
        },
        "id": "3dkoTCFtrekH",
        "outputId": "0897ba74-c18f-46ba-cdcf-8e8ce61133b2"
      },
      "source": [
        "import pyhomogeneity as hg\n",
        "\n",
        "\n",
        "resultado = hg.pettitt_test(result['tp'])\n",
        "print(resultado)"
      ],
      "execution_count": null,
      "outputs": [
        {
          "output_type": "stream",
          "text": [
            "Pettitt_Test(h=False, cp=334, p=0.2273, U=5613.0, avg=mean(mu1=1.316371, mu2=0.8360955))\n"
          ],
          "name": "stdout"
        }
      ]
    },
    {
      "cell_type": "markdown",
      "metadata": {
        "id": "-mrYT8WT-XD7"
      },
      "source": [
        "Os dados de chuva se apresentaram homogêneos. Logo não há tendência de alteração da série."
      ]
    },
    {
      "cell_type": "markdown",
      "metadata": {
        "id": "yinlZarJuEed"
      },
      "source": [
        "Todos os testes deste pacote retornam uma tupla contendo:\n",
        "\n",
        "    h: True (if data is nonhomogeneous) or False (if data is homogeneous)\n",
        "    cp: probable change point location\n",
        "    p: p value of the significance test\n",
        "    U/T/Q/R/V: test statistics which depends on the test method\n",
        "    avg: mean values at before and after the change point\n"
      ]
    },
    {
      "cell_type": "markdown",
      "metadata": {
        "id": "Efg43Vr8-L9S"
      },
      "source": [
        "O teste de Pettitt demonstrou que os um ponto provável de mudança (cp) seria o da linha 334."
      ]
    },
    {
      "cell_type": "code",
      "metadata": {
        "colab": {
          "base_uri": "https://localhost:8080/"
        },
        "id": "SiCI4LiurnjF",
        "outputId": "52480625-c6b7-457a-b07b-8d7d66111d32"
      },
      "source": [
        "result.iloc[334]"
      ],
      "execution_count": null,
      "outputs": [
        {
          "output_type": "execute_result",
          "data": {
            "text/plain": [
              "DT_MEDICAO     2011-06\n",
              "TEMP_MED        25.364\n",
              "CHUVA                0\n",
              "tp            0.140904\n",
              "t2m            25.3454\n",
              "Name: 2011-06, dtype: object"
            ]
          },
          "metadata": {
            "tags": []
          },
          "execution_count": 50
        }
      ]
    },
    {
      "cell_type": "markdown",
      "metadata": {
        "id": "QCh49qyV_vou"
      },
      "source": [
        "As informações mostram que o mês de junho de 2011 seria esse ponto provável."
      ]
    },
    {
      "cell_type": "markdown",
      "metadata": {
        "id": "r9pIhW0Nv2pN"
      },
      "source": [
        "## Índices de Seca"
      ]
    },
    {
      "cell_type": "markdown",
      "metadata": {
        "id": "JKik_fRG6OIh"
      },
      "source": [
        "### SPI"
      ]
    },
    {
      "cell_type": "markdown",
      "metadata": {
        "id": "-S12yXKsAJAy"
      },
      "source": [
        "**Uma vez que um dos principais pacotes de índice climaticos em python na realidade utiliza bash para o seu processamento resolvi exportar os dados do ERA5 para txt afim de serem utilizados no script em R fornecido pelo professor. **.\n",
        "\n",
        "O pacote supracitado pode ser encontrado em: https://climate-indices.readthedocs.io/en/latest/"
      ]
    },
    {
      "cell_type": "code",
      "metadata": {
        "colab": {
          "base_uri": "https://localhost:8080/",
          "height": 424
        },
        "id": "0f-fjxMrHKR6",
        "outputId": "fc6d6dc7-6fd6-48dd-a3a6-6660665de266"
      },
      "source": [
        "tabelaEra5 = tabelaEra5.reset_index(drop=True)\n",
        "tabelaEra5\n"
      ],
      "execution_count": null,
      "outputs": [
        {
          "output_type": "execute_result",
          "data": {
            "text/html": [
              "<div>\n",
              "<style scoped>\n",
              "    .dataframe tbody tr th:only-of-type {\n",
              "        vertical-align: middle;\n",
              "    }\n",
              "\n",
              "    .dataframe tbody tr th {\n",
              "        vertical-align: top;\n",
              "    }\n",
              "\n",
              "    .dataframe thead th {\n",
              "        text-align: right;\n",
              "    }\n",
              "</style>\n",
              "<table border=\"1\" class=\"dataframe\">\n",
              "  <thead>\n",
              "    <tr style=\"text-align: right;\">\n",
              "      <th></th>\n",
              "      <th>tp</th>\n",
              "      <th>t2m</th>\n",
              "    </tr>\n",
              "  </thead>\n",
              "  <tbody>\n",
              "    <tr>\n",
              "      <th>0</th>\n",
              "      <td>2.243132</td>\n",
              "      <td>26.472437</td>\n",
              "    </tr>\n",
              "    <tr>\n",
              "      <th>1</th>\n",
              "      <td>0.528485</td>\n",
              "      <td>27.565454</td>\n",
              "    </tr>\n",
              "    <tr>\n",
              "      <th>2</th>\n",
              "      <td>9.087366</td>\n",
              "      <td>25.965326</td>\n",
              "    </tr>\n",
              "    <tr>\n",
              "      <th>3</th>\n",
              "      <td>1.852529</td>\n",
              "      <td>24.651483</td>\n",
              "    </tr>\n",
              "    <tr>\n",
              "      <th>4</th>\n",
              "      <td>0.150726</td>\n",
              "      <td>24.467798</td>\n",
              "    </tr>\n",
              "    <tr>\n",
              "      <th>...</th>\n",
              "      <td>...</td>\n",
              "      <td>...</td>\n",
              "    </tr>\n",
              "    <tr>\n",
              "      <th>475</th>\n",
              "      <td>0.163947</td>\n",
              "      <td>24.956934</td>\n",
              "    </tr>\n",
              "    <tr>\n",
              "      <th>476</th>\n",
              "      <td>0.100862</td>\n",
              "      <td>26.793573</td>\n",
              "    </tr>\n",
              "    <tr>\n",
              "      <th>477</th>\n",
              "      <td>0.338850</td>\n",
              "      <td>29.294122</td>\n",
              "    </tr>\n",
              "    <tr>\n",
              "      <th>478</th>\n",
              "      <td>1.808710</td>\n",
              "      <td>27.216028</td>\n",
              "    </tr>\n",
              "    <tr>\n",
              "      <th>479</th>\n",
              "      <td>0.200968</td>\n",
              "      <td>28.621088</td>\n",
              "    </tr>\n",
              "  </tbody>\n",
              "</table>\n",
              "<p>480 rows × 2 columns</p>\n",
              "</div>"
            ],
            "text/plain": [
              "           tp        t2m\n",
              "0    2.243132  26.472437\n",
              "1    0.528485  27.565454\n",
              "2    9.087366  25.965326\n",
              "3    1.852529  24.651483\n",
              "4    0.150726  24.467798\n",
              "..        ...        ...\n",
              "475  0.163947  24.956934\n",
              "476  0.100862  26.793573\n",
              "477  0.338850  29.294122\n",
              "478  1.808710  27.216028\n",
              "479  0.200968  28.621088\n",
              "\n",
              "[480 rows x 2 columns]"
            ]
          },
          "metadata": {
            "tags": []
          },
          "execution_count": 51
        }
      ]
    },
    {
      "cell_type": "code",
      "metadata": {
        "id": "OP9dvcXlMpmI"
      },
      "source": [
        "tabelaEra5['tp'] = pd.to_numeric(tabelaEra5['tp'], downcast=\"float\")\n",
        "tabelaEra5['tp'][:].to_csv('tpERA5.txt', decimal=\".\", index=False, header = False, quoting=None, quotechar=\" \") #Exportação dos dados"
      ],
      "execution_count": null,
      "outputs": []
    },
    {
      "cell_type": "markdown",
      "metadata": {
        "id": "WzbmkHyGBoff"
      },
      "source": [
        "### Pacote RPY2\n",
        "\n",
        "O pacote r2py possibilita a execução de comando R no ambiente python do colab. Isto facilitará na confecção de um relatório uniforme e que fique salvo na nuvem.\n",
        "\n",
        "A documentação pode ser acessada através do link: https://rpy2.github.io/"
      ]
    },
    {
      "cell_type": "code",
      "metadata": {
        "colab": {
          "base_uri": "https://localhost:8080/"
        },
        "id": "uuYgA_0Rz2qt",
        "outputId": "4617903e-ed23-413c-b7f3-a1a5371e77c5"
      },
      "source": [
        "!pip install rpy2"
      ],
      "execution_count": null,
      "outputs": [
        {
          "output_type": "stream",
          "text": [
            "Requirement already satisfied: rpy2 in /usr/local/lib/python3.7/dist-packages (3.4.5)\n",
            "Requirement already satisfied: pytz in /usr/local/lib/python3.7/dist-packages (from rpy2) (2018.9)\n",
            "Requirement already satisfied: jinja2 in /usr/local/lib/python3.7/dist-packages (from rpy2) (2.11.3)\n",
            "Requirement already satisfied: cffi>=1.10.0 in /usr/local/lib/python3.7/dist-packages (from rpy2) (1.14.6)\n",
            "Requirement already satisfied: tzlocal in /usr/local/lib/python3.7/dist-packages (from rpy2) (1.5.1)\n",
            "Requirement already satisfied: pycparser in /usr/local/lib/python3.7/dist-packages (from cffi>=1.10.0->rpy2) (2.20)\n",
            "Requirement already satisfied: MarkupSafe>=0.23 in /usr/local/lib/python3.7/dist-packages (from jinja2->rpy2) (2.0.1)\n"
          ],
          "name": "stdout"
        }
      ]
    },
    {
      "cell_type": "code",
      "metadata": {
        "id": "x2EfHZpM8JDx"
      },
      "source": [
        "%load_ext rpy2.ipython"
      ],
      "execution_count": null,
      "outputs": []
    },
    {
      "cell_type": "code",
      "metadata": {
        "colab": {
          "base_uri": "https://localhost:8080/"
        },
        "id": "RTi4TJNR8Lz1",
        "outputId": "ebefb5b5-928c-40d5-c769-a597bc0504ce"
      },
      "source": [
        "%%R\n",
        "\n",
        "install.packages('SCI')\n",
        "\n"
      ],
      "execution_count": null,
      "outputs": [
        {
          "output_type": "stream",
          "text": [
            "2021-07-20 02:54:47,651 WARNING R[write to console]: Installing package into ‘/usr/local/lib/R/site-library’\n",
            "(as ‘lib’ is unspecified)\n",
            "\n",
            "2021-07-20 02:54:48,865 WARNING R[write to console]: also installing the dependencies ‘RcppArmadillo’, ‘goftest’, ‘Lmoments’, ‘fitdistrplus’, ‘lmomco’\n",
            "\n",
            "\n",
            "2021-07-20 02:54:48,870 WARNING R[write to console]: trying URL 'https://cran.rstudio.com/src/contrib/RcppArmadillo_0.10.6.0.0.tar.gz'\n",
            "\n",
            "2021-07-20 02:54:49,274 WARNING R[write to console]: Content type 'application/x-gzip'\n",
            "2021-07-20 02:54:49,276 WARNING R[write to console]:  length 1673880 bytes (1.6 MB)\n",
            "\n",
            "2021-07-20 02:54:49,279 WARNING R[write to console]: =\n",
            "2021-07-20 02:54:49,282 WARNING R[write to console]: =\n",
            "2021-07-20 02:54:49,292 WARNING R[write to console]: =\n",
            "2021-07-20 02:54:49,295 WARNING R[write to console]: =\n",
            "2021-07-20 02:54:49,297 WARNING R[write to console]: =\n",
            "2021-07-20 02:54:49,300 WARNING R[write to console]: =\n",
            "2021-07-20 02:54:49,303 WARNING R[write to console]: =\n",
            "2021-07-20 02:54:49,307 WARNING R[write to console]: =\n",
            "2021-07-20 02:54:49,308 WARNING R[write to console]: =\n",
            "2021-07-20 02:54:49,310 WARNING R[write to console]: =\n",
            "2021-07-20 02:54:49,312 WARNING R[write to console]: =\n",
            "2021-07-20 02:54:49,313 WARNING R[write to console]: =\n",
            "2021-07-20 02:54:49,315 WARNING R[write to console]: =\n",
            "2021-07-20 02:54:49,316 WARNING R[write to console]: =\n",
            "2021-07-20 02:54:49,320 WARNING R[write to console]: =\n",
            "2021-07-20 02:54:49,322 WARNING R[write to console]: =\n",
            "2021-07-20 02:54:49,323 WARNING R[write to console]: =\n",
            "2021-07-20 02:54:49,325 WARNING R[write to console]: =\n",
            "2021-07-20 02:54:49,327 WARNING R[write to console]: =\n",
            "2021-07-20 02:54:49,328 WARNING R[write to console]: =\n",
            "2021-07-20 02:54:49,330 WARNING R[write to console]: =\n",
            "2021-07-20 02:54:49,332 WARNING R[write to console]: =\n",
            "2021-07-20 02:54:49,333 WARNING R[write to console]: =\n",
            "2021-07-20 02:54:49,335 WARNING R[write to console]: =\n",
            "2021-07-20 02:54:49,337 WARNING R[write to console]: =\n",
            "2021-07-20 02:54:49,338 WARNING R[write to console]: =\n",
            "2021-07-20 02:54:49,340 WARNING R[write to console]: =\n",
            "2021-07-20 02:54:49,341 WARNING R[write to console]: =\n",
            "2021-07-20 02:54:49,343 WARNING R[write to console]: =\n",
            "2021-07-20 02:54:49,345 WARNING R[write to console]: =\n",
            "2021-07-20 02:54:49,346 WARNING R[write to console]: =\n",
            "2021-07-20 02:54:49,349 WARNING R[write to console]: =\n",
            "2021-07-20 02:54:49,350 WARNING R[write to console]: =\n",
            "2021-07-20 02:54:49,352 WARNING R[write to console]: =\n",
            "2021-07-20 02:54:49,353 WARNING R[write to console]: =\n",
            "2021-07-20 02:54:49,355 WARNING R[write to console]: =\n",
            "2021-07-20 02:54:49,357 WARNING R[write to console]: =\n",
            "2021-07-20 02:54:49,359 WARNING R[write to console]: =\n",
            "2021-07-20 02:54:49,360 WARNING R[write to console]: =\n",
            "2021-07-20 02:54:49,362 WARNING R[write to console]: =\n",
            "2021-07-20 02:54:49,363 WARNING R[write to console]: =\n",
            "2021-07-20 02:54:49,365 WARNING R[write to console]: =\n",
            "2021-07-20 02:54:49,367 WARNING R[write to console]: =\n",
            "2021-07-20 02:54:49,368 WARNING R[write to console]: =\n",
            "2021-07-20 02:54:49,370 WARNING R[write to console]: =\n",
            "2021-07-20 02:54:49,371 WARNING R[write to console]: =\n",
            "2021-07-20 02:54:49,373 WARNING R[write to console]: =\n",
            "2021-07-20 02:54:49,376 WARNING R[write to console]: =\n",
            "2021-07-20 02:54:49,377 WARNING R[write to console]: =\n",
            "2021-07-20 02:54:49,379 WARNING R[write to console]: =\n",
            "2021-07-20 02:54:49,380 WARNING R[write to console]: \n",
            "\n",
            "2021-07-20 02:54:49,382 WARNING R[write to console]: downloaded 1.6 MB\n",
            "\n",
            "\n",
            "2021-07-20 02:54:49,387 WARNING R[write to console]: trying URL 'https://cran.rstudio.com/src/contrib/goftest_1.2-2.tar.gz'\n",
            "\n",
            "2021-07-20 02:54:49,790 WARNING R[write to console]: Content type 'application/x-gzip'\n",
            "2021-07-20 02:54:49,791 WARNING R[write to console]:  length 18485 bytes (18 KB)\n",
            "\n",
            "2021-07-20 02:54:49,795 WARNING R[write to console]: =\n",
            "2021-07-20 02:54:49,799 WARNING R[write to console]: =\n",
            "2021-07-20 02:54:49,802 WARNING R[write to console]: =\n",
            "2021-07-20 02:54:49,803 WARNING R[write to console]: =\n",
            "2021-07-20 02:54:49,806 WARNING R[write to console]: =\n",
            "2021-07-20 02:54:49,808 WARNING R[write to console]: =\n",
            "2021-07-20 02:54:49,810 WARNING R[write to console]: =\n",
            "2021-07-20 02:54:49,816 WARNING R[write to console]: =\n",
            "2021-07-20 02:54:49,817 WARNING R[write to console]: =\n",
            "2021-07-20 02:54:49,819 WARNING R[write to console]: =\n",
            "2021-07-20 02:54:49,822 WARNING R[write to console]: =\n",
            "2021-07-20 02:54:49,824 WARNING R[write to console]: =\n",
            "2021-07-20 02:54:49,827 WARNING R[write to console]: =\n",
            "2021-07-20 02:54:49,830 WARNING R[write to console]: =\n",
            "2021-07-20 02:54:49,831 WARNING R[write to console]: =\n",
            "2021-07-20 02:54:49,835 WARNING R[write to console]: =\n",
            "2021-07-20 02:54:49,837 WARNING R[write to console]: =\n",
            "2021-07-20 02:54:49,839 WARNING R[write to console]: =\n",
            "2021-07-20 02:54:49,841 WARNING R[write to console]: =\n",
            "2021-07-20 02:54:49,843 WARNING R[write to console]: =\n",
            "2021-07-20 02:54:49,845 WARNING R[write to console]: =\n",
            "2021-07-20 02:54:49,846 WARNING R[write to console]: =\n",
            "2021-07-20 02:54:49,847 WARNING R[write to console]: =\n",
            "2021-07-20 02:54:49,851 WARNING R[write to console]: =\n",
            "2021-07-20 02:54:49,854 WARNING R[write to console]: =\n",
            "2021-07-20 02:54:49,856 WARNING R[write to console]: =\n",
            "2021-07-20 02:54:49,857 WARNING R[write to console]: =\n",
            "2021-07-20 02:54:49,859 WARNING R[write to console]: =\n",
            "2021-07-20 02:54:49,860 WARNING R[write to console]: =\n",
            "2021-07-20 02:54:49,862 WARNING R[write to console]: =\n",
            "2021-07-20 02:54:49,866 WARNING R[write to console]: =\n",
            "2021-07-20 02:54:49,869 WARNING R[write to console]: =\n",
            "2021-07-20 02:54:49,871 WARNING R[write to console]: =\n",
            "2021-07-20 02:54:49,872 WARNING R[write to console]: =\n",
            "2021-07-20 02:54:49,874 WARNING R[write to console]: =\n",
            "2021-07-20 02:54:49,880 WARNING R[write to console]: =\n",
            "2021-07-20 02:54:49,886 WARNING R[write to console]: =\n",
            "2021-07-20 02:54:49,889 WARNING R[write to console]: =\n",
            "2021-07-20 02:54:49,891 WARNING R[write to console]: =\n",
            "2021-07-20 02:54:49,893 WARNING R[write to console]: =\n",
            "2021-07-20 02:54:49,895 WARNING R[write to console]: =\n",
            "2021-07-20 02:54:49,896 WARNING R[write to console]: =\n",
            "2021-07-20 02:54:49,898 WARNING R[write to console]: =\n",
            "2021-07-20 02:54:49,899 WARNING R[write to console]: =\n",
            "2021-07-20 02:54:49,903 WARNING R[write to console]: =\n",
            "2021-07-20 02:54:49,905 WARNING R[write to console]: =\n",
            "2021-07-20 02:54:49,907 WARNING R[write to console]: =\n",
            "2021-07-20 02:54:49,909 WARNING R[write to console]: =\n",
            "2021-07-20 02:54:49,911 WARNING R[write to console]: =\n",
            "2021-07-20 02:54:49,912 WARNING R[write to console]: =\n",
            "2021-07-20 02:54:49,914 WARNING R[write to console]: \n",
            "\n",
            "2021-07-20 02:54:49,916 WARNING R[write to console]: downloaded 18 KB\n",
            "\n",
            "\n",
            "2021-07-20 02:54:49,923 WARNING R[write to console]: trying URL 'https://cran.rstudio.com/src/contrib/Lmoments_1.3-1.tar.gz'\n",
            "\n",
            "2021-07-20 02:54:50,326 WARNING R[write to console]: Content type 'application/x-gzip'\n",
            "2021-07-20 02:54:50,327 WARNING R[write to console]:  length 17918 bytes (17 KB)\n",
            "\n",
            "2021-07-20 02:54:50,329 WARNING R[write to console]: =\n",
            "2021-07-20 02:54:50,330 WARNING R[write to console]: =\n",
            "2021-07-20 02:54:50,334 WARNING R[write to console]: =\n",
            "2021-07-20 02:54:50,336 WARNING R[write to console]: =\n",
            "2021-07-20 02:54:50,338 WARNING R[write to console]: =\n",
            "2021-07-20 02:54:50,339 WARNING R[write to console]: =\n",
            "2021-07-20 02:54:50,341 WARNING R[write to console]: =\n",
            "2021-07-20 02:54:50,342 WARNING R[write to console]: =\n",
            "2021-07-20 02:54:50,343 WARNING R[write to console]: =\n",
            "2021-07-20 02:54:50,346 WARNING R[write to console]: =\n",
            "2021-07-20 02:54:50,347 WARNING R[write to console]: =\n",
            "2021-07-20 02:54:50,348 WARNING R[write to console]: =\n",
            "2021-07-20 02:54:50,349 WARNING R[write to console]: =\n",
            "2021-07-20 02:54:50,351 WARNING R[write to console]: =\n",
            "2021-07-20 02:54:50,353 WARNING R[write to console]: =\n",
            "2021-07-20 02:54:50,354 WARNING R[write to console]: =\n",
            "2021-07-20 02:54:50,355 WARNING R[write to console]: =\n",
            "2021-07-20 02:54:50,356 WARNING R[write to console]: =\n",
            "2021-07-20 02:54:50,358 WARNING R[write to console]: =\n",
            "2021-07-20 02:54:50,360 WARNING R[write to console]: =\n",
            "2021-07-20 02:54:50,361 WARNING R[write to console]: =\n",
            "2021-07-20 02:54:50,362 WARNING R[write to console]: =\n",
            "2021-07-20 02:54:50,364 WARNING R[write to console]: =\n",
            "2021-07-20 02:54:50,367 WARNING R[write to console]: =\n",
            "2021-07-20 02:54:50,368 WARNING R[write to console]: =\n",
            "2021-07-20 02:54:50,370 WARNING R[write to console]: =\n",
            "2021-07-20 02:54:50,371 WARNING R[write to console]: =\n",
            "2021-07-20 02:54:50,372 WARNING R[write to console]: =\n",
            "2021-07-20 02:54:50,374 WARNING R[write to console]: =\n",
            "2021-07-20 02:54:50,375 WARNING R[write to console]: =\n",
            "2021-07-20 02:54:50,377 WARNING R[write to console]: =\n",
            "2021-07-20 02:54:50,378 WARNING R[write to console]: =\n",
            "2021-07-20 02:54:50,380 WARNING R[write to console]: =\n",
            "2021-07-20 02:54:50,382 WARNING R[write to console]: =\n",
            "2021-07-20 02:54:50,384 WARNING R[write to console]: =\n",
            "2021-07-20 02:54:50,385 WARNING R[write to console]: =\n",
            "2021-07-20 02:54:50,387 WARNING R[write to console]: =\n",
            "2021-07-20 02:54:50,389 WARNING R[write to console]: =\n",
            "2021-07-20 02:54:50,390 WARNING R[write to console]: =\n",
            "2021-07-20 02:54:50,391 WARNING R[write to console]: =\n",
            "2021-07-20 02:54:50,393 WARNING R[write to console]: =\n",
            "2021-07-20 02:54:50,396 WARNING R[write to console]: =\n",
            "2021-07-20 02:54:50,399 WARNING R[write to console]: =\n",
            "2021-07-20 02:54:50,402 WARNING R[write to console]: =\n",
            "2021-07-20 02:54:50,404 WARNING R[write to console]: =\n",
            "2021-07-20 02:54:50,405 WARNING R[write to console]: =\n",
            "2021-07-20 02:54:50,423 WARNING R[write to console]: =\n",
            "2021-07-20 02:54:50,425 WARNING R[write to console]: =\n",
            "2021-07-20 02:54:50,427 WARNING R[write to console]: =\n",
            "2021-07-20 02:54:50,429 WARNING R[write to console]: =\n",
            "2021-07-20 02:54:50,431 WARNING R[write to console]: \n",
            "\n",
            "2021-07-20 02:54:50,441 WARNING R[write to console]: downloaded 17 KB\n",
            "\n",
            "\n",
            "2021-07-20 02:54:50,449 WARNING R[write to console]: trying URL 'https://cran.rstudio.com/src/contrib/fitdistrplus_1.1-5.tar.gz'\n",
            "\n",
            "2021-07-20 02:54:50,853 WARNING R[write to console]: Content type 'application/x-gzip'\n",
            "2021-07-20 02:54:50,855 WARNING R[write to console]:  length 2354740 bytes (2.2 MB)\n",
            "\n",
            "2021-07-20 02:54:50,858 WARNING R[write to console]: =\n",
            "2021-07-20 02:54:50,866 WARNING R[write to console]: =\n",
            "2021-07-20 02:54:50,874 WARNING R[write to console]: =\n",
            "2021-07-20 02:54:50,876 WARNING R[write to console]: =\n",
            "2021-07-20 02:54:50,879 WARNING R[write to console]: =\n",
            "2021-07-20 02:54:50,881 WARNING R[write to console]: =\n",
            "2021-07-20 02:54:50,884 WARNING R[write to console]: =\n",
            "2021-07-20 02:54:50,887 WARNING R[write to console]: =\n",
            "2021-07-20 02:54:50,891 WARNING R[write to console]: =\n",
            "2021-07-20 02:54:50,894 WARNING R[write to console]: =\n",
            "2021-07-20 02:54:50,897 WARNING R[write to console]: =\n",
            "2021-07-20 02:54:50,900 WARNING R[write to console]: =\n",
            "2021-07-20 02:54:50,903 WARNING R[write to console]: =\n",
            "2021-07-20 02:54:50,908 WARNING R[write to console]: =\n",
            "2021-07-20 02:54:50,911 WARNING R[write to console]: =\n",
            "2021-07-20 02:54:50,913 WARNING R[write to console]: =\n",
            "2021-07-20 02:54:50,915 WARNING R[write to console]: =\n",
            "2021-07-20 02:54:50,917 WARNING R[write to console]: =\n",
            "2021-07-20 02:54:50,919 WARNING R[write to console]: =\n",
            "2021-07-20 02:54:50,921 WARNING R[write to console]: =\n",
            "2021-07-20 02:54:50,922 WARNING R[write to console]: =\n",
            "2021-07-20 02:54:50,924 WARNING R[write to console]: =\n",
            "2021-07-20 02:54:50,926 WARNING R[write to console]: =\n",
            "2021-07-20 02:54:50,928 WARNING R[write to console]: =\n",
            "2021-07-20 02:54:50,930 WARNING R[write to console]: =\n",
            "2021-07-20 02:54:50,931 WARNING R[write to console]: =\n",
            "2021-07-20 02:54:50,933 WARNING R[write to console]: =\n",
            "2021-07-20 02:54:50,935 WARNING R[write to console]: =\n",
            "2021-07-20 02:54:50,937 WARNING R[write to console]: =\n",
            "2021-07-20 02:54:50,939 WARNING R[write to console]: =\n",
            "2021-07-20 02:54:50,941 WARNING R[write to console]: =\n",
            "2021-07-20 02:54:50,942 WARNING R[write to console]: =\n",
            "2021-07-20 02:54:50,944 WARNING R[write to console]: =\n",
            "2021-07-20 02:54:50,946 WARNING R[write to console]: =\n",
            "2021-07-20 02:54:50,948 WARNING R[write to console]: =\n",
            "2021-07-20 02:54:50,949 WARNING R[write to console]: =\n",
            "2021-07-20 02:54:50,952 WARNING R[write to console]: =\n",
            "2021-07-20 02:54:50,953 WARNING R[write to console]: =\n",
            "2021-07-20 02:54:50,954 WARNING R[write to console]: =\n",
            "2021-07-20 02:54:50,956 WARNING R[write to console]: =\n",
            "2021-07-20 02:54:50,958 WARNING R[write to console]: =\n",
            "2021-07-20 02:54:50,961 WARNING R[write to console]: =\n",
            "2021-07-20 02:54:50,963 WARNING R[write to console]: =\n",
            "2021-07-20 02:54:50,964 WARNING R[write to console]: =\n",
            "2021-07-20 02:54:50,966 WARNING R[write to console]: =\n",
            "2021-07-20 02:54:50,968 WARNING R[write to console]: =\n",
            "2021-07-20 02:54:50,970 WARNING R[write to console]: =\n",
            "2021-07-20 02:54:50,972 WARNING R[write to console]: =\n",
            "2021-07-20 02:54:50,974 WARNING R[write to console]: =\n",
            "2021-07-20 02:54:50,975 WARNING R[write to console]: =\n",
            "2021-07-20 02:54:50,976 WARNING R[write to console]: \n",
            "\n",
            "2021-07-20 02:54:50,979 WARNING R[write to console]: downloaded 2.2 MB\n",
            "\n",
            "\n",
            "2021-07-20 02:54:50,984 WARNING R[write to console]: trying URL 'https://cran.rstudio.com/src/contrib/lmomco_2.3.6.tar.gz'\n",
            "\n",
            "2021-07-20 02:54:51,277 WARNING R[write to console]: Content type 'application/x-gzip'\n",
            "2021-07-20 02:54:51,279 WARNING R[write to console]:  length 1126741 bytes (1.1 MB)\n",
            "\n",
            "2021-07-20 02:54:51,292 WARNING R[write to console]: =\n",
            "2021-07-20 02:54:51,349 WARNING R[write to console]: =\n",
            "2021-07-20 02:54:51,351 WARNING R[write to console]: =\n",
            "2021-07-20 02:54:51,356 WARNING R[write to console]: =\n",
            "2021-07-20 02:54:51,422 WARNING R[write to console]: =\n",
            "2021-07-20 02:54:51,425 WARNING R[write to console]: =\n",
            "2021-07-20 02:54:51,427 WARNING R[write to console]: =\n",
            "2021-07-20 02:54:51,429 WARNING R[write to console]: =\n",
            "2021-07-20 02:54:51,430 WARNING R[write to console]: =\n",
            "2021-07-20 02:54:51,433 WARNING R[write to console]: =\n",
            "2021-07-20 02:54:51,495 WARNING R[write to console]: =\n",
            "2021-07-20 02:54:51,497 WARNING R[write to console]: =\n",
            "2021-07-20 02:54:51,499 WARNING R[write to console]: =\n",
            "2021-07-20 02:54:51,500 WARNING R[write to console]: =\n",
            "2021-07-20 02:54:51,503 WARNING R[write to console]: =\n",
            "2021-07-20 02:54:51,505 WARNING R[write to console]: =\n",
            "2021-07-20 02:54:51,507 WARNING R[write to console]: =\n",
            "2021-07-20 02:54:51,508 WARNING R[write to console]: =\n",
            "2021-07-20 02:54:51,511 WARNING R[write to console]: =\n",
            "2021-07-20 02:54:51,519 WARNING R[write to console]: =\n",
            "2021-07-20 02:54:51,522 WARNING R[write to console]: =\n",
            "2021-07-20 02:54:51,527 WARNING R[write to console]: =\n",
            "2021-07-20 02:54:51,568 WARNING R[write to console]: =\n",
            "2021-07-20 02:54:51,570 WARNING R[write to console]: =\n",
            "2021-07-20 02:54:51,575 WARNING R[write to console]: =\n",
            "2021-07-20 02:54:51,578 WARNING R[write to console]: =\n",
            "2021-07-20 02:54:51,581 WARNING R[write to console]: =\n",
            "2021-07-20 02:54:51,583 WARNING R[write to console]: =\n",
            "2021-07-20 02:54:51,587 WARNING R[write to console]: =\n",
            "2021-07-20 02:54:51,591 WARNING R[write to console]: =\n",
            "2021-07-20 02:54:51,592 WARNING R[write to console]: =\n",
            "2021-07-20 02:54:51,595 WARNING R[write to console]: =\n",
            "2021-07-20 02:54:51,597 WARNING R[write to console]: =\n",
            "2021-07-20 02:54:51,602 WARNING R[write to console]: =\n",
            "2021-07-20 02:54:51,605 WARNING R[write to console]: =\n",
            "2021-07-20 02:54:51,607 WARNING R[write to console]: =\n",
            "2021-07-20 02:54:51,611 WARNING R[write to console]: =\n",
            "2021-07-20 02:54:51,614 WARNING R[write to console]: =\n",
            "2021-07-20 02:54:51,616 WARNING R[write to console]: =\n",
            "2021-07-20 02:54:51,618 WARNING R[write to console]: =\n",
            "2021-07-20 02:54:51,623 WARNING R[write to console]: =\n",
            "2021-07-20 02:54:51,630 WARNING R[write to console]: =\n",
            "2021-07-20 02:54:51,632 WARNING R[write to console]: =\n",
            "2021-07-20 02:54:51,634 WARNING R[write to console]: =\n",
            "2021-07-20 02:54:51,644 WARNING R[write to console]: =\n",
            "2021-07-20 02:54:51,652 WARNING R[write to console]: =\n",
            "2021-07-20 02:54:51,665 WARNING R[write to console]: =\n",
            "2021-07-20 02:54:51,671 WARNING R[write to console]: =\n",
            "2021-07-20 02:54:51,674 WARNING R[write to console]: =\n",
            "2021-07-20 02:54:51,679 WARNING R[write to console]: =\n",
            "2021-07-20 02:54:51,681 WARNING R[write to console]: \n",
            "\n",
            "2021-07-20 02:54:51,685 WARNING R[write to console]: downloaded 1.1 MB\n",
            "\n",
            "\n",
            "2021-07-20 02:54:51,691 WARNING R[write to console]: trying URL 'https://cran.rstudio.com/src/contrib/SCI_1.0-2.tar.gz'\n",
            "\n",
            "2021-07-20 02:54:52,096 WARNING R[write to console]: Content type 'application/x-gzip'\n",
            "2021-07-20 02:54:52,097 WARNING R[write to console]:  length 12887 bytes (12 KB)\n",
            "\n",
            "2021-07-20 02:54:52,101 WARNING R[write to console]: =\n",
            "2021-07-20 02:54:52,108 WARNING R[write to console]: =\n",
            "2021-07-20 02:54:52,113 WARNING R[write to console]: =\n",
            "2021-07-20 02:54:52,114 WARNING R[write to console]: =\n",
            "2021-07-20 02:54:52,118 WARNING R[write to console]: =\n",
            "2021-07-20 02:54:52,121 WARNING R[write to console]: =\n",
            "2021-07-20 02:54:52,125 WARNING R[write to console]: =\n",
            "2021-07-20 02:54:52,128 WARNING R[write to console]: =\n",
            "2021-07-20 02:54:52,135 WARNING R[write to console]: =\n",
            "2021-07-20 02:54:52,136 WARNING R[write to console]: =\n",
            "2021-07-20 02:54:52,143 WARNING R[write to console]: =\n",
            "2021-07-20 02:54:52,144 WARNING R[write to console]: =\n",
            "2021-07-20 02:54:52,151 WARNING R[write to console]: =\n",
            "2021-07-20 02:54:52,152 WARNING R[write to console]: =\n",
            "2021-07-20 02:54:52,157 WARNING R[write to console]: =\n",
            "2021-07-20 02:54:52,160 WARNING R[write to console]: =\n",
            "2021-07-20 02:54:52,162 WARNING R[write to console]: =\n",
            "2021-07-20 02:54:52,164 WARNING R[write to console]: =\n",
            "2021-07-20 02:54:52,167 WARNING R[write to console]: =\n",
            "2021-07-20 02:54:52,168 WARNING R[write to console]: =\n",
            "2021-07-20 02:54:52,170 WARNING R[write to console]: =\n",
            "2021-07-20 02:54:52,171 WARNING R[write to console]: =\n",
            "2021-07-20 02:54:52,172 WARNING R[write to console]: =\n",
            "2021-07-20 02:54:52,174 WARNING R[write to console]: =\n",
            "2021-07-20 02:54:52,179 WARNING R[write to console]: =\n",
            "2021-07-20 02:54:52,181 WARNING R[write to console]: =\n",
            "2021-07-20 02:54:52,183 WARNING R[write to console]: =\n",
            "2021-07-20 02:54:52,185 WARNING R[write to console]: =\n",
            "2021-07-20 02:54:52,188 WARNING R[write to console]: =\n",
            "2021-07-20 02:54:52,189 WARNING R[write to console]: =\n",
            "2021-07-20 02:54:52,190 WARNING R[write to console]: =\n",
            "2021-07-20 02:54:52,192 WARNING R[write to console]: =\n",
            "2021-07-20 02:54:52,193 WARNING R[write to console]: =\n",
            "2021-07-20 02:54:52,195 WARNING R[write to console]: =\n",
            "2021-07-20 02:54:52,197 WARNING R[write to console]: =\n",
            "2021-07-20 02:54:52,202 WARNING R[write to console]: =\n",
            "2021-07-20 02:54:52,204 WARNING R[write to console]: =\n",
            "2021-07-20 02:54:52,208 WARNING R[write to console]: =\n",
            "2021-07-20 02:54:52,209 WARNING R[write to console]: =\n",
            "2021-07-20 02:54:52,211 WARNING R[write to console]: =\n",
            "2021-07-20 02:54:52,213 WARNING R[write to console]: =\n",
            "2021-07-20 02:54:52,215 WARNING R[write to console]: =\n",
            "2021-07-20 02:54:52,217 WARNING R[write to console]: =\n",
            "2021-07-20 02:54:52,219 WARNING R[write to console]: =\n",
            "2021-07-20 02:54:52,220 WARNING R[write to console]: =\n",
            "2021-07-20 02:54:52,221 WARNING R[write to console]: =\n",
            "2021-07-20 02:54:52,223 WARNING R[write to console]: =\n",
            "2021-07-20 02:54:52,224 WARNING R[write to console]: =\n",
            "2021-07-20 02:54:52,226 WARNING R[write to console]: =\n",
            "2021-07-20 02:54:52,231 WARNING R[write to console]: =\n",
            "2021-07-20 02:54:52,233 WARNING R[write to console]: \n",
            "\n",
            "2021-07-20 02:54:52,235 WARNING R[write to console]: downloaded 12 KB\n",
            "\n",
            "\n",
            "2021-07-20 02:56:18,160 WARNING R[write to console]: \n",
            "\n",
            "2021-07-20 02:56:18,162 WARNING R[write to console]: \n",
            "2021-07-20 02:56:18,163 WARNING R[write to console]: The downloaded source packages are in\n",
            "\t‘/tmp/RtmpYruS4X/downloaded_packages’\n",
            "2021-07-20 02:56:18,171 WARNING R[write to console]: \n",
            "2021-07-20 02:56:18,173 WARNING R[write to console]: \n",
            "\n"
          ],
          "name": "stderr"
        }
      ]
    },
    {
      "cell_type": "code",
      "metadata": {
        "colab": {
          "base_uri": "https://localhost:8080/"
        },
        "id": "hlNFZwrQ82si",
        "outputId": "6a4595c0-f34e-4d40-dd23-8d4fea7ed674"
      },
      "source": [
        "%%R\n",
        "require(\"SCI\")"
      ],
      "execution_count": null,
      "outputs": [
        {
          "output_type": "stream",
          "text": [
            "2021-07-20 02:56:18,196 WARNING R[write to console]: Loading required package: SCI\n",
            "\n",
            "2021-07-20 02:56:18,204 WARNING R[write to console]: Loading required package: fitdistrplus\n",
            "\n",
            "2021-07-20 02:56:18,210 WARNING R[write to console]: Loading required package: MASS\n",
            "\n",
            "2021-07-20 02:56:18,283 WARNING R[write to console]: Loading required package: survival\n",
            "\n",
            "2021-07-20 02:56:19,352 WARNING R[write to console]: Loading required package: lmomco\n",
            "\n",
            "2021-07-20 02:56:19,460 WARNING R[write to console]: # Package lmomco (2.3.6) loaded [try lmomcoNews()].\n",
            "\n"
          ],
          "name": "stderr"
        }
      ]
    },
    {
      "cell_type": "code",
      "metadata": {
        "id": "Z3dMoKax8WTO"
      },
      "source": [
        "%%R\n",
        "# Cálculo de SPI\n",
        "PRECIP <- read.table(\"tpERA5.txt\")\n"
      ],
      "execution_count": null,
      "outputs": []
    },
    {
      "cell_type": "code",
      "metadata": {
        "id": "efREE7CoBM_5"
      },
      "source": [
        "%%R\n",
        "library(\"SCI\")\n",
        "spi.para <- fitSCI(PRECIP[,1],first.mon=1,time.scale=6,distr=\"gamma\",p0=TRUE)\n",
        "\n"
      ],
      "execution_count": null,
      "outputs": []
    },
    {
      "cell_type": "code",
      "metadata": {
        "id": "5244nMi_FxAz"
      },
      "source": [
        "%%R\n",
        "spi <- transformSCI(PRECIP[,1],first.mon=1,obj=spi.para)\n"
      ],
      "execution_count": null,
      "outputs": []
    },
    {
      "cell_type": "code",
      "metadata": {
        "colab": {
          "base_uri": "https://localhost:8080/",
          "height": 497
        },
        "id": "YSRwjYd1IJF9",
        "outputId": "98b14a0c-1bab-4142-f9fb-5f1b22b5ea9c"
      },
      "source": [
        "%%R\n",
        "plot(spi,t=\"l\")"
      ],
      "execution_count": null,
      "outputs": [
        {
          "output_type": "display_data",
          "data": {
            "image/png": "[encoded data removed]"
          },
          "metadata": {
            "tags": []
          }
        }
      ]
    },
    {
      "cell_type": "markdown",
      "metadata": {
        "id": "4mmQGDkRulnN"
      },
      "source": [
        "Os dados do SPI foram gerados para Petrolina como o esperado e demonstrado em aulas."
      ]
    },
    {
      "cell_type": "code",
      "metadata": {
        "id": "lF7Dw3oXBtBP"
      },
      "source": [
        "%%R\n",
        "write.csv(spi, file = \"SPI.csv\") #Exportação dos dados do SPI em formato csv"
      ],
      "execution_count": null,
      "outputs": []
    },
    {
      "cell_type": "markdown",
      "metadata": {
        "id": "Rh86ErsRvmww"
      },
      "source": [
        "### SPEI"
      ]
    },
    {
      "cell_type": "markdown",
      "metadata": {
        "id": "oa8jOtC3CgEl"
      },
      "source": [
        "Para o SPEI teremos que recorrer novamente à API do CDS afim de baixar os dados de umidade relativa."
      ]
    },
    {
      "cell_type": "code",
      "metadata": {
        "id": "rkRpAS0Vx-RT",
        "colab": {
          "base_uri": "https://localhost:8080/"
        },
        "outputId": "c0948471-7815-401d-a6de-1aef765f2bfe"
      },
      "source": [
        "import xarray as xr #biblioteca para processar os dados\n",
        "from urllib.request import urlopen\n",
        "\n",
        "# flag para o download data\n",
        "download_flag = False\n",
        "\n",
        "c2 = cdsapi.Client()\n",
        "\n",
        "fl2 = c2.retrieve(\n",
        "    'reanalysis-era5-pressure-levels-monthly-means',\n",
        "    {\n",
        "        'format': 'netcdf',\n",
        "        'product_type': 'monthly_averaged_reanalysis',\n",
        "        'variable': 'relative_humidity',\n",
        "        'pressure_level': '1000',\n",
        "        'year': [\n",
        "            '1981', '1982', '1983',\n",
        "            '1984', '1985', '1986',\n",
        "            '1987', '1988', '1989',\n",
        "            '1990', '1991', '1992',\n",
        "            '1993', '1994', '1995',\n",
        "            '1996', '1997', '1998',\n",
        "            '1999', '2000', '2001',\n",
        "            '2002', '2003', '2004',\n",
        "            '2005', '2006', '2007',\n",
        "            '2008', '2009', '2010',\n",
        "            '2011', '2012', '2013',\n",
        "            '2014', '2015', '2016',\n",
        "            '2017', '2018', '2019',\n",
        "            '2020',\n",
        "        ],\n",
        "        'month': [\n",
        "            '01', '02', '03',\n",
        "            '04', '05', '06',\n",
        "            '07', '08', '09',\n",
        "            '10', '11', '12',\n",
        "        ],\n",
        "        'time': '00:00',\n",
        "        'area': [\n",
        "            -7.5, -41.5, -9.6,\n",
        "            -9.6,\n",
        "        ],\n",
        "    },\n",
        "    'download.nc')\n",
        "\n",
        "\n",
        "#Escolha de diretório no google drive\n",
        "PernambucoERA5UR = './drive/MyDrive/CRH/PernambucoERA5UR.nc'\n",
        "\n",
        "#Caso a flag esteja como True o download do arquivo em netcdf será realizado e\n",
        "#persistido no diretório especificado no google drive\n",
        "if download_flag:\n",
        "  fl2.download(PernambucoERA5UR)\n",
        "\n",
        "#leitura dos dados\n",
        "with urlopen(fl2.location) as f2:\n",
        "    ds2 = xr.open_dataset(f2.read())\n",
        "    print(ds2)"
      ],
      "execution_count": null,
      "outputs": [
        {
          "output_type": "stream",
          "text": [
            "2021-07-20 02:56:20,297 INFO Welcome to the CDS\n",
            "2021-07-20 02:56:20,298 INFO Sending request to https://cds.climate.copernicus.eu/api/v2/resources/reanalysis-era5-pressure-levels-monthly-means\n",
            "2021-07-20 02:56:20,471 INFO Request is completed\n",
            "2021-07-20 02:56:20,473 INFO Downloading https://download-0000.copernicus-climate.eu/cache-compute-0000/cache/data0/adaptor.mars.internal-1626480151.5846174-20858-17-fb5823ac-91a8-4fd3-b50d-1690362be16e.nc to download.nc (1.1M)\n",
            "2021-07-20 02:56:22,262 INFO Download rate 607.4K/s\n"
          ],
          "name": "stderr"
        },
        {
          "output_type": "stream",
          "text": [
            "<xarray.Dataset>\n",
            "Dimensions:    (latitude: 9, longitude: 128, time: 480)\n",
            "Coordinates:\n",
            "  * longitude  (longitude) float32 -41.5 -41.25 -41.0 ... -10.25 -10.0 -9.75\n",
            "  * latitude   (latitude) float32 -7.6 -7.85 -8.1 -8.35 ... -9.1 -9.35 -9.6\n",
            "  * time       (time) datetime64[ns] 1981-01-01 1981-02-01 ... 2020-12-01\n",
            "Data variables:\n",
            "    r          (time, latitude, longitude) float32 ...\n",
            "Attributes:\n",
            "    Conventions:  CF-1.6\n",
            "    history:      2021-07-17 00:02:32 GMT by grib_to_netcdf-2.20.0: /opt/ecmw...\n"
          ],
          "name": "stdout"
        }
      ]
    },
    {
      "cell_type": "markdown",
      "metadata": {
        "id": "zl_UtyWRyOAd"
      },
      "source": [
        "As informações acima indicam as informações básicas do conjunto de dados da umidade relativa."
      ]
    },
    {
      "cell_type": "code",
      "metadata": {
        "colab": {
          "base_uri": "https://localhost:8080/",
          "height": 455
        },
        "id": "BzuiLJFxqg9l",
        "outputId": "78ce700c-209e-4991-b2a0-a773dc332c9d"
      },
      "source": [
        "#Transformação dos dados em dataframe\n",
        "df2 = ds2.to_dataframe()\n",
        "\n",
        "df2"
      ],
      "execution_count": null,
      "outputs": [
        {
          "output_type": "execute_result",
          "data": {
            "text/html": [
              "<div>\n",
              "<style scoped>\n",
              "    .dataframe tbody tr th:only-of-type {\n",
              "        vertical-align: middle;\n",
              "    }\n",
              "\n",
              "    .dataframe tbody tr th {\n",
              "        vertical-align: top;\n",
              "    }\n",
              "\n",
              "    .dataframe thead th {\n",
              "        text-align: right;\n",
              "    }\n",
              "</style>\n",
              "<table border=\"1\" class=\"dataframe\">\n",
              "  <thead>\n",
              "    <tr style=\"text-align: right;\">\n",
              "      <th></th>\n",
              "      <th></th>\n",
              "      <th></th>\n",
              "      <th>r</th>\n",
              "    </tr>\n",
              "    <tr>\n",
              "      <th>latitude</th>\n",
              "      <th>longitude</th>\n",
              "      <th>time</th>\n",
              "      <th></th>\n",
              "    </tr>\n",
              "  </thead>\n",
              "  <tbody>\n",
              "    <tr>\n",
              "      <th rowspan=\"5\" valign=\"top\">-7.6</th>\n",
              "      <th rowspan=\"5\" valign=\"top\">-41.50</th>\n",
              "      <th>1981-01-01</th>\n",
              "      <td>72.435432</td>\n",
              "    </tr>\n",
              "    <tr>\n",
              "      <th>1981-02-01</th>\n",
              "      <td>54.483418</td>\n",
              "    </tr>\n",
              "    <tr>\n",
              "      <th>1981-03-01</th>\n",
              "      <td>71.493050</td>\n",
              "    </tr>\n",
              "    <tr>\n",
              "      <th>1981-04-01</th>\n",
              "      <td>69.638603</td>\n",
              "    </tr>\n",
              "    <tr>\n",
              "      <th>1981-05-01</th>\n",
              "      <td>55.008308</td>\n",
              "    </tr>\n",
              "    <tr>\n",
              "      <th>...</th>\n",
              "      <th>...</th>\n",
              "      <th>...</th>\n",
              "      <td>...</td>\n",
              "    </tr>\n",
              "    <tr>\n",
              "      <th rowspan=\"5\" valign=\"top\">-9.6</th>\n",
              "      <th rowspan=\"5\" valign=\"top\">-9.75</th>\n",
              "      <th>2020-08-01</th>\n",
              "      <td>72.422440</td>\n",
              "    </tr>\n",
              "    <tr>\n",
              "      <th>2020-09-01</th>\n",
              "      <td>76.667488</td>\n",
              "    </tr>\n",
              "    <tr>\n",
              "      <th>2020-10-01</th>\n",
              "      <td>76.863235</td>\n",
              "    </tr>\n",
              "    <tr>\n",
              "      <th>2020-11-01</th>\n",
              "      <td>77.601204</td>\n",
              "    </tr>\n",
              "    <tr>\n",
              "      <th>2020-12-01</th>\n",
              "      <td>78.064598</td>\n",
              "    </tr>\n",
              "  </tbody>\n",
              "</table>\n",
              "<p>552960 rows × 1 columns</p>\n",
              "</div>"
            ],
            "text/plain": [
              "                                       r\n",
              "latitude longitude time                 \n",
              "-7.6     -41.50    1981-01-01  72.435432\n",
              "                   1981-02-01  54.483418\n",
              "                   1981-03-01  71.493050\n",
              "                   1981-04-01  69.638603\n",
              "                   1981-05-01  55.008308\n",
              "...                                  ...\n",
              "-9.6     -9.75     2020-08-01  72.422440\n",
              "                   2020-09-01  76.667488\n",
              "                   2020-10-01  76.863235\n",
              "                   2020-11-01  77.601204\n",
              "                   2020-12-01  78.064598\n",
              "\n",
              "[552960 rows x 1 columns]"
            ]
          },
          "metadata": {
            "tags": []
          },
          "execution_count": 63
        }
      ]
    },
    {
      "cell_type": "markdown",
      "metadata": {
        "id": "R67tsnTtDWNf"
      },
      "source": [
        "Novamente se faz necessária a busca pelo ponto no conjunto de dados acima, o qual contêm os dados de umidade relativa mais próximos da estação do INMET. Isto será realizado pela função geo_idx:"
      ]
    },
    {
      "cell_type": "code",
      "metadata": {
        "colab": {
          "base_uri": "https://localhost:8080/"
        },
        "id": "6pMUa_CkzUg5",
        "outputId": "d8fe7073-c855-4d1e-c5ef-f7d5b0d12f63"
      },
      "source": [
        "lats_ERA5UR = ds2.variables['latitude'][:]\n",
        "lons_ERA5UR = ds2.variables['longitude'][:]\n",
        "\n",
        "lat_idxUR = geo_idx(inmet_lat, lats_ERA5UR)\n",
        "lon_idxUR = geo_idx(inmet_lon, lons_ERA5UR)"
      ],
      "execution_count": null,
      "outputs": [
        {
          "output_type": "stream",
          "text": [
            "/usr/local/lib/python3.7/dist-packages/ipykernel_launcher.py:5: DeprecationWarning: Behaviour of argmin/argmax with neither dim nor axis argument will change to return a dict of indices of each dimension. To get a single, flat index, please use np.argmin(da.data) or np.argmax(da.data) instead of da.argmin() or da.argmax().\n",
            "  \"\"\"\n",
            "/usr/local/lib/python3.7/dist-packages/ipykernel_launcher.py:5: DeprecationWarning: Behaviour of argmin/argmax with neither dim nor axis argument will change to return a dict of indices of each dimension. To get a single, flat index, please use np.argmin(da.data) or np.argmax(da.data) instead of da.argmin() or da.argmax().\n",
            "  \"\"\"\n"
          ],
          "name": "stderr"
        }
      ]
    },
    {
      "cell_type": "code",
      "metadata": {
        "colab": {
          "base_uri": "https://localhost:8080/"
        },
        "id": "99p0ApHyzf9k",
        "outputId": "bc1c8df9-93fc-46ac-bec0-7c2f2c135633"
      },
      "source": [
        "print(lat_idxUR.values)\n",
        "print(lon_idxUR.values)"
      ],
      "execution_count": null,
      "outputs": [
        {
          "output_type": "stream",
          "text": [
            "7\n",
            "4\n"
          ],
          "name": "stdout"
        }
      ]
    },
    {
      "cell_type": "code",
      "metadata": {
        "colab": {
          "base_uri": "https://localhost:8080/",
          "height": 260
        },
        "id": "lk3o47BAEdlO",
        "outputId": "452cb3d9-f222-4d88-8afc-8db7ebb2d5a2"
      },
      "source": [
        "ds2.r.isel(latitude=lat_idxUR.values, longitude=lon_idxUR.values)"
      ],
      "execution_count": null,
      "outputs": [
        {
          "output_type": "execute_result",
          "data": {
            "text/html": [
              "<div><svg style=\"position: absolute; width: 0; height: 0; overflow: hidden\">\n",
              "<defs>\n",
              "<symbol id=\"icon-database\" viewBox=\"0 0 32 32\">\n",
              "<path d=\"M16 0c-8.837 0-16 2.239-16 5v4c0 2.761 7.163 5 16 5s16-2.239 16-5v-4c0-2.761-7.163-5-16-5z\"></path>\n",
              "<path d=\"M16 17c-8.837 0-16-2.239-16-5v6c0 2.761 7.163 5 16 5s16-2.239 16-5v-6c0 2.761-7.163 5-16 5z\"></path>\n",
              "<path d=\"M16 26c-8.837 0-16-2.239-16-5v6c0 2.761 7.163 5 16 5s16-2.239 16-5v-6c0 2.761-7.163 5-16 5z\"></path>\n",
              "</symbol>\n",
              "<symbol id=\"icon-file-text2\" viewBox=\"0 0 32 32\">\n",
              "<path d=\"M28.681 7.159c-0.694-0.947-1.662-2.053-2.724-3.116s-2.169-2.030-3.116-2.724c-1.612-1.182-2.393-1.319-2.841-1.319h-15.5c-1.378 0-2.5 1.121-2.5 2.5v27c0 1.378 1.122 2.5 2.5 2.5h23c1.378 0 2.5-1.122 2.5-2.5v-19.5c0-0.448-0.137-1.23-1.319-2.841zM24.543 5.457c0.959 0.959 1.712 1.825 2.268 2.543h-4.811v-4.811c0.718 0.556 1.584 1.309 2.543 2.268zM28 29.5c0 0.271-0.229 0.5-0.5 0.5h-23c-0.271 0-0.5-0.229-0.5-0.5v-27c0-0.271 0.229-0.5 0.5-0.5 0 0 15.499-0 15.5 0v7c0 0.552 0.448 1 1 1h7v19.5z\"></path>\n",
              "<path d=\"M23 26h-14c-0.552 0-1-0.448-1-1s0.448-1 1-1h14c0.552 0 1 0.448 1 1s-0.448 1-1 1z\"></path>\n",
              "<path d=\"M23 22h-14c-0.552 0-1-0.448-1-1s0.448-1 1-1h14c0.552 0 1 0.448 1 1s-0.448 1-1 1z\"></path>\n",
              "<path d=\"M23 18h-14c-0.552 0-1-0.448-1-1s0.448-1 1-1h14c0.552 0 1 0.448 1 1s-0.448 1-1 1z\"></path>\n",
              "</symbol>\n",
              "</defs>\n",
              "</svg>\n",
              "<style>/* CSS stylesheet for displaying xarray objects in jupyterlab.\n",
              " *\n",
              " */\n",
              "\n",
              ":root {\n",
              "  --xr-font-color0: var(--jp-content-font-color0, rgba(0, 0, 0, 1));\n",
              "  --xr-font-color2: var(--jp-content-font-color2, rgba(0, 0, 0, 0.54));\n",
              "  --xr-font-color3: var(--jp-content-font-color3, rgba(0, 0, 0, 0.38));\n",
              "  --xr-border-color: var(--jp-border-color2, #e0e0e0);\n",
              "  --xr-disabled-color: var(--jp-layout-color3, #bdbdbd);\n",
              "  --xr-background-color: var(--jp-layout-color0, white);\n",
              "  --xr-background-color-row-even: var(--jp-layout-color1, white);\n",
              "  --xr-background-color-row-odd: var(--jp-layout-color2, #eeeeee);\n",
              "}\n",
              "\n",
              "html[theme=dark],\n",
              "body.vscode-dark {\n",
              "  --xr-font-color0: rgba(255, 255, 255, 1);\n",
              "  --xr-font-color2: rgba(255, 255, 255, 0.54);\n",
              "  --xr-font-color3: rgba(255, 255, 255, 0.38);\n",
              "  --xr-border-color: #1F1F1F;\n",
              "  --xr-disabled-color: #515151;\n",
              "  --xr-background-color: #111111;\n",
              "  --xr-background-color-row-even: #111111;\n",
              "  --xr-background-color-row-odd: #313131;\n",
              "}\n",
              "\n",
              ".xr-wrap {\n",
              "  display: block;\n",
              "  min-width: 300px;\n",
              "  max-width: 700px;\n",
              "}\n",
              "\n",
              ".xr-text-repr-fallback {\n",
              "  /* fallback to plain text repr when CSS is not injected (untrusted notebook) */\n",
              "  display: none;\n",
              "}\n",
              "\n",
              ".xr-header {\n",
              "  padding-top: 6px;\n",
              "  padding-bottom: 6px;\n",
              "  margin-bottom: 4px;\n",
              "  border-bottom: solid 1px var(--xr-border-color);\n",
              "}\n",
              "\n",
              ".xr-header > div,\n",
              ".xr-header > ul {\n",
              "  display: inline;\n",
              "  margin-top: 0;\n",
              "  margin-bottom: 0;\n",
              "}\n",
              "\n",
              ".xr-obj-type,\n",
              ".xr-array-name {\n",
              "  margin-left: 2px;\n",
              "  margin-right: 10px;\n",
              "}\n",
              "\n",
              ".xr-obj-type {\n",
              "  color: var(--xr-font-color2);\n",
              "}\n",
              "\n",
              ".xr-sections {\n",
              "  padding-left: 0 !important;\n",
              "  display: grid;\n",
              "  grid-template-columns: 150px auto auto 1fr 20px 20px;\n",
              "}\n",
              "\n",
              ".xr-section-item {\n",
              "  display: contents;\n",
              "}\n",
              "\n",
              ".xr-section-item input {\n",
              "  display: none;\n",
              "}\n",
              "\n",
              ".xr-section-item input + label {\n",
              "  color: var(--xr-disabled-color);\n",
              "}\n",
              "\n",
              ".xr-section-item input:enabled + label {\n",
              "  cursor: pointer;\n",
              "  color: var(--xr-font-color2);\n",
              "}\n",
              "\n",
              ".xr-section-item input:enabled + label:hover {\n",
              "  color: var(--xr-font-color0);\n",
              "}\n",
              "\n",
              ".xr-section-summary {\n",
              "  grid-column: 1;\n",
              "  color: var(--xr-font-color2);\n",
              "  font-weight: 500;\n",
              "}\n",
              "\n",
              ".xr-section-summary > span {\n",
              "  display: inline-block;\n",
              "  padding-left: 0.5em;\n",
              "}\n",
              "\n",
              ".xr-section-summary-in:disabled + label {\n",
              "  color: var(--xr-font-color2);\n",
              "}\n",
              "\n",
              ".xr-section-summary-in + label:before {\n",
              "  display: inline-block;\n",
              "  content: '►';\n",
              "  font-size: 11px;\n",
              "  width: 15px;\n",
              "  text-align: center;\n",
              "}\n",
              "\n",
              ".xr-section-summary-in:disabled + label:before {\n",
              "  color: var(--xr-disabled-color);\n",
              "}\n",
              "\n",
              ".xr-section-summary-in:checked + label:before {\n",
              "  content: '▼';\n",
              "}\n",
              "\n",
              ".xr-section-summary-in:checked + label > span {\n",
              "  display: none;\n",
              "}\n",
              "\n",
              ".xr-section-summary,\n",
              ".xr-section-inline-details {\n",
              "  padding-top: 4px;\n",
              "  padding-bottom: 4px;\n",
              "}\n",
              "\n",
              ".xr-section-inline-details {\n",
              "  grid-column: 2 / -1;\n",
              "}\n",
              "\n",
              ".xr-section-details {\n",
              "  display: none;\n",
              "  grid-column: 1 / -1;\n",
              "  margin-bottom: 5px;\n",
              "}\n",
              "\n",
              ".xr-section-summary-in:checked ~ .xr-section-details {\n",
              "  display: contents;\n",
              "}\n",
              "\n",
              ".xr-array-wrap {\n",
              "  grid-column: 1 / -1;\n",
              "  display: grid;\n",
              "  grid-template-columns: 20px auto;\n",
              "}\n",
              "\n",
              ".xr-array-wrap > label {\n",
              "  grid-column: 1;\n",
              "  vertical-align: top;\n",
              "}\n",
              "\n",
              ".xr-preview {\n",
              "  color: var(--xr-font-color3);\n",
              "}\n",
              "\n",
              ".xr-array-preview,\n",
              ".xr-array-data {\n",
              "  padding: 0 5px !important;\n",
              "  grid-column: 2;\n",
              "}\n",
              "\n",
              ".xr-array-data,\n",
              ".xr-array-in:checked ~ .xr-array-preview {\n",
              "  display: none;\n",
              "}\n",
              "\n",
              ".xr-array-in:checked ~ .xr-array-data,\n",
              ".xr-array-preview {\n",
              "  display: inline-block;\n",
              "}\n",
              "\n",
              ".xr-dim-list {\n",
              "  display: inline-block !important;\n",
              "  list-style: none;\n",
              "  padding: 0 !important;\n",
              "  margin: 0;\n",
              "}\n",
              "\n",
              ".xr-dim-list li {\n",
              "  display: inline-block;\n",
              "  padding: 0;\n",
              "  margin: 0;\n",
              "}\n",
              "\n",
              ".xr-dim-list:before {\n",
              "  content: '(';\n",
              "}\n",
              "\n",
              ".xr-dim-list:after {\n",
              "  content: ')';\n",
              "}\n",
              "\n",
              ".xr-dim-list li:not(:last-child):after {\n",
              "  content: ',';\n",
              "  padding-right: 5px;\n",
              "}\n",
              "\n",
              ".xr-has-index {\n",
              "  font-weight: bold;\n",
              "}\n",
              "\n",
              ".xr-var-list,\n",
              ".xr-var-item {\n",
              "  display: contents;\n",
              "}\n",
              "\n",
              ".xr-var-item > div,\n",
              ".xr-var-item label,\n",
              ".xr-var-item > .xr-var-name span {\n",
              "  background-color: var(--xr-background-color-row-even);\n",
              "  margin-bottom: 0;\n",
              "}\n",
              "\n",
              ".xr-var-item > .xr-var-name:hover span {\n",
              "  padding-right: 5px;\n",
              "}\n",
              "\n",
              ".xr-var-list > li:nth-child(odd) > div,\n",
              ".xr-var-list > li:nth-child(odd) > label,\n",
              ".xr-var-list > li:nth-child(odd) > .xr-var-name span {\n",
              "  background-color: var(--xr-background-color-row-odd);\n",
              "}\n",
              "\n",
              ".xr-var-name {\n",
              "  grid-column: 1;\n",
              "}\n",
              "\n",
              ".xr-var-dims {\n",
              "  grid-column: 2;\n",
              "}\n",
              "\n",
              ".xr-var-dtype {\n",
              "  grid-column: 3;\n",
              "  text-align: right;\n",
              "  color: var(--xr-font-color2);\n",
              "}\n",
              "\n",
              ".xr-var-preview {\n",
              "  grid-column: 4;\n",
              "}\n",
              "\n",
              ".xr-var-name,\n",
              ".xr-var-dims,\n",
              ".xr-var-dtype,\n",
              ".xr-preview,\n",
              ".xr-attrs dt {\n",
              "  white-space: nowrap;\n",
              "  overflow: hidden;\n",
              "  text-overflow: ellipsis;\n",
              "  padding-right: 10px;\n",
              "}\n",
              "\n",
              ".xr-var-name:hover,\n",
              ".xr-var-dims:hover,\n",
              ".xr-var-dtype:hover,\n",
              ".xr-attrs dt:hover {\n",
              "  overflow: visible;\n",
              "  width: auto;\n",
              "  z-index: 1;\n",
              "}\n",
              "\n",
              ".xr-var-attrs,\n",
              ".xr-var-data {\n",
              "  display: none;\n",
              "  background-color: var(--xr-background-color) !important;\n",
              "  padding-bottom: 5px !important;\n",
              "}\n",
              "\n",
              ".xr-var-attrs-in:checked ~ .xr-var-attrs,\n",
              ".xr-var-data-in:checked ~ .xr-var-data {\n",
              "  display: block;\n",
              "}\n",
              "\n",
              ".xr-var-data > table {\n",
              "  float: right;\n",
              "}\n",
              "\n",
              ".xr-var-name span,\n",
              ".xr-var-data,\n",
              ".xr-attrs {\n",
              "  padding-left: 25px !important;\n",
              "}\n",
              "\n",
              ".xr-attrs,\n",
              ".xr-var-attrs,\n",
              ".xr-var-data {\n",
              "  grid-column: 1 / -1;\n",
              "}\n",
              "\n",
              "dl.xr-attrs {\n",
              "  padding: 0;\n",
              "  margin: 0;\n",
              "  display: grid;\n",
              "  grid-template-columns: 125px auto;\n",
              "}\n",
              "\n",
              ".xr-attrs dt,\n",
              ".xr-attrs dd {\n",
              "  padding: 0;\n",
              "  margin: 0;\n",
              "  float: left;\n",
              "  padding-right: 10px;\n",
              "  width: auto;\n",
              "}\n",
              "\n",
              ".xr-attrs dt {\n",
              "  font-weight: normal;\n",
              "  grid-column: 1;\n",
              "}\n",
              "\n",
              ".xr-attrs dt:hover span {\n",
              "  display: inline-block;\n",
              "  background: var(--xr-background-color);\n",
              "  padding-right: 10px;\n",
              "}\n",
              "\n",
              ".xr-attrs dd {\n",
              "  grid-column: 2;\n",
              "  white-space: pre-wrap;\n",
              "  word-break: break-all;\n",
              "}\n",
              "\n",
              ".xr-icon-database,\n",
              ".xr-icon-file-text2 {\n",
              "  display: inline-block;\n",
              "  vertical-align: middle;\n",
              "  width: 1em;\n",
              "  height: 1.5em !important;\n",
              "  stroke-width: 0;\n",
              "  stroke: currentColor;\n",
              "  fill: currentColor;\n",
              "}\n",
              "</style><pre class='xr-text-repr-fallback'>&lt;xarray.DataArray &#x27;r&#x27; (time: 480)&gt;\n",
              "array([64.38275 , 54.130024, 73.87066 , ..., 44.06179 , 59.828484, 46.79279 ],\n",
              "      dtype=float32)\n",
              "Coordinates:\n",
              "    longitude  float32 -40.5\n",
              "    latitude   float32 -9.35\n",
              "  * time       (time) datetime64[ns] 1981-01-01 1981-02-01 ... 2020-12-01\n",
              "Attributes:\n",
              "    units:          %\n",
              "    long_name:      Relative humidity\n",
              "    standard_name:  relative_humidity</pre><div class='xr-wrap' hidden><div class='xr-header'><div class='xr-obj-type'>xarray.DataArray</div><div class='xr-array-name'>'r'</div><ul class='xr-dim-list'><li><span class='xr-has-index'>time</span>: 480</li></ul></div><ul class='xr-sections'><li class='xr-section-item'><div class='xr-array-wrap'><input id='section-3afd9aac-ec5e-4a12-ab19-e945e1f7f3d0' class='xr-array-in' type='checkbox' checked><label for='section-3afd9aac-ec5e-4a12-ab19-e945e1f7f3d0' title='Show/hide data repr'><svg class='icon xr-icon-database'><use xlink:href='#icon-database'></use></svg></label><div class='xr-array-preview xr-preview'><span>64.38 54.13 73.87 74.41 65.95 63.69 ... 59.74 51.4 44.06 59.83 46.79</span></div><div class='xr-array-data'><pre>array([64.38275 , 54.130024, 73.87066 , ..., 44.06179 , 59.828484, 46.79279 ],\n",
              "      dtype=float32)</pre></div></div></li><li class='xr-section-item'><input id='section-9c5aeb05-fc9e-421a-b7d2-f895131cc19e' class='xr-section-summary-in' type='checkbox'  checked><label for='section-9c5aeb05-fc9e-421a-b7d2-f895131cc19e' class='xr-section-summary' >Coordinates: <span>(3)</span></label><div class='xr-section-inline-details'></div><div class='xr-section-details'><ul class='xr-var-list'><li class='xr-var-item'><div class='xr-var-name'><span>longitude</span></div><div class='xr-var-dims'>()</div><div class='xr-var-dtype'>float32</div><div class='xr-var-preview xr-preview'>-40.5</div><input id='attrs-f57109a5-b50f-41c5-841c-f3e70cd1f80e' class='xr-var-attrs-in' type='checkbox' ><label for='attrs-f57109a5-b50f-41c5-841c-f3e70cd1f80e' title='Show/Hide attributes'><svg class='icon xr-icon-file-text2'><use xlink:href='#icon-file-text2'></use></svg></label><input id='data-d28ce39e-531a-4e46-9b95-032e7b93da8e' class='xr-var-data-in' type='checkbox'><label for='data-d28ce39e-531a-4e46-9b95-032e7b93da8e' title='Show/Hide data repr'><svg class='icon xr-icon-database'><use xlink:href='#icon-database'></use></svg></label><div class='xr-var-attrs'><dl class='xr-attrs'><dt><span>units :</span></dt><dd>degrees_east</dd><dt><span>long_name :</span></dt><dd>longitude</dd></dl></div><div class='xr-var-data'><pre>array(-40.5, dtype=float32)</pre></div></li><li class='xr-var-item'><div class='xr-var-name'><span>latitude</span></div><div class='xr-var-dims'>()</div><div class='xr-var-dtype'>float32</div><div class='xr-var-preview xr-preview'>-9.35</div><input id='attrs-cac8b810-fd47-46f3-b3f1-8a48c95eb344' class='xr-var-attrs-in' type='checkbox' ><label for='attrs-cac8b810-fd47-46f3-b3f1-8a48c95eb344' title='Show/Hide attributes'><svg class='icon xr-icon-file-text2'><use xlink:href='#icon-file-text2'></use></svg></label><input id='data-98912c65-6bb4-422b-93f0-822af8b54d50' class='xr-var-data-in' type='checkbox'><label for='data-98912c65-6bb4-422b-93f0-822af8b54d50' title='Show/Hide data repr'><svg class='icon xr-icon-database'><use xlink:href='#icon-database'></use></svg></label><div class='xr-var-attrs'><dl class='xr-attrs'><dt><span>units :</span></dt><dd>degrees_north</dd><dt><span>long_name :</span></dt><dd>latitude</dd></dl></div><div class='xr-var-data'><pre>array(-9.35, dtype=float32)</pre></div></li><li class='xr-var-item'><div class='xr-var-name'><span class='xr-has-index'>time</span></div><div class='xr-var-dims'>(time)</div><div class='xr-var-dtype'>datetime64[ns]</div><div class='xr-var-preview xr-preview'>1981-01-01 ... 2020-12-01</div><input id='attrs-fef63155-9010-4555-93d3-3d59cdef08b9' class='xr-var-attrs-in' type='checkbox' ><label for='attrs-fef63155-9010-4555-93d3-3d59cdef08b9' title='Show/Hide attributes'><svg class='icon xr-icon-file-text2'><use xlink:href='#icon-file-text2'></use></svg></label><input id='data-8a8479aa-4dbd-4e30-a23e-375f524ed04f' class='xr-var-data-in' type='checkbox'><label for='data-8a8479aa-4dbd-4e30-a23e-375f524ed04f' title='Show/Hide data repr'><svg class='icon xr-icon-database'><use xlink:href='#icon-database'></use></svg></label><div class='xr-var-attrs'><dl class='xr-attrs'><dt><span>long_name :</span></dt><dd>time</dd></dl></div><div class='xr-var-data'><pre>array([&#x27;1981-01-01T00:00:00.000000000&#x27;, &#x27;1981-02-01T00:00:00.000000000&#x27;,\n",
              "       &#x27;1981-03-01T00:00:00.000000000&#x27;, ..., &#x27;2020-10-01T00:00:00.000000000&#x27;,\n",
              "       &#x27;2020-11-01T00:00:00.000000000&#x27;, &#x27;2020-12-01T00:00:00.000000000&#x27;],\n",
              "      dtype=&#x27;datetime64[ns]&#x27;)</pre></div></li></ul></div></li><li class='xr-section-item'><input id='section-f1ecc498-508d-4a6c-b4d8-90efbd98f68c' class='xr-section-summary-in' type='checkbox'  checked><label for='section-f1ecc498-508d-4a6c-b4d8-90efbd98f68c' class='xr-section-summary' >Attributes: <span>(3)</span></label><div class='xr-section-inline-details'></div><div class='xr-section-details'><dl class='xr-attrs'><dt><span>units :</span></dt><dd>%</dd><dt><span>long_name :</span></dt><dd>Relative humidity</dd><dt><span>standard_name :</span></dt><dd>relative_humidity</dd></dl></div></li></ul></div></div>"
            ],
            "text/plain": [
              "<xarray.DataArray 'r' (time: 480)>\n",
              "array([64.38275 , 54.130024, 73.87066 , ..., 44.06179 , 59.828484, 46.79279 ],\n",
              "      dtype=float32)\n",
              "Coordinates:\n",
              "    longitude  float32 -40.5\n",
              "    latitude   float32 -9.35\n",
              "  * time       (time) datetime64[ns] 1981-01-01 1981-02-01 ... 2020-12-01\n",
              "Attributes:\n",
              "    units:          %\n",
              "    long_name:      Relative humidity\n",
              "    standard_name:  relative_humidity"
            ]
          },
          "metadata": {
            "tags": []
          },
          "execution_count": 66
        }
      ]
    },
    {
      "cell_type": "markdown",
      "metadata": {
        "id": "-9z33bXmDvaj"
      },
      "source": [
        "O ponto encontrado tem coordenadas -9,35 e -40,5. Verificamos então a série em um formato gráfico:"
      ]
    },
    {
      "cell_type": "code",
      "metadata": {
        "colab": {
          "base_uri": "https://localhost:8080/",
          "height": 324
        },
        "id": "Ta2YeX5Lzmw0",
        "outputId": "a6dde63c-eda2-4adb-aa85-5306a7d0166b"
      },
      "source": [
        "ds2.r.isel(latitude=lat_idxUR.values, longitude=lon_idxUR.values).plot()"
      ],
      "execution_count": null,
      "outputs": [
        {
          "output_type": "execute_result",
          "data": {
            "text/plain": [
              "[<matplotlib.lines.Line2D at 0x7ffb03053a50>]"
            ]
          },
          "metadata": {
            "tags": []
          },
          "execution_count": 67
        },
        {
          "output_type": "display_data",
          "data": {
            "image/png": "[encoded data removed]",
            "text/plain": [
              "<Figure size 432x288 with 1 Axes>"
            ]
          },
          "metadata": {
            "tags": [],
            "needs_background": "light"
          }
        }
      ]
    },
    {
      "cell_type": "code",
      "metadata": {
        "colab": {
          "base_uri": "https://localhost:8080/",
          "height": 455
        },
        "id": "zW-PmzGiErDK",
        "outputId": "af1355b6-753f-4b5c-b029-295e7fbe201d"
      },
      "source": [
        "delta = 0.1\n",
        "latitude1UR = str(lats_ERA5UR[lat_idx].values + delta )\n",
        "latitude2UR = str(lats_ERA5UR[lat_idx].values - delta)\n",
        "longitude1UR = str(lons_ERA5UR[lon_idx].values + delta)\n",
        "longitude2UR = str(lons_ERA5UR[lon_idx].values - delta)\n",
        "\n",
        "tabelaEra5UR = (df2.query('latitude < ' + latitude1UR + ' and latitude > ' + latitude2UR + ' and longitude < ' + longitude1UR + ' and longitude > ' + longitude2UR))\n",
        "tabelaEra5UR"
      ],
      "execution_count": null,
      "outputs": [
        {
          "output_type": "execute_result",
          "data": {
            "text/html": [
              "<div>\n",
              "<style scoped>\n",
              "    .dataframe tbody tr th:only-of-type {\n",
              "        vertical-align: middle;\n",
              "    }\n",
              "\n",
              "    .dataframe tbody tr th {\n",
              "        vertical-align: top;\n",
              "    }\n",
              "\n",
              "    .dataframe thead th {\n",
              "        text-align: right;\n",
              "    }\n",
              "</style>\n",
              "<table border=\"1\" class=\"dataframe\">\n",
              "  <thead>\n",
              "    <tr style=\"text-align: right;\">\n",
              "      <th></th>\n",
              "      <th></th>\n",
              "      <th></th>\n",
              "      <th>r</th>\n",
              "    </tr>\n",
              "    <tr>\n",
              "      <th>latitude</th>\n",
              "      <th>longitude</th>\n",
              "      <th>time</th>\n",
              "      <th></th>\n",
              "    </tr>\n",
              "  </thead>\n",
              "  <tbody>\n",
              "    <tr>\n",
              "      <th rowspan=\"11\" valign=\"top\">-9.6</th>\n",
              "      <th rowspan=\"11\" valign=\"top\">-40.5</th>\n",
              "      <th>1981-01-01</th>\n",
              "      <td>64.180069</td>\n",
              "    </tr>\n",
              "    <tr>\n",
              "      <th>1981-02-01</th>\n",
              "      <td>55.126972</td>\n",
              "    </tr>\n",
              "    <tr>\n",
              "      <th>1981-03-01</th>\n",
              "      <td>73.792702</td>\n",
              "    </tr>\n",
              "    <tr>\n",
              "      <th>1981-04-01</th>\n",
              "      <td>74.182472</td>\n",
              "    </tr>\n",
              "    <tr>\n",
              "      <th>1981-05-01</th>\n",
              "      <td>66.585396</td>\n",
              "    </tr>\n",
              "    <tr>\n",
              "      <th>...</th>\n",
              "      <td>...</td>\n",
              "    </tr>\n",
              "    <tr>\n",
              "      <th>2020-08-01</th>\n",
              "      <td>61.718445</td>\n",
              "    </tr>\n",
              "    <tr>\n",
              "      <th>2020-09-01</th>\n",
              "      <td>53.373867</td>\n",
              "    </tr>\n",
              "    <tr>\n",
              "      <th>2020-10-01</th>\n",
              "      <td>45.746468</td>\n",
              "    </tr>\n",
              "    <tr>\n",
              "      <th>2020-11-01</th>\n",
              "      <td>60.682518</td>\n",
              "    </tr>\n",
              "    <tr>\n",
              "      <th>2020-12-01</th>\n",
              "      <td>47.881554</td>\n",
              "    </tr>\n",
              "  </tbody>\n",
              "</table>\n",
              "<p>480 rows × 1 columns</p>\n",
              "</div>"
            ],
            "text/plain": [
              "                                       r\n",
              "latitude longitude time                 \n",
              "-9.6     -40.5     1981-01-01  64.180069\n",
              "                   1981-02-01  55.126972\n",
              "                   1981-03-01  73.792702\n",
              "                   1981-04-01  74.182472\n",
              "                   1981-05-01  66.585396\n",
              "...                                  ...\n",
              "                   2020-08-01  61.718445\n",
              "                   2020-09-01  53.373867\n",
              "                   2020-10-01  45.746468\n",
              "                   2020-11-01  60.682518\n",
              "                   2020-12-01  47.881554\n",
              "\n",
              "[480 rows x 1 columns]"
            ]
          },
          "metadata": {
            "tags": []
          },
          "execution_count": 68
        }
      ]
    },
    {
      "cell_type": "code",
      "metadata": {
        "id": "LztvpgsrF22E"
      },
      "source": [
        "tabelaEra5UR=tabelaEra5UR.reset_index(drop=True)\n",
        "\n",
        "tabelaEra5UR[\"r\"] = pd.to_numeric(tabelaEra5UR[\"r\"], downcast=\"float\")\n",
        "\n",
        "tabelaTempChuva = pd.concat([dftabela[0:fimTabela], tabelaEra5UR], axis=1).reindex(dftabela[0:fimTabela].index)\n"
      ],
      "execution_count": null,
      "outputs": []
    },
    {
      "cell_type": "code",
      "metadata": {
        "id": "cyKgc4i95es4"
      },
      "source": [
        "tabelaTempChuva['t2mFahrenheit'] = (tabelaTempChuva['t2m'] * 1.8) + 32 #Conversão de celsius para fahrenheit"
      ],
      "execution_count": null,
      "outputs": []
    },
    {
      "cell_type": "code",
      "metadata": {
        "id": "Fah0cZDZFqcR"
      },
      "source": [
        "tabelaTempChuva['CH'] = 0.158 * ((100 - tabelaTempChuva['r']) ** 0.5) #cálculo de CH\n"
      ],
      "execution_count": null,
      "outputs": []
    },
    {
      "cell_type": "code",
      "metadata": {
        "colab": {
          "base_uri": "https://localhost:8080/",
          "height": 424
        },
        "id": "9PNSCehH5VeR",
        "outputId": "a2887f5a-e447-4fbd-a83d-73b3f83f39c6"
      },
      "source": [
        "tabelaTempChuva"
      ],
      "execution_count": null,
      "outputs": [
        {
          "output_type": "execute_result",
          "data": {
            "text/html": [
              "<div>\n",
              "<style scoped>\n",
              "    .dataframe tbody tr th:only-of-type {\n",
              "        vertical-align: middle;\n",
              "    }\n",
              "\n",
              "    .dataframe tbody tr th {\n",
              "        vertical-align: top;\n",
              "    }\n",
              "\n",
              "    .dataframe thead th {\n",
              "        text-align: right;\n",
              "    }\n",
              "</style>\n",
              "<table border=\"1\" class=\"dataframe\">\n",
              "  <thead>\n",
              "    <tr style=\"text-align: right;\">\n",
              "      <th></th>\n",
              "      <th>time</th>\n",
              "      <th>tp</th>\n",
              "      <th>t2m</th>\n",
              "      <th>r</th>\n",
              "      <th>t2mFahrenheit</th>\n",
              "      <th>CH</th>\n",
              "    </tr>\n",
              "  </thead>\n",
              "  <tbody>\n",
              "    <tr>\n",
              "      <th>0</th>\n",
              "      <td>1981-01-01</td>\n",
              "      <td>2.243132</td>\n",
              "      <td>26.472437</td>\n",
              "      <td>64.180069</td>\n",
              "      <td>79.650386</td>\n",
              "      <td>0.945626</td>\n",
              "    </tr>\n",
              "    <tr>\n",
              "      <th>1</th>\n",
              "      <td>1981-02-01</td>\n",
              "      <td>0.528485</td>\n",
              "      <td>27.565454</td>\n",
              "      <td>55.126972</td>\n",
              "      <td>81.617817</td>\n",
              "      <td>1.058400</td>\n",
              "    </tr>\n",
              "    <tr>\n",
              "      <th>2</th>\n",
              "      <td>1981-03-01</td>\n",
              "      <td>9.087366</td>\n",
              "      <td>25.965326</td>\n",
              "      <td>73.792702</td>\n",
              "      <td>78.737587</td>\n",
              "      <td>0.808850</td>\n",
              "    </tr>\n",
              "    <tr>\n",
              "      <th>3</th>\n",
              "      <td>1981-04-01</td>\n",
              "      <td>1.852529</td>\n",
              "      <td>24.651483</td>\n",
              "      <td>74.182472</td>\n",
              "      <td>76.372670</td>\n",
              "      <td>0.802813</td>\n",
              "    </tr>\n",
              "    <tr>\n",
              "      <th>4</th>\n",
              "      <td>1981-05-01</td>\n",
              "      <td>0.150726</td>\n",
              "      <td>24.467798</td>\n",
              "      <td>66.585396</td>\n",
              "      <td>76.042036</td>\n",
              "      <td>0.913325</td>\n",
              "    </tr>\n",
              "    <tr>\n",
              "      <th>...</th>\n",
              "      <td>...</td>\n",
              "      <td>...</td>\n",
              "      <td>...</td>\n",
              "      <td>...</td>\n",
              "      <td>...</td>\n",
              "      <td>...</td>\n",
              "    </tr>\n",
              "    <tr>\n",
              "      <th>475</th>\n",
              "      <td>2020-08-01</td>\n",
              "      <td>0.163947</td>\n",
              "      <td>24.956934</td>\n",
              "      <td>61.718445</td>\n",
              "      <td>76.922480</td>\n",
              "      <td>0.977579</td>\n",
              "    </tr>\n",
              "    <tr>\n",
              "      <th>476</th>\n",
              "      <td>2020-09-01</td>\n",
              "      <td>0.100862</td>\n",
              "      <td>26.793573</td>\n",
              "      <td>53.373867</td>\n",
              "      <td>80.228431</td>\n",
              "      <td>1.078877</td>\n",
              "    </tr>\n",
              "    <tr>\n",
              "      <th>477</th>\n",
              "      <td>2020-10-01</td>\n",
              "      <td>0.338850</td>\n",
              "      <td>29.294122</td>\n",
              "      <td>45.746468</td>\n",
              "      <td>84.729420</td>\n",
              "      <td>1.163781</td>\n",
              "    </tr>\n",
              "    <tr>\n",
              "      <th>478</th>\n",
              "      <td>2020-11-01</td>\n",
              "      <td>1.808710</td>\n",
              "      <td>27.216028</td>\n",
              "      <td>60.682518</td>\n",
              "      <td>80.988850</td>\n",
              "      <td>0.990718</td>\n",
              "    </tr>\n",
              "    <tr>\n",
              "      <th>479</th>\n",
              "      <td>2020-12-01</td>\n",
              "      <td>0.200968</td>\n",
              "      <td>28.621088</td>\n",
              "      <td>47.881554</td>\n",
              "      <td>83.517958</td>\n",
              "      <td>1.140651</td>\n",
              "    </tr>\n",
              "  </tbody>\n",
              "</table>\n",
              "<p>480 rows × 6 columns</p>\n",
              "</div>"
            ],
            "text/plain": [
              "          time        tp        t2m          r  t2mFahrenheit        CH\n",
              "0   1981-01-01  2.243132  26.472437  64.180069      79.650386  0.945626\n",
              "1   1981-02-01  0.528485  27.565454  55.126972      81.617817  1.058400\n",
              "2   1981-03-01  9.087366  25.965326  73.792702      78.737587  0.808850\n",
              "3   1981-04-01  1.852529  24.651483  74.182472      76.372670  0.802813\n",
              "4   1981-05-01  0.150726  24.467798  66.585396      76.042036  0.913325\n",
              "..         ...       ...        ...        ...            ...       ...\n",
              "475 2020-08-01  0.163947  24.956934  61.718445      76.922480  0.977579\n",
              "476 2020-09-01  0.100862  26.793573  53.373867      80.228431  1.078877\n",
              "477 2020-10-01  0.338850  29.294122  45.746468      84.729420  1.163781\n",
              "478 2020-11-01  1.808710  27.216028  60.682518      80.988850  0.990718\n",
              "479 2020-12-01  0.200968  28.621088  47.881554      83.517958  1.140651\n",
              "\n",
              "[480 rows x 6 columns]"
            ]
          },
          "metadata": {
            "tags": []
          },
          "execution_count": 72
        }
      ]
    },
    {
      "cell_type": "markdown",
      "metadata": {
        "id": "t2hVoWzVCV70"
      },
      "source": [
        "##### Tabela Hargreaves\n",
        "\n",
        "A tabela de Hargreaves foi gerada no excel e importada para o colab:\n"
      ]
    },
    {
      "cell_type": "code",
      "metadata": {
        "colab": {
          "base_uri": "https://localhost:8080/",
          "height": 363
        },
        "id": "9-OP9PuT5a-K",
        "outputId": "b15affe9-4dab-411b-9068-9965c81816c1"
      },
      "source": [
        "hargreavesF = pd.read_csv('./drive/MyDrive/CRH/hargravesF.csv', header=0)\n",
        "hargreavesF.head(10)"
      ],
      "execution_count": null,
      "outputs": [
        {
          "output_type": "execute_result",
          "data": {
            "text/html": [
              "<div>\n",
              "<style scoped>\n",
              "    .dataframe tbody tr th:only-of-type {\n",
              "        vertical-align: middle;\n",
              "    }\n",
              "\n",
              "    .dataframe tbody tr th {\n",
              "        vertical-align: top;\n",
              "    }\n",
              "\n",
              "    .dataframe thead th {\n",
              "        text-align: right;\n",
              "    }\n",
              "</style>\n",
              "<table border=\"1\" class=\"dataframe\">\n",
              "  <thead>\n",
              "    <tr style=\"text-align: right;\">\n",
              "      <th></th>\n",
              "      <th>LAT</th>\n",
              "      <th>1</th>\n",
              "      <th>2</th>\n",
              "      <th>3</th>\n",
              "      <th>4</th>\n",
              "      <th>5</th>\n",
              "      <th>6</th>\n",
              "      <th>7</th>\n",
              "      <th>8</th>\n",
              "      <th>9</th>\n",
              "      <th>10</th>\n",
              "      <th>11</th>\n",
              "      <th>12</th>\n",
              "    </tr>\n",
              "  </thead>\n",
              "  <tbody>\n",
              "    <tr>\n",
              "      <th>0</th>\n",
              "      <td>0</td>\n",
              "      <td>2255</td>\n",
              "      <td>2008</td>\n",
              "      <td>2350</td>\n",
              "      <td>2211</td>\n",
              "      <td>2165</td>\n",
              "      <td>2023</td>\n",
              "      <td>2123</td>\n",
              "      <td>2237</td>\n",
              "      <td>2200</td>\n",
              "      <td>2343</td>\n",
              "      <td>2205</td>\n",
              "      <td>2229.0</td>\n",
              "    </tr>\n",
              "    <tr>\n",
              "      <th>1</th>\n",
              "      <td>-1</td>\n",
              "      <td>2288</td>\n",
              "      <td>2117</td>\n",
              "      <td>2354</td>\n",
              "      <td>2197</td>\n",
              "      <td>2137</td>\n",
              "      <td>1990</td>\n",
              "      <td>2091</td>\n",
              "      <td>2216</td>\n",
              "      <td>2256</td>\n",
              "      <td>2358</td>\n",
              "      <td>2234</td>\n",
              "      <td>2265.0</td>\n",
              "    </tr>\n",
              "    <tr>\n",
              "      <th>2</th>\n",
              "      <td>-2</td>\n",
              "      <td>2371</td>\n",
              "      <td>2136</td>\n",
              "      <td>2357</td>\n",
              "      <td>2182</td>\n",
              "      <td>2108</td>\n",
              "      <td>1936</td>\n",
              "      <td>2059</td>\n",
              "      <td>2194</td>\n",
              "      <td>2251</td>\n",
              "      <td>2372</td>\n",
              "      <td>2263</td>\n",
              "      <td>2301.0</td>\n",
              "    </tr>\n",
              "    <tr>\n",
              "      <th>3</th>\n",
              "      <td>-3</td>\n",
              "      <td>2353</td>\n",
              "      <td>2154</td>\n",
              "      <td>2360</td>\n",
              "      <td>2167</td>\n",
              "      <td>2079</td>\n",
              "      <td>1902</td>\n",
              "      <td>2076</td>\n",
              "      <td>2172</td>\n",
              "      <td>2246</td>\n",
              "      <td>2386</td>\n",
              "      <td>2290</td>\n",
              "      <td>2337.0</td>\n",
              "    </tr>\n",
              "    <tr>\n",
              "      <th>4</th>\n",
              "      <td>-4</td>\n",
              "      <td>2385</td>\n",
              "      <td>2172</td>\n",
              "      <td>2362</td>\n",
              "      <td>2151</td>\n",
              "      <td>2050</td>\n",
              "      <td>1908</td>\n",
              "      <td>1993</td>\n",
              "      <td>2150</td>\n",
              "      <td>2240</td>\n",
              "      <td>2398</td>\n",
              "      <td>2318</td>\n",
              "      <td>2372.0</td>\n",
              "    </tr>\n",
              "    <tr>\n",
              "      <th>5</th>\n",
              "      <td>-5</td>\n",
              "      <td>2416</td>\n",
              "      <td>2189</td>\n",
              "      <td>2363</td>\n",
              "      <td>2134</td>\n",
              "      <td>2020</td>\n",
              "      <td>1854</td>\n",
              "      <td>1960</td>\n",
              "      <td>2126</td>\n",
              "      <td>2234</td>\n",
              "      <td>2411</td>\n",
              "      <td>2345</td>\n",
              "      <td>2407.0</td>\n",
              "    </tr>\n",
              "    <tr>\n",
              "      <th>6</th>\n",
              "      <td>-6</td>\n",
              "      <td>2447</td>\n",
              "      <td>2205</td>\n",
              "      <td>2363</td>\n",
              "      <td>2117</td>\n",
              "      <td>1989</td>\n",
              "      <td>1800</td>\n",
              "      <td>1926</td>\n",
              "      <td>2103</td>\n",
              "      <td>2226</td>\n",
              "      <td>2422</td>\n",
              "      <td>2371</td>\n",
              "      <td>2442.0</td>\n",
              "    </tr>\n",
              "    <tr>\n",
              "      <th>7</th>\n",
              "      <td>-7</td>\n",
              "      <td>2479</td>\n",
              "      <td>2221</td>\n",
              "      <td>2363</td>\n",
              "      <td>2099</td>\n",
              "      <td>1959</td>\n",
              "      <td>1785</td>\n",
              "      <td>1893</td>\n",
              "      <td>2078</td>\n",
              "      <td>2218</td>\n",
              "      <td>2433</td>\n",
              "      <td>2397</td>\n",
              "      <td>2476.0</td>\n",
              "    </tr>\n",
              "    <tr>\n",
              "      <th>8</th>\n",
              "      <td>-8</td>\n",
              "      <td>2509</td>\n",
              "      <td>2237</td>\n",
              "      <td>2362</td>\n",
              "      <td>2081</td>\n",
              "      <td>1927</td>\n",
              "      <td>1700</td>\n",
              "      <td>1858</td>\n",
              "      <td>2054</td>\n",
              "      <td>2210</td>\n",
              "      <td>2443</td>\n",
              "      <td>2423</td>\n",
              "      <td>2520.0</td>\n",
              "    </tr>\n",
              "    <tr>\n",
              "      <th>9</th>\n",
              "      <td>-9</td>\n",
              "      <td>2538</td>\n",
              "      <td>2251</td>\n",
              "      <td>2360</td>\n",
              "      <td>2062</td>\n",
              "      <td>1896</td>\n",
              "      <td>1715</td>\n",
              "      <td>1824</td>\n",
              "      <td>2028</td>\n",
              "      <td>2201</td>\n",
              "      <td>2453</td>\n",
              "      <td>2448</td>\n",
              "      <td>2544.0</td>\n",
              "    </tr>\n",
              "  </tbody>\n",
              "</table>\n",
              "</div>"
            ],
            "text/plain": [
              "   LAT     1     2     3     4     5  ...     7     8     9    10    11      12\n",
              "0    0  2255  2008  2350  2211  2165  ...  2123  2237  2200  2343  2205  2229.0\n",
              "1   -1  2288  2117  2354  2197  2137  ...  2091  2216  2256  2358  2234  2265.0\n",
              "2   -2  2371  2136  2357  2182  2108  ...  2059  2194  2251  2372  2263  2301.0\n",
              "3   -3  2353  2154  2360  2167  2079  ...  2076  2172  2246  2386  2290  2337.0\n",
              "4   -4  2385  2172  2362  2151  2050  ...  1993  2150  2240  2398  2318  2372.0\n",
              "5   -5  2416  2189  2363  2134  2020  ...  1960  2126  2234  2411  2345  2407.0\n",
              "6   -6  2447  2205  2363  2117  1989  ...  1926  2103  2226  2422  2371  2442.0\n",
              "7   -7  2479  2221  2363  2099  1959  ...  1893  2078  2218  2433  2397  2476.0\n",
              "8   -8  2509  2237  2362  2081  1927  ...  1858  2054  2210  2443  2423  2520.0\n",
              "9   -9  2538  2251  2360  2062  1896  ...  1824  2028  2201  2453  2448  2544.0\n",
              "\n",
              "[10 rows x 13 columns]"
            ]
          },
          "metadata": {
            "tags": []
          },
          "execution_count": 73
        }
      ]
    },
    {
      "cell_type": "code",
      "metadata": {
        "colab": {
          "base_uri": "https://localhost:8080/",
          "height": 175
        },
        "id": "DeD_gxl-Ju6I",
        "outputId": "80fe7c43-aa4c-4ed5-b279-b6cab6255040"
      },
      "source": [
        "hargreavesFEstacao = hargreavesF.iloc[9:11] # slicing dos dados interessados\n",
        "#hargreavesFEstacao = hargreavesFEstacao.drop(['0'],axis=1)\n",
        "hargreavesFEstacao = hargreavesFEstacao.append(pd.Series([np.nan]),  ignore_index = True) #inclusão de linha vazia para a interpolação\n",
        "hargreavesFEstacao = hargreavesFEstacao.drop([0], axis=1)\n",
        "hargreavesFEstacao.loc[2, 'LAT'] = -9.6\n",
        "hargreavesFEstacao.set_index('LAT', inplace=True)\n",
        "hargreavesFEstacao = hargreavesFEstacao.sort_index()\n",
        "\n",
        "hargreavesFEstacao = hargreavesFEstacao / 1000\n",
        "hargreavesFEstacao"
      ],
      "execution_count": null,
      "outputs": [
        {
          "output_type": "execute_result",
          "data": {
            "text/html": [
              "<div>\n",
              "<style scoped>\n",
              "    .dataframe tbody tr th:only-of-type {\n",
              "        vertical-align: middle;\n",
              "    }\n",
              "\n",
              "    .dataframe tbody tr th {\n",
              "        vertical-align: top;\n",
              "    }\n",
              "\n",
              "    .dataframe thead th {\n",
              "        text-align: right;\n",
              "    }\n",
              "</style>\n",
              "<table border=\"1\" class=\"dataframe\">\n",
              "  <thead>\n",
              "    <tr style=\"text-align: right;\">\n",
              "      <th></th>\n",
              "      <th>1</th>\n",
              "      <th>2</th>\n",
              "      <th>3</th>\n",
              "      <th>4</th>\n",
              "      <th>5</th>\n",
              "      <th>6</th>\n",
              "      <th>7</th>\n",
              "      <th>8</th>\n",
              "      <th>9</th>\n",
              "      <th>10</th>\n",
              "      <th>11</th>\n",
              "      <th>12</th>\n",
              "    </tr>\n",
              "    <tr>\n",
              "      <th>LAT</th>\n",
              "      <th></th>\n",
              "      <th></th>\n",
              "      <th></th>\n",
              "      <th></th>\n",
              "      <th></th>\n",
              "      <th></th>\n",
              "      <th></th>\n",
              "      <th></th>\n",
              "      <th></th>\n",
              "      <th></th>\n",
              "      <th></th>\n",
              "      <th></th>\n",
              "    </tr>\n",
              "  </thead>\n",
              "  <tbody>\n",
              "    <tr>\n",
              "      <th>-10.0</th>\n",
              "      <td>2.567</td>\n",
              "      <td>2.266</td>\n",
              "      <td>2.357</td>\n",
              "      <td>2.043</td>\n",
              "      <td>1.864</td>\n",
              "      <td>1.673</td>\n",
              "      <td>1.789</td>\n",
              "      <td>2.003</td>\n",
              "      <td>2.191</td>\n",
              "      <td>2.462</td>\n",
              "      <td>2.473</td>\n",
              "      <td>2.577</td>\n",
              "    </tr>\n",
              "    <tr>\n",
              "      <th>-9.6</th>\n",
              "      <td>NaN</td>\n",
              "      <td>NaN</td>\n",
              "      <td>NaN</td>\n",
              "      <td>NaN</td>\n",
              "      <td>NaN</td>\n",
              "      <td>NaN</td>\n",
              "      <td>NaN</td>\n",
              "      <td>NaN</td>\n",
              "      <td>NaN</td>\n",
              "      <td>NaN</td>\n",
              "      <td>NaN</td>\n",
              "      <td>NaN</td>\n",
              "    </tr>\n",
              "    <tr>\n",
              "      <th>-9.0</th>\n",
              "      <td>2.538</td>\n",
              "      <td>2.251</td>\n",
              "      <td>2.360</td>\n",
              "      <td>2.062</td>\n",
              "      <td>1.896</td>\n",
              "      <td>1.715</td>\n",
              "      <td>1.824</td>\n",
              "      <td>2.028</td>\n",
              "      <td>2.201</td>\n",
              "      <td>2.453</td>\n",
              "      <td>2.448</td>\n",
              "      <td>2.544</td>\n",
              "    </tr>\n",
              "  </tbody>\n",
              "</table>\n",
              "</div>"
            ],
            "text/plain": [
              "           1      2      3      4      5  ...      8      9     10     11     12\n",
              "LAT                                       ...                                   \n",
              "-10.0  2.567  2.266  2.357  2.043  1.864  ...  2.003  2.191  2.462  2.473  2.577\n",
              "-9.6     NaN    NaN    NaN    NaN    NaN  ...    NaN    NaN    NaN    NaN    NaN\n",
              "-9.0   2.538  2.251  2.360  2.062  1.896  ...  2.028  2.201  2.453  2.448  2.544\n",
              "\n",
              "[3 rows x 12 columns]"
            ]
          },
          "metadata": {
            "tags": []
          },
          "execution_count": 74
        }
      ]
    },
    {
      "cell_type": "code",
      "metadata": {
        "colab": {
          "base_uri": "https://localhost:8080/"
        },
        "id": "JDg52CQMWqBH",
        "outputId": "abee1f00-7e65-4de4-d008-a1624eba14b7"
      },
      "source": [
        "hargreavesFEstacao = hargreavesFEstacao.interpolate(method='linear', axis=0) #interpolação linear\n",
        "hargreavesFEstacao = hargreavesFEstacao.iloc[1].T\n",
        "hargreavesFEstacao"
      ],
      "execution_count": null,
      "outputs": [
        {
          "output_type": "execute_result",
          "data": {
            "text/plain": [
              "1     2.5525\n",
              "2     2.2585\n",
              "3     2.3585\n",
              "4     2.0525\n",
              "5     1.8800\n",
              "6     1.6940\n",
              "7     1.8065\n",
              "8     2.0155\n",
              "9     2.1960\n",
              "10    2.4575\n",
              "11    2.4605\n",
              "12    2.5605\n",
              "Name: -9.6, dtype: float64"
            ]
          },
          "metadata": {
            "tags": []
          },
          "execution_count": 75
        }
      ]
    },
    {
      "cell_type": "markdown",
      "metadata": {
        "id": "v8ok9zCjFSTC"
      },
      "source": [
        "A série acima (hargreavesFEstacao) possui os valores para a estação em questão."
      ]
    },
    {
      "cell_type": "code",
      "metadata": {
        "id": "ikLOeOBXiJCm"
      },
      "source": [
        "tabelaTempChuva['mes'] = pd.DatetimeIndex(tabelaTempChuva['time']).month"
      ],
      "execution_count": null,
      "outputs": []
    },
    {
      "cell_type": "code",
      "metadata": {
        "id": "1rKIg3PfjQqn"
      },
      "source": [
        "#concatenação dos dados de F na tabela geral\n",
        "for i in range(0,12):\n",
        "  mes = i + 1\n",
        "  tabelaTempChuva.loc[tabelaTempChuva.mes == mes, 'F'] = hargreavesFEstacao[i]\n"
      ],
      "execution_count": null,
      "outputs": []
    },
    {
      "cell_type": "code",
      "metadata": {
        "colab": {
          "base_uri": "https://localhost:8080/",
          "height": 206
        },
        "id": "Ozb0MN6MmJfM",
        "outputId": "833de556-831c-457e-b8db-e59022101289"
      },
      "source": [
        "tabelaTempChuva = tabelaTempChuva.drop(['mes'], axis=1)\n",
        "tabelaTempChuva.head()"
      ],
      "execution_count": null,
      "outputs": [
        {
          "output_type": "execute_result",
          "data": {
            "text/html": [
              "<div>\n",
              "<style scoped>\n",
              "    .dataframe tbody tr th:only-of-type {\n",
              "        vertical-align: middle;\n",
              "    }\n",
              "\n",
              "    .dataframe tbody tr th {\n",
              "        vertical-align: top;\n",
              "    }\n",
              "\n",
              "    .dataframe thead th {\n",
              "        text-align: right;\n",
              "    }\n",
              "</style>\n",
              "<table border=\"1\" class=\"dataframe\">\n",
              "  <thead>\n",
              "    <tr style=\"text-align: right;\">\n",
              "      <th></th>\n",
              "      <th>time</th>\n",
              "      <th>tp</th>\n",
              "      <th>t2m</th>\n",
              "      <th>r</th>\n",
              "      <th>t2mFahrenheit</th>\n",
              "      <th>CH</th>\n",
              "      <th>F</th>\n",
              "    </tr>\n",
              "  </thead>\n",
              "  <tbody>\n",
              "    <tr>\n",
              "      <th>0</th>\n",
              "      <td>1981-01-01</td>\n",
              "      <td>2.243132</td>\n",
              "      <td>26.472437</td>\n",
              "      <td>64.180069</td>\n",
              "      <td>79.650386</td>\n",
              "      <td>0.945626</td>\n",
              "      <td>2.5525</td>\n",
              "    </tr>\n",
              "    <tr>\n",
              "      <th>1</th>\n",
              "      <td>1981-02-01</td>\n",
              "      <td>0.528485</td>\n",
              "      <td>27.565454</td>\n",
              "      <td>55.126972</td>\n",
              "      <td>81.617817</td>\n",
              "      <td>1.058400</td>\n",
              "      <td>2.2585</td>\n",
              "    </tr>\n",
              "    <tr>\n",
              "      <th>2</th>\n",
              "      <td>1981-03-01</td>\n",
              "      <td>9.087366</td>\n",
              "      <td>25.965326</td>\n",
              "      <td>73.792702</td>\n",
              "      <td>78.737587</td>\n",
              "      <td>0.808850</td>\n",
              "      <td>2.3585</td>\n",
              "    </tr>\n",
              "    <tr>\n",
              "      <th>3</th>\n",
              "      <td>1981-04-01</td>\n",
              "      <td>1.852529</td>\n",
              "      <td>24.651483</td>\n",
              "      <td>74.182472</td>\n",
              "      <td>76.372670</td>\n",
              "      <td>0.802813</td>\n",
              "      <td>2.0525</td>\n",
              "    </tr>\n",
              "    <tr>\n",
              "      <th>4</th>\n",
              "      <td>1981-05-01</td>\n",
              "      <td>0.150726</td>\n",
              "      <td>24.467798</td>\n",
              "      <td>66.585396</td>\n",
              "      <td>76.042036</td>\n",
              "      <td>0.913325</td>\n",
              "      <td>1.8800</td>\n",
              "    </tr>\n",
              "  </tbody>\n",
              "</table>\n",
              "</div>"
            ],
            "text/plain": [
              "        time        tp        t2m          r  t2mFahrenheit        CH       F\n",
              "0 1981-01-01  2.243132  26.472437  64.180069      79.650386  0.945626  2.5525\n",
              "1 1981-02-01  0.528485  27.565454  55.126972      81.617817  1.058400  2.2585\n",
              "2 1981-03-01  9.087366  25.965326  73.792702      78.737587  0.808850  2.3585\n",
              "3 1981-04-01  1.852529  24.651483  74.182472      76.372670  0.802813  2.0525\n",
              "4 1981-05-01  0.150726  24.467798  66.585396      76.042036  0.913325  1.8800"
            ]
          },
          "metadata": {
            "tags": []
          },
          "execution_count": 78
        }
      ]
    },
    {
      "cell_type": "code",
      "metadata": {
        "id": "2jTrVh_logi1"
      },
      "source": [
        "#cálculo de ETP\n",
        "tabelaTempChuva['ETP'] = tabelaTempChuva['t2mFahrenheit'] * tabelaTempChuva['CH'] * tabelaTempChuva['F']"
      ],
      "execution_count": null,
      "outputs": []
    },
    {
      "cell_type": "code",
      "metadata": {
        "id": "kUxVslGno5mP"
      },
      "source": [
        "tabAcumulado = df_projeta['CHUVA']\n",
        "tabAcumulado = tabAcumulado.groupby(pd.Grouper(freq='1M', origin='start')).sum() #agrupamento de dados mensais\n",
        "tabAcumulado = tabAcumulado.reset_index()\n"
      ],
      "execution_count": null,
      "outputs": []
    },
    {
      "cell_type": "code",
      "metadata": {
        "colab": {
          "base_uri": "https://localhost:8080/",
          "height": 424
        },
        "id": "UeWf1_yJqL69",
        "outputId": "a99a7e3c-16a3-413d-fdeb-d10f47b9a39c"
      },
      "source": [
        "tabelaTempChuvaETP = pd.concat([tabelaTempChuva[0:fimTabela], tabAcumulado], axis=1).reindex(tabelaTempChuva[0:fimTabela].index) #concatenação de dados\n",
        "tabelaTempChuvaETP=tabelaTempChuvaETP.drop(['DT_MEDICAO'],axis=1)\n",
        "tabelaTempChuvaETP['P-ETP'] = tabelaTempChuvaETP['CHUVA'] - tabelaTempChuvaETP['ETP'] #cálculo de P - ETP\n",
        "tabelaTempChuvaETP"
      ],
      "execution_count": null,
      "outputs": [
        {
          "output_type": "execute_result",
          "data": {
            "text/html": [
              "<div>\n",
              "<style scoped>\n",
              "    .dataframe tbody tr th:only-of-type {\n",
              "        vertical-align: middle;\n",
              "    }\n",
              "\n",
              "    .dataframe tbody tr th {\n",
              "        vertical-align: top;\n",
              "    }\n",
              "\n",
              "    .dataframe thead th {\n",
              "        text-align: right;\n",
              "    }\n",
              "</style>\n",
              "<table border=\"1\" class=\"dataframe\">\n",
              "  <thead>\n",
              "    <tr style=\"text-align: right;\">\n",
              "      <th></th>\n",
              "      <th>time</th>\n",
              "      <th>tp</th>\n",
              "      <th>t2m</th>\n",
              "      <th>r</th>\n",
              "      <th>t2mFahrenheit</th>\n",
              "      <th>CH</th>\n",
              "      <th>F</th>\n",
              "      <th>ETP</th>\n",
              "      <th>CHUVA</th>\n",
              "      <th>P-ETP</th>\n",
              "    </tr>\n",
              "  </thead>\n",
              "  <tbody>\n",
              "    <tr>\n",
              "      <th>0</th>\n",
              "      <td>1981-01-01</td>\n",
              "      <td>2.243132</td>\n",
              "      <td>26.472437</td>\n",
              "      <td>64.180069</td>\n",
              "      <td>79.650386</td>\n",
              "      <td>0.945626</td>\n",
              "      <td>2.5525</td>\n",
              "      <td>192.252990</td>\n",
              "      <td>39.299999</td>\n",
              "      <td>-152.952991</td>\n",
              "    </tr>\n",
              "    <tr>\n",
              "      <th>1</th>\n",
              "      <td>1981-02-01</td>\n",
              "      <td>0.528485</td>\n",
              "      <td>27.565454</td>\n",
              "      <td>55.126972</td>\n",
              "      <td>81.617817</td>\n",
              "      <td>1.058400</td>\n",
              "      <td>2.2585</td>\n",
              "      <td>195.098921</td>\n",
              "      <td>15.200001</td>\n",
              "      <td>-179.898921</td>\n",
              "    </tr>\n",
              "    <tr>\n",
              "      <th>2</th>\n",
              "      <td>1981-03-01</td>\n",
              "      <td>9.087366</td>\n",
              "      <td>25.965326</td>\n",
              "      <td>73.792702</td>\n",
              "      <td>78.737587</td>\n",
              "      <td>0.808850</td>\n",
              "      <td>2.3585</td>\n",
              "      <td>150.205633</td>\n",
              "      <td>278.100006</td>\n",
              "      <td>127.894373</td>\n",
              "    </tr>\n",
              "    <tr>\n",
              "      <th>3</th>\n",
              "      <td>1981-04-01</td>\n",
              "      <td>1.852529</td>\n",
              "      <td>24.651483</td>\n",
              "      <td>74.182472</td>\n",
              "      <td>76.372670</td>\n",
              "      <td>0.802813</td>\n",
              "      <td>2.0525</td>\n",
              "      <td>125.844883</td>\n",
              "      <td>97.299995</td>\n",
              "      <td>-28.544888</td>\n",
              "    </tr>\n",
              "    <tr>\n",
              "      <th>4</th>\n",
              "      <td>1981-05-01</td>\n",
              "      <td>0.150726</td>\n",
              "      <td>24.467798</td>\n",
              "      <td>66.585396</td>\n",
              "      <td>76.042036</td>\n",
              "      <td>0.913325</td>\n",
              "      <td>1.8800</td>\n",
              "      <td>130.568030</td>\n",
              "      <td>0.000000</td>\n",
              "      <td>-130.568030</td>\n",
              "    </tr>\n",
              "    <tr>\n",
              "      <th>...</th>\n",
              "      <td>...</td>\n",
              "      <td>...</td>\n",
              "      <td>...</td>\n",
              "      <td>...</td>\n",
              "      <td>...</td>\n",
              "      <td>...</td>\n",
              "      <td>...</td>\n",
              "      <td>...</td>\n",
              "      <td>...</td>\n",
              "      <td>...</td>\n",
              "    </tr>\n",
              "    <tr>\n",
              "      <th>475</th>\n",
              "      <td>2020-08-01</td>\n",
              "      <td>0.163947</td>\n",
              "      <td>24.956934</td>\n",
              "      <td>61.718445</td>\n",
              "      <td>76.922480</td>\n",
              "      <td>0.977579</td>\n",
              "      <td>2.0155</td>\n",
              "      <td>151.561187</td>\n",
              "      <td>4.400000</td>\n",
              "      <td>-147.161187</td>\n",
              "    </tr>\n",
              "    <tr>\n",
              "      <th>476</th>\n",
              "      <td>2020-09-01</td>\n",
              "      <td>0.100862</td>\n",
              "      <td>26.793573</td>\n",
              "      <td>53.373867</td>\n",
              "      <td>80.228431</td>\n",
              "      <td>1.078877</td>\n",
              "      <td>2.1960</td>\n",
              "      <td>190.078246</td>\n",
              "      <td>0.600000</td>\n",
              "      <td>-189.478246</td>\n",
              "    </tr>\n",
              "    <tr>\n",
              "      <th>477</th>\n",
              "      <td>2020-10-01</td>\n",
              "      <td>0.338850</td>\n",
              "      <td>29.294122</td>\n",
              "      <td>45.746468</td>\n",
              "      <td>84.729420</td>\n",
              "      <td>1.163781</td>\n",
              "      <td>2.4575</td>\n",
              "      <td>242.325358</td>\n",
              "      <td>2.100000</td>\n",
              "      <td>-240.225358</td>\n",
              "    </tr>\n",
              "    <tr>\n",
              "      <th>478</th>\n",
              "      <td>2020-11-01</td>\n",
              "      <td>1.808710</td>\n",
              "      <td>27.216028</td>\n",
              "      <td>60.682518</td>\n",
              "      <td>80.988850</td>\n",
              "      <td>0.990718</td>\n",
              "      <td>2.4605</td>\n",
              "      <td>197.423367</td>\n",
              "      <td>163.099991</td>\n",
              "      <td>-34.323376</td>\n",
              "    </tr>\n",
              "    <tr>\n",
              "      <th>479</th>\n",
              "      <td>2020-12-01</td>\n",
              "      <td>0.200968</td>\n",
              "      <td>28.621088</td>\n",
              "      <td>47.881554</td>\n",
              "      <td>83.517958</td>\n",
              "      <td>1.140651</td>\n",
              "      <td>2.5605</td>\n",
              "      <td>243.925651</td>\n",
              "      <td>1.400000</td>\n",
              "      <td>-242.525651</td>\n",
              "    </tr>\n",
              "  </tbody>\n",
              "</table>\n",
              "<p>480 rows × 10 columns</p>\n",
              "</div>"
            ],
            "text/plain": [
              "          time        tp        t2m  ...         ETP       CHUVA       P-ETP\n",
              "0   1981-01-01  2.243132  26.472437  ...  192.252990   39.299999 -152.952991\n",
              "1   1981-02-01  0.528485  27.565454  ...  195.098921   15.200001 -179.898921\n",
              "2   1981-03-01  9.087366  25.965326  ...  150.205633  278.100006  127.894373\n",
              "3   1981-04-01  1.852529  24.651483  ...  125.844883   97.299995  -28.544888\n",
              "4   1981-05-01  0.150726  24.467798  ...  130.568030    0.000000 -130.568030\n",
              "..         ...       ...        ...  ...         ...         ...         ...\n",
              "475 2020-08-01  0.163947  24.956934  ...  151.561187    4.400000 -147.161187\n",
              "476 2020-09-01  0.100862  26.793573  ...  190.078246    0.600000 -189.478246\n",
              "477 2020-10-01  0.338850  29.294122  ...  242.325358    2.100000 -240.225358\n",
              "478 2020-11-01  1.808710  27.216028  ...  197.423367  163.099991  -34.323376\n",
              "479 2020-12-01  0.200968  28.621088  ...  243.925651    1.400000 -242.525651\n",
              "\n",
              "[480 rows x 10 columns]"
            ]
          },
          "metadata": {
            "tags": []
          },
          "execution_count": 81
        }
      ]
    },
    {
      "cell_type": "markdown",
      "metadata": {
        "id": "R_IP8aQ9MKpr"
      },
      "source": [
        "observação: o pacote pyeto tem divesas funções para o cálculo de evapotranspiração. A documentação pode ser encontrada em:https://pyeto.readthedocs.io/en/latest/\n",
        "\n",
        "Neste trabalho não foi utilizada esta biblioteca."
      ]
    },
    {
      "cell_type": "code",
      "metadata": {
        "id": "h3FXEPG3sIBz"
      },
      "source": [
        "tabelaTempChuvaETP['P-ETP'] = pd.to_numeric(tabelaTempChuvaETP['P-ETP'], downcast=\"float\") #convesão de dados em float\n",
        "tabelaTempChuvaETP['P-ETP'][:].to_csv('ETP_ERA5.txt', decimal=\".\", index=False, header = False, quoting=None, quotechar=\" \") #exportação dos dados de ETP"
      ],
      "execution_count": null,
      "outputs": []
    },
    {
      "cell_type": "markdown",
      "metadata": {
        "id": "V_AsCuFeGKML"
      },
      "source": [
        "De posse dos dados acima em formato txt pode-se utilizar o script fornecido pelo professor. O resultado do processamento retornará o SPEI"
      ]
    },
    {
      "cell_type": "code",
      "metadata": {
        "id": "UThgvvGTtFuq"
      },
      "source": [
        "%%R\n",
        "\n",
        "require(\"SCI\")\n",
        "\n",
        "# Cálculo de SPEI\n",
        "D <- read.table(\"ETP_ERA5.txt\")\n",
        "\n",
        "## apply SCI transformation\n",
        "spei.para <- fitSCI(D[,1],first.mon=1,time.scale=6,p0=TRUE,distr=\"logis\")\n",
        "spei <- transformSCI(D[,1],first.mon=1,obj=spei.para)\n"
      ],
      "execution_count": null,
      "outputs": []
    },
    {
      "cell_type": "code",
      "metadata": {
        "colab": {
          "base_uri": "https://localhost:8080/",
          "height": 497
        },
        "id": "qBKHA6nktUkm",
        "outputId": "fa2d9713-4f5a-414b-8e5f-551d5070e9fa"
      },
      "source": [
        "%%R\n",
        "\n",
        "write.csv(spei, file = \"SPEI.csv\")\n",
        "plot(spei,t=\"l\")"
      ],
      "execution_count": null,
      "outputs": [
        {
          "output_type": "display_data",
          "data": {
            "image/png": "[encoded data removed]"
          },
          "metadata": {
            "tags": []
          }
        }
      ]
    },
    {
      "cell_type": "markdown",
      "metadata": {
        "id": "wOa9yEKFwmMY"
      },
      "source": [
        "### NDVI"
      ]
    },
    {
      "cell_type": "markdown",
      "metadata": {
        "id": "-jOqr_lwHL-e"
      },
      "source": [
        "O NDVI e demais indíces foram produzidos no ambiente Google Earth Engine. O Pacote geemap possibilita de maneira amigável o processamento das imagens em python, no entanto como o pacote ainda não suporta a exportação dos dados em csv, os dados a seguir foram exportados do GEE e posteriormente importados no Colab."
      ]
    },
    {
      "cell_type": "code",
      "metadata": {
        "colab": {
          "base_uri": "https://localhost:8080/",
          "height": 455
        },
        "id": "IlrMuy-J5JqN",
        "outputId": "ba802485-8547-4014-bafe-b6446b5326de"
      },
      "source": [
        "modisNDVI = pd.read_csv('./drive/MyDrive/CRH/NDVIModis.csv', header=0)\n",
        "modisNDVI['data'] =  pd.to_datetime(modisNDVI['data'], format='%b %Y ')\n",
        "modisNDVI[' ndvi'] = modisNDVI[' ndvi']/10\n",
        "modisNDVI.set_index('data', inplace=True)\n",
        "\n",
        "modisNDVI"
      ],
      "execution_count": null,
      "outputs": [
        {
          "output_type": "execute_result",
          "data": {
            "text/html": [
              "<div>\n",
              "<style scoped>\n",
              "    .dataframe tbody tr th:only-of-type {\n",
              "        vertical-align: middle;\n",
              "    }\n",
              "\n",
              "    .dataframe tbody tr th {\n",
              "        vertical-align: top;\n",
              "    }\n",
              "\n",
              "    .dataframe thead th {\n",
              "        text-align: right;\n",
              "    }\n",
              "</style>\n",
              "<table border=\"1\" class=\"dataframe\">\n",
              "  <thead>\n",
              "    <tr style=\"text-align: right;\">\n",
              "      <th></th>\n",
              "      <th>ndvi</th>\n",
              "    </tr>\n",
              "    <tr>\n",
              "      <th>data</th>\n",
              "      <th></th>\n",
              "    </tr>\n",
              "  </thead>\n",
              "  <tbody>\n",
              "    <tr>\n",
              "      <th>2010-01-01</th>\n",
              "      <td>0.6501</td>\n",
              "    </tr>\n",
              "    <tr>\n",
              "      <th>2010-01-01</th>\n",
              "      <td>0.6219</td>\n",
              "    </tr>\n",
              "    <tr>\n",
              "      <th>2010-02-01</th>\n",
              "      <td>0.6073</td>\n",
              "    </tr>\n",
              "    <tr>\n",
              "      <th>2010-02-01</th>\n",
              "      <td>0.5748</td>\n",
              "    </tr>\n",
              "    <tr>\n",
              "      <th>2010-03-01</th>\n",
              "      <td>0.5330</td>\n",
              "    </tr>\n",
              "    <tr>\n",
              "      <th>...</th>\n",
              "      <td>...</td>\n",
              "    </tr>\n",
              "    <tr>\n",
              "      <th>2020-10-01</th>\n",
              "      <td>0.3560</td>\n",
              "    </tr>\n",
              "    <tr>\n",
              "      <th>2020-11-01</th>\n",
              "      <td>0.5426</td>\n",
              "    </tr>\n",
              "    <tr>\n",
              "      <th>2020-11-01</th>\n",
              "      <td>0.5514</td>\n",
              "    </tr>\n",
              "    <tr>\n",
              "      <th>2020-12-01</th>\n",
              "      <td>0.5427</td>\n",
              "    </tr>\n",
              "    <tr>\n",
              "      <th>2020-12-01</th>\n",
              "      <td>0.4691</td>\n",
              "    </tr>\n",
              "  </tbody>\n",
              "</table>\n",
              "<p>253 rows × 1 columns</p>\n",
              "</div>"
            ],
            "text/plain": [
              "              ndvi\n",
              "data              \n",
              "2010-01-01  0.6501\n",
              "2010-01-01  0.6219\n",
              "2010-02-01  0.6073\n",
              "2010-02-01  0.5748\n",
              "2010-03-01  0.5330\n",
              "...            ...\n",
              "2020-10-01  0.3560\n",
              "2020-11-01  0.5426\n",
              "2020-11-01  0.5514\n",
              "2020-12-01  0.5427\n",
              "2020-12-01  0.4691\n",
              "\n",
              "[253 rows x 1 columns]"
            ]
          },
          "metadata": {
            "tags": []
          },
          "execution_count": 85
        }
      ]
    },
    {
      "cell_type": "code",
      "metadata": {
        "colab": {
          "base_uri": "https://localhost:8080/",
          "height": 300
        },
        "id": "X4Rm7jqziZAb",
        "outputId": "48df81e4-4e92-4c35-f0ad-9e0ced4cdbfa"
      },
      "source": [
        "modisNDVI.describe()"
      ],
      "execution_count": null,
      "outputs": [
        {
          "output_type": "execute_result",
          "data": {
            "text/html": [
              "<div>\n",
              "<style scoped>\n",
              "    .dataframe tbody tr th:only-of-type {\n",
              "        vertical-align: middle;\n",
              "    }\n",
              "\n",
              "    .dataframe tbody tr th {\n",
              "        vertical-align: top;\n",
              "    }\n",
              "\n",
              "    .dataframe thead th {\n",
              "        text-align: right;\n",
              "    }\n",
              "</style>\n",
              "<table border=\"1\" class=\"dataframe\">\n",
              "  <thead>\n",
              "    <tr style=\"text-align: right;\">\n",
              "      <th></th>\n",
              "      <th>ndvi</th>\n",
              "    </tr>\n",
              "  </thead>\n",
              "  <tbody>\n",
              "    <tr>\n",
              "      <th>count</th>\n",
              "      <td>253.000000</td>\n",
              "    </tr>\n",
              "    <tr>\n",
              "      <th>mean</th>\n",
              "      <td>0.448045</td>\n",
              "    </tr>\n",
              "    <tr>\n",
              "      <th>std</th>\n",
              "      <td>0.121549</td>\n",
              "    </tr>\n",
              "    <tr>\n",
              "      <th>min</th>\n",
              "      <td>0.188900</td>\n",
              "    </tr>\n",
              "    <tr>\n",
              "      <th>25%</th>\n",
              "      <td>0.355200</td>\n",
              "    </tr>\n",
              "    <tr>\n",
              "      <th>50%</th>\n",
              "      <td>0.442200</td>\n",
              "    </tr>\n",
              "    <tr>\n",
              "      <th>75%</th>\n",
              "      <td>0.532300</td>\n",
              "    </tr>\n",
              "    <tr>\n",
              "      <th>max</th>\n",
              "      <td>0.730200</td>\n",
              "    </tr>\n",
              "  </tbody>\n",
              "</table>\n",
              "</div>"
            ],
            "text/plain": [
              "             ndvi\n",
              "count  253.000000\n",
              "mean     0.448045\n",
              "std      0.121549\n",
              "min      0.188900\n",
              "25%      0.355200\n",
              "50%      0.442200\n",
              "75%      0.532300\n",
              "max      0.730200"
            ]
          },
          "metadata": {
            "tags": []
          },
          "execution_count": 86
        }
      ]
    },
    {
      "cell_type": "code",
      "metadata": {
        "colab": {
          "base_uri": "https://localhost:8080/",
          "height": 286
        },
        "id": "LZ_lbAeDP-Li",
        "outputId": "910a445e-f7d3-4cfb-d916-af446fb2f0be"
      },
      "source": [
        "modisNDVI.plot()"
      ],
      "execution_count": null,
      "outputs": [
        {
          "output_type": "execute_result",
          "data": {
            "text/plain": [
              "<matplotlib.axes._subplots.AxesSubplot at 0x7ffb2163b850>"
            ]
          },
          "metadata": {
            "tags": []
          },
          "execution_count": 87
        },
        {
          "output_type": "display_data",
          "data": {
            "image/png": "[encoded data removed]",
            "text/plain": [
              "<Figure size 432x288 with 1 Axes>"
            ]
          },
          "metadata": {
            "tags": [],
            "needs_background": "light"
          }
        }
      ]
    },
    {
      "cell_type": "markdown",
      "metadata": {
        "id": "JYrtPEzIHiZo"
      },
      "source": [
        "O NDVI mínimo foi de 0.18 e o máximo de 0.73 durante o período de 2010 a 2020 para Petrolina."
      ]
    },
    {
      "cell_type": "markdown",
      "metadata": {
        "id": "fvr3LEIf8s0Y"
      },
      "source": [
        "### LST"
      ]
    },
    {
      "cell_type": "code",
      "metadata": {
        "colab": {
          "base_uri": "https://localhost:8080/",
          "height": 424
        },
        "id": "iZkA_8Yo8wiK",
        "outputId": "05229d66-97e3-429d-ceef-be92ae10db98"
      },
      "source": [
        "modisLST = pd.read_csv('./drive/MyDrive/CRH/LSTModis2.csv', header=0, decimal=',')\n",
        "modisLST['data'] =  pd.to_datetime(modisLST['data'], format='%b %Y')\n",
        "#modisLST.set_index('data', inplace=True)\n",
        "modisLST['lst'] = modisLST['lst'] * 0.02 - 273.15\n",
        "modisLST"
      ],
      "execution_count": null,
      "outputs": [
        {
          "output_type": "execute_result",
          "data": {
            "text/html": [
              "<div>\n",
              "<style scoped>\n",
              "    .dataframe tbody tr th:only-of-type {\n",
              "        vertical-align: middle;\n",
              "    }\n",
              "\n",
              "    .dataframe tbody tr th {\n",
              "        vertical-align: top;\n",
              "    }\n",
              "\n",
              "    .dataframe thead th {\n",
              "        text-align: right;\n",
              "    }\n",
              "</style>\n",
              "<table border=\"1\" class=\"dataframe\">\n",
              "  <thead>\n",
              "    <tr style=\"text-align: right;\">\n",
              "      <th></th>\n",
              "      <th>data</th>\n",
              "      <th>lst</th>\n",
              "    </tr>\n",
              "  </thead>\n",
              "  <tbody>\n",
              "    <tr>\n",
              "      <th>0</th>\n",
              "      <td>2010-01-01</td>\n",
              "      <td>30.97</td>\n",
              "    </tr>\n",
              "    <tr>\n",
              "      <th>1</th>\n",
              "      <td>2010-01-01</td>\n",
              "      <td>32.61</td>\n",
              "    </tr>\n",
              "    <tr>\n",
              "      <th>2</th>\n",
              "      <td>2010-01-01</td>\n",
              "      <td>33.85</td>\n",
              "    </tr>\n",
              "    <tr>\n",
              "      <th>3</th>\n",
              "      <td>2010-01-01</td>\n",
              "      <td>34.61</td>\n",
              "    </tr>\n",
              "    <tr>\n",
              "      <th>4</th>\n",
              "      <td>2010-02-01</td>\n",
              "      <td>36.61</td>\n",
              "    </tr>\n",
              "    <tr>\n",
              "      <th>...</th>\n",
              "      <td>...</td>\n",
              "      <td>...</td>\n",
              "    </tr>\n",
              "    <tr>\n",
              "      <th>501</th>\n",
              "      <td>2020-11-01</td>\n",
              "      <td>32.41</td>\n",
              "    </tr>\n",
              "    <tr>\n",
              "      <th>502</th>\n",
              "      <td>2020-12-01</td>\n",
              "      <td>33.07</td>\n",
              "    </tr>\n",
              "    <tr>\n",
              "      <th>503</th>\n",
              "      <td>2020-12-01</td>\n",
              "      <td>34.67</td>\n",
              "    </tr>\n",
              "    <tr>\n",
              "      <th>504</th>\n",
              "      <td>2020-12-01</td>\n",
              "      <td>33.83</td>\n",
              "    </tr>\n",
              "    <tr>\n",
              "      <th>505</th>\n",
              "      <td>2020-12-01</td>\n",
              "      <td>31.87</td>\n",
              "    </tr>\n",
              "  </tbody>\n",
              "</table>\n",
              "<p>506 rows × 2 columns</p>\n",
              "</div>"
            ],
            "text/plain": [
              "          data    lst\n",
              "0   2010-01-01  30.97\n",
              "1   2010-01-01  32.61\n",
              "2   2010-01-01  33.85\n",
              "3   2010-01-01  34.61\n",
              "4   2010-02-01  36.61\n",
              "..         ...    ...\n",
              "501 2020-11-01  32.41\n",
              "502 2020-12-01  33.07\n",
              "503 2020-12-01  34.67\n",
              "504 2020-12-01  33.83\n",
              "505 2020-12-01  31.87\n",
              "\n",
              "[506 rows x 2 columns]"
            ]
          },
          "metadata": {
            "tags": []
          },
          "execution_count": 88
        }
      ]
    },
    {
      "cell_type": "code",
      "metadata": {
        "colab": {
          "base_uri": "https://localhost:8080/",
          "height": 282
        },
        "id": "3AOPSxlQQKfc",
        "outputId": "be82d764-f44b-42c8-dd8d-7a58294bc8f2"
      },
      "source": [
        "modisLST['lst'].plot()"
      ],
      "execution_count": null,
      "outputs": [
        {
          "output_type": "execute_result",
          "data": {
            "text/plain": [
              "<matplotlib.axes._subplots.AxesSubplot at 0x7ffb02f78e90>"
            ]
          },
          "metadata": {
            "tags": []
          },
          "execution_count": 89
        },
        {
          "output_type": "display_data",
          "data": {
            "image/png": "[encoded data removed]",
            "text/plain": [
              "<Figure size 432x288 with 1 Axes>"
            ]
          },
          "metadata": {
            "tags": [],
            "needs_background": "light"
          }
        }
      ]
    },
    {
      "cell_type": "markdown",
      "metadata": {
        "id": "i2HLifNOI3qS"
      },
      "source": [
        "Uma vez que os dados de LST tem resolução temporal de 8 dias deve-se ajustar os dados para o posterior cálculo do VHI."
      ]
    },
    {
      "cell_type": "code",
      "metadata": {
        "id": "zuXMKjEn88if"
      },
      "source": [
        "lista = []\n",
        "dim = len(modisLST['lst']) -1\n",
        "\n",
        "for i in range(0,dim,2):\n",
        "  lista.append(((modisLST['lst'][i] + modisLST['lst'][i+1])/2))\n",
        "\n"
      ],
      "execution_count": null,
      "outputs": []
    },
    {
      "cell_type": "code",
      "metadata": {
        "id": "2fhCAQXGBUIE"
      },
      "source": [
        "temperatura =pd.Series(lista)\n",
        "temp = temperatura.to_frame()\n",
        "modis = modisNDVI.reset_index(drop=True)\n",
        "modis['temp'] = temp\n"
      ],
      "execution_count": null,
      "outputs": []
    },
    {
      "cell_type": "markdown",
      "metadata": {
        "id": "i3bKtm9-NdOp"
      },
      "source": [
        "### VHI"
      ]
    },
    {
      "cell_type": "code",
      "metadata": {
        "id": "K7Obkhl3DR3l"
      },
      "source": [
        "ndviMin = modis[' ndvi'].min()\n",
        "ndviMax = modis[' ndvi'].max()\n",
        "tempMin = modis['temp'].min()\n",
        "tempMax = modis['temp'].max()"
      ],
      "execution_count": null,
      "outputs": []
    },
    {
      "cell_type": "code",
      "metadata": {
        "colab": {
          "base_uri": "https://localhost:8080/",
          "height": 424
        },
        "id": "O3qTn8lFpTut",
        "outputId": "93c57d1c-713e-4cb1-dea3-ca70812cb96e"
      },
      "source": [
        "modis['vci'] = ((modis[' ndvi'] - ndviMin) / ( ndviMax - ndviMin)) * 100\n",
        "modis['tci'] = 100 * (tempMax - modis['temp']) / ( tempMax - tempMin)\n",
        "modis['VHI'] = 0.5 * modis['vci'] + 0.5 * modis['tci']\n",
        "modis"
      ],
      "execution_count": null,
      "outputs": [
        {
          "output_type": "execute_result",
          "data": {
            "text/html": [
              "<div>\n",
              "<style scoped>\n",
              "    .dataframe tbody tr th:only-of-type {\n",
              "        vertical-align: middle;\n",
              "    }\n",
              "\n",
              "    .dataframe tbody tr th {\n",
              "        vertical-align: top;\n",
              "    }\n",
              "\n",
              "    .dataframe thead th {\n",
              "        text-align: right;\n",
              "    }\n",
              "</style>\n",
              "<table border=\"1\" class=\"dataframe\">\n",
              "  <thead>\n",
              "    <tr style=\"text-align: right;\">\n",
              "      <th></th>\n",
              "      <th>ndvi</th>\n",
              "      <th>temp</th>\n",
              "      <th>vci</th>\n",
              "      <th>tci</th>\n",
              "      <th>VHI</th>\n",
              "    </tr>\n",
              "  </thead>\n",
              "  <tbody>\n",
              "    <tr>\n",
              "      <th>0</th>\n",
              "      <td>0.6501</td>\n",
              "      <td>31.79</td>\n",
              "      <td>85.202291</td>\n",
              "      <td>66.414435</td>\n",
              "      <td>75.808363</td>\n",
              "    </tr>\n",
              "    <tr>\n",
              "      <th>1</th>\n",
              "      <td>0.6219</td>\n",
              "      <td>34.23</td>\n",
              "      <td>79.992610</td>\n",
              "      <td>52.211874</td>\n",
              "      <td>66.102242</td>\n",
              "    </tr>\n",
              "    <tr>\n",
              "      <th>2</th>\n",
              "      <td>0.6073</td>\n",
              "      <td>36.17</td>\n",
              "      <td>77.295400</td>\n",
              "      <td>40.919674</td>\n",
              "      <td>59.107537</td>\n",
              "    </tr>\n",
              "    <tr>\n",
              "      <th>3</th>\n",
              "      <td>0.5748</td>\n",
              "      <td>34.63</td>\n",
              "      <td>71.291336</td>\n",
              "      <td>49.883586</td>\n",
              "      <td>60.587461</td>\n",
              "    </tr>\n",
              "    <tr>\n",
              "      <th>4</th>\n",
              "      <td>0.5330</td>\n",
              "      <td>34.61</td>\n",
              "      <td>63.569185</td>\n",
              "      <td>50.000000</td>\n",
              "      <td>56.784593</td>\n",
              "    </tr>\n",
              "    <tr>\n",
              "      <th>...</th>\n",
              "      <td>...</td>\n",
              "      <td>...</td>\n",
              "      <td>...</td>\n",
              "      <td>...</td>\n",
              "      <td>...</td>\n",
              "    </tr>\n",
              "    <tr>\n",
              "      <th>248</th>\n",
              "      <td>0.3560</td>\n",
              "      <td>40.92</td>\n",
              "      <td>30.870127</td>\n",
              "      <td>13.271246</td>\n",
              "      <td>22.070687</td>\n",
              "    </tr>\n",
              "    <tr>\n",
              "      <th>249</th>\n",
              "      <td>0.5426</td>\n",
              "      <td>32.29</td>\n",
              "      <td>65.342694</td>\n",
              "      <td>63.504075</td>\n",
              "      <td>64.423384</td>\n",
              "    </tr>\n",
              "    <tr>\n",
              "      <th>250</th>\n",
              "      <td>0.5514</td>\n",
              "      <td>32.57</td>\n",
              "      <td>66.968409</td>\n",
              "      <td>61.874272</td>\n",
              "      <td>64.421341</td>\n",
              "    </tr>\n",
              "    <tr>\n",
              "      <th>251</th>\n",
              "      <td>0.5427</td>\n",
              "      <td>33.87</td>\n",
              "      <td>65.361168</td>\n",
              "      <td>54.307334</td>\n",
              "      <td>59.834251</td>\n",
              "    </tr>\n",
              "    <tr>\n",
              "      <th>252</th>\n",
              "      <td>0.4691</td>\n",
              "      <td>32.85</td>\n",
              "      <td>51.764271</td>\n",
              "      <td>60.244470</td>\n",
              "      <td>56.004371</td>\n",
              "    </tr>\n",
              "  </tbody>\n",
              "</table>\n",
              "<p>253 rows × 5 columns</p>\n",
              "</div>"
            ],
            "text/plain": [
              "       ndvi   temp        vci        tci        VHI\n",
              "0    0.6501  31.79  85.202291  66.414435  75.808363\n",
              "1    0.6219  34.23  79.992610  52.211874  66.102242\n",
              "2    0.6073  36.17  77.295400  40.919674  59.107537\n",
              "3    0.5748  34.63  71.291336  49.883586  60.587461\n",
              "4    0.5330  34.61  63.569185  50.000000  56.784593\n",
              "..      ...    ...        ...        ...        ...\n",
              "248  0.3560  40.92  30.870127  13.271246  22.070687\n",
              "249  0.5426  32.29  65.342694  63.504075  64.423384\n",
              "250  0.5514  32.57  66.968409  61.874272  64.421341\n",
              "251  0.5427  33.87  65.361168  54.307334  59.834251\n",
              "252  0.4691  32.85  51.764271  60.244470  56.004371\n",
              "\n",
              "[253 rows x 5 columns]"
            ]
          },
          "metadata": {
            "tags": []
          },
          "execution_count": 93
        }
      ]
    },
    {
      "cell_type": "code",
      "metadata": {
        "colab": {
          "base_uri": "https://localhost:8080/"
        },
        "id": "Jijy0Q5pJM7w",
        "outputId": "5bb2b2db-1b12-4c14-a142-3d3356fc0364"
      },
      "source": [
        "modis['VHI'].describe()"
      ],
      "execution_count": null,
      "outputs": [
        {
          "output_type": "execute_result",
          "data": {
            "text/plain": [
              "count    250.000000\n",
              "mean      49.446378\n",
              "std       20.966913\n",
              "min        6.927766\n",
              "25%       32.915983\n",
              "50%       49.912719\n",
              "75%       63.871535\n",
              "max       99.068685\n",
              "Name: VHI, dtype: float64"
            ]
          },
          "metadata": {
            "tags": []
          },
          "execution_count": 94
        }
      ]
    },
    {
      "cell_type": "markdown",
      "metadata": {
        "id": "aNJFUFs1Jthw"
      },
      "source": [
        "\n",
        "| Classificação da seca    |   \t| VHI       |\n",
        "|-----------------\t|---\t|-----------------|\n",
        "| Normal          \t|   \t| VHI > 40       \t|\n",
        "| Seca Suave       \t|   \t| 30 < VHI ≤ 40    |\n",
        "| Seca Moderada    \t|   \t| 20 < VHI ≤ 30    |\n",
        "| Seca Severa     \t|   \t| 10 < VHI ≤ 20    |\n",
        "| Seca Extrema    \t|   \t| VHI ≤ 10  \t|\n"
      ]
    },
    {
      "cell_type": "markdown",
      "metadata": {
        "id": "diSnjMRGK1Ak"
      },
      "source": [
        "A média do VHI para Petrolina no perído estudado ficou caracterizada como Seca Moderada."
      ]
    },
    {
      "cell_type": "code",
      "metadata": {
        "colab": {
          "base_uri": "https://localhost:8080/",
          "height": 282
        },
        "id": "0ilyvRWiR8TT",
        "outputId": "312d823c-845d-43df-d19e-39f5033cd214"
      },
      "source": [
        "modis['VHI'].plot()"
      ],
      "execution_count": null,
      "outputs": [
        {
          "output_type": "execute_result",
          "data": {
            "text/plain": [
              "<matplotlib.axes._subplots.AxesSubplot at 0x7ffb02ee1e50>"
            ]
          },
          "metadata": {
            "tags": []
          },
          "execution_count": 95
        },
        {
          "output_type": "display_data",
          "data": {
            "image/png": "[encoded data removed]",
            "text/plain": [
              "<Figure size 432x288 with 1 Axes>"
            ]
          },
          "metadata": {
            "tags": [],
            "needs_background": "light"
          }
        }
      ]
    },
    {
      "cell_type": "markdown",
      "metadata": {
        "id": "IiZZdwwlXPKm"
      },
      "source": [
        "observação: os picos que aparecem, são devido aos dias que faltam dados de temperatura. Desconsidera-los."
      ]
    },
    {
      "cell_type": "markdown",
      "metadata": {
        "id": "apNgX5GnNiTG"
      },
      "source": [
        "### NVSWI"
      ]
    },
    {
      "cell_type": "code",
      "metadata": {
        "colab": {
          "base_uri": "https://localhost:8080/",
          "height": 424
        },
        "id": "ZGgaIlguMDWo",
        "outputId": "8c5c8516-2f28-48ce-bac4-7800ee05837b"
      },
      "source": [
        "modis['vswi'] = modis[' ndvi'] / modis['temp']\n",
        "\n",
        "vswiMin = modis['vswi'].min()\n",
        "vswiMax = modis['vswi'].max()\n",
        "\n",
        "modis['NVSWI'] = (modis['vswi'] - vswiMin) / (vswiMax - vswiMin) * 100\n",
        "\n",
        "modis"
      ],
      "execution_count": null,
      "outputs": [
        {
          "output_type": "execute_result",
          "data": {
            "text/html": [
              "<div>\n",
              "<style scoped>\n",
              "    .dataframe tbody tr th:only-of-type {\n",
              "        vertical-align: middle;\n",
              "    }\n",
              "\n",
              "    .dataframe tbody tr th {\n",
              "        vertical-align: top;\n",
              "    }\n",
              "\n",
              "    .dataframe thead th {\n",
              "        text-align: right;\n",
              "    }\n",
              "</style>\n",
              "<table border=\"1\" class=\"dataframe\">\n",
              "  <thead>\n",
              "    <tr style=\"text-align: right;\">\n",
              "      <th></th>\n",
              "      <th>ndvi</th>\n",
              "      <th>temp</th>\n",
              "      <th>vci</th>\n",
              "      <th>tci</th>\n",
              "      <th>VHI</th>\n",
              "      <th>vswi</th>\n",
              "      <th>NVSWI</th>\n",
              "    </tr>\n",
              "  </thead>\n",
              "  <tbody>\n",
              "    <tr>\n",
              "      <th>0</th>\n",
              "      <td>0.6501</td>\n",
              "      <td>31.79</td>\n",
              "      <td>85.202291</td>\n",
              "      <td>66.414435</td>\n",
              "      <td>75.808363</td>\n",
              "      <td>0.020450</td>\n",
              "      <td>67.041182</td>\n",
              "    </tr>\n",
              "    <tr>\n",
              "      <th>1</th>\n",
              "      <td>0.6219</td>\n",
              "      <td>34.23</td>\n",
              "      <td>79.992610</td>\n",
              "      <td>52.211874</td>\n",
              "      <td>66.102242</td>\n",
              "      <td>0.018168</td>\n",
              "      <td>56.700900</td>\n",
              "    </tr>\n",
              "    <tr>\n",
              "      <th>2</th>\n",
              "      <td>0.6073</td>\n",
              "      <td>36.17</td>\n",
              "      <td>77.295400</td>\n",
              "      <td>40.919674</td>\n",
              "      <td>59.107537</td>\n",
              "      <td>0.016790</td>\n",
              "      <td>50.455109</td>\n",
              "    </tr>\n",
              "    <tr>\n",
              "      <th>3</th>\n",
              "      <td>0.5748</td>\n",
              "      <td>34.63</td>\n",
              "      <td>71.291336</td>\n",
              "      <td>49.883586</td>\n",
              "      <td>60.587461</td>\n",
              "      <td>0.016598</td>\n",
              "      <td>49.585701</td>\n",
              "    </tr>\n",
              "    <tr>\n",
              "      <th>4</th>\n",
              "      <td>0.5330</td>\n",
              "      <td>34.61</td>\n",
              "      <td>63.569185</td>\n",
              "      <td>50.000000</td>\n",
              "      <td>56.784593</td>\n",
              "      <td>0.015400</td>\n",
              "      <td>44.155529</td>\n",
              "    </tr>\n",
              "    <tr>\n",
              "      <th>...</th>\n",
              "      <td>...</td>\n",
              "      <td>...</td>\n",
              "      <td>...</td>\n",
              "      <td>...</td>\n",
              "      <td>...</td>\n",
              "      <td>...</td>\n",
              "      <td>...</td>\n",
              "    </tr>\n",
              "    <tr>\n",
              "      <th>248</th>\n",
              "      <td>0.3560</td>\n",
              "      <td>40.92</td>\n",
              "      <td>30.870127</td>\n",
              "      <td>13.271246</td>\n",
              "      <td>22.070687</td>\n",
              "      <td>0.008700</td>\n",
              "      <td>13.789075</td>\n",
              "    </tr>\n",
              "    <tr>\n",
              "      <th>249</th>\n",
              "      <td>0.5426</td>\n",
              "      <td>32.29</td>\n",
              "      <td>65.342694</td>\n",
              "      <td>63.504075</td>\n",
              "      <td>64.423384</td>\n",
              "      <td>0.016804</td>\n",
              "      <td>50.517682</td>\n",
              "    </tr>\n",
              "    <tr>\n",
              "      <th>250</th>\n",
              "      <td>0.5514</td>\n",
              "      <td>32.57</td>\n",
              "      <td>66.968409</td>\n",
              "      <td>61.874272</td>\n",
              "      <td>64.421341</td>\n",
              "      <td>0.016930</td>\n",
              "      <td>51.087487</td>\n",
              "    </tr>\n",
              "    <tr>\n",
              "      <th>251</th>\n",
              "      <td>0.5427</td>\n",
              "      <td>33.87</td>\n",
              "      <td>65.361168</td>\n",
              "      <td>54.307334</td>\n",
              "      <td>59.834251</td>\n",
              "      <td>0.016023</td>\n",
              "      <td>46.978389</td>\n",
              "    </tr>\n",
              "    <tr>\n",
              "      <th>252</th>\n",
              "      <td>0.4691</td>\n",
              "      <td>32.85</td>\n",
              "      <td>51.764271</td>\n",
              "      <td>60.244470</td>\n",
              "      <td>56.004371</td>\n",
              "      <td>0.014280</td>\n",
              "      <td>39.079041</td>\n",
              "    </tr>\n",
              "  </tbody>\n",
              "</table>\n",
              "<p>253 rows × 7 columns</p>\n",
              "</div>"
            ],
            "text/plain": [
              "       ndvi   temp        vci        tci        VHI      vswi      NVSWI\n",
              "0    0.6501  31.79  85.202291  66.414435  75.808363  0.020450  67.041182\n",
              "1    0.6219  34.23  79.992610  52.211874  66.102242  0.018168  56.700900\n",
              "2    0.6073  36.17  77.295400  40.919674  59.107537  0.016790  50.455109\n",
              "3    0.5748  34.63  71.291336  49.883586  60.587461  0.016598  49.585701\n",
              "4    0.5330  34.61  63.569185  50.000000  56.784593  0.015400  44.155529\n",
              "..      ...    ...        ...        ...        ...       ...        ...\n",
              "248  0.3560  40.92  30.870127  13.271246  22.070687  0.008700  13.789075\n",
              "249  0.5426  32.29  65.342694  63.504075  64.423384  0.016804  50.517682\n",
              "250  0.5514  32.57  66.968409  61.874272  64.421341  0.016930  51.087487\n",
              "251  0.5427  33.87  65.361168  54.307334  59.834251  0.016023  46.978389\n",
              "252  0.4691  32.85  51.764271  60.244470  56.004371  0.014280  39.079041\n",
              "\n",
              "[253 rows x 7 columns]"
            ]
          },
          "metadata": {
            "tags": []
          },
          "execution_count": 96
        }
      ]
    },
    {
      "cell_type": "code",
      "metadata": {
        "colab": {
          "base_uri": "https://localhost:8080/"
        },
        "id": "ogm1wOc2LHoy",
        "outputId": "c29be134-4406-464c-e920-832d5a484a04"
      },
      "source": [
        "modis['NVSWI'].describe()"
      ],
      "execution_count": null,
      "outputs": [
        {
          "output_type": "execute_result",
          "data": {
            "text/plain": [
              "count    250.000000\n",
              "mean      35.389161\n",
              "std       22.544289\n",
              "min        0.000000\n",
              "25%       16.343631\n",
              "50%       32.222211\n",
              "75%       49.377830\n",
              "max      100.000000\n",
              "Name: NVSWI, dtype: float64"
            ]
          },
          "metadata": {
            "tags": []
          },
          "execution_count": 97
        }
      ]
    },
    {
      "cell_type": "markdown",
      "metadata": {
        "id": "zTgxprUqLOB6"
      },
      "source": [
        "\n",
        "| Classificação da seca    |   \t| NVSWI       |\n",
        "|-----------------\t|---\t|-----------------|\n",
        "| Úmido          \t|   \t| NVSWI > 80       \t|\n",
        "| Normal       \t|   \t| 60 < NVSWI ≤ 80    |\n",
        "| Seca Leve    \t|   \t| 40 < NVSWI ≤ 60    |\n",
        "| Seca Moderada     \t|   \t| 20 < NVSWI ≤ 40    |\n",
        "| Seca Severa    \t|   \t| NVSWI ≤ 20  \t|"
      ]
    },
    {
      "cell_type": "markdown",
      "metadata": {
        "id": "fl_KXP8WLk5M"
      },
      "source": [
        "O NVSWI médio foi de aproximadamente 56, caracterizando a região com seca leve entre 2010 e 2020."
      ]
    },
    {
      "cell_type": "code",
      "metadata": {
        "colab": {
          "base_uri": "https://localhost:8080/",
          "height": 282
        },
        "id": "RDYgfjUaSCx8",
        "outputId": "983e2326-2bb8-43c9-e6e0-c2e6d294ed30"
      },
      "source": [
        "modis['NVSWI'].plot()"
      ],
      "execution_count": null,
      "outputs": [
        {
          "output_type": "execute_result",
          "data": {
            "text/plain": [
              "<matplotlib.axes._subplots.AxesSubplot at 0x7ffb02e61d50>"
            ]
          },
          "metadata": {
            "tags": []
          },
          "execution_count": 98
        },
        {
          "output_type": "display_data",
          "data": {
            "image/png": "[encoded data removed]",
            "text/plain": [
              "<Figure size 432x288 with 1 Axes>"
            ]
          },
          "metadata": {
            "tags": [],
            "needs_background": "light"
          }
        }
      ]
    },
    {
      "cell_type": "markdown",
      "metadata": {
        "id": "3YjvYzwF2QBP"
      },
      "source": [
        "### SMCI\n",
        "\n",
        "O SMCI para a região de Petrolina entre 2000 e 2020 será apresentado a seguir"
      ]
    },
    {
      "cell_type": "code",
      "metadata": {
        "colab": {
          "base_uri": "https://localhost:8080/",
          "height": 261
        },
        "id": "WCunfaYj2U7U",
        "outputId": "b46a3a16-3731-4f31-bc10-475b6f968dcf"
      },
      "source": [
        "esa = pd.read_csv('./drive/MyDrive/CRH/esa.csv', header=0, delimiter='\\s')\n",
        "esa.head()"
      ],
      "execution_count": null,
      "outputs": [
        {
          "output_type": "stream",
          "text": [
            "/usr/local/lib/python3.7/dist-packages/ipykernel_launcher.py:1: ParserWarning: Falling back to the 'python' engine because the 'c' engine does not support regex separators (separators > 1 char and different from '\\s+' are interpreted as regex); you can avoid this warning by specifying engine='python'.\n",
            "  \"\"\"Entry point for launching an IPython kernel.\n"
          ],
          "name": "stderr"
        },
        {
          "output_type": "execute_result",
          "data": {
            "text/html": [
              "<div>\n",
              "<style scoped>\n",
              "    .dataframe tbody tr th:only-of-type {\n",
              "        vertical-align: middle;\n",
              "    }\n",
              "\n",
              "    .dataframe tbody tr th {\n",
              "        vertical-align: top;\n",
              "    }\n",
              "\n",
              "    .dataframe thead th {\n",
              "        text-align: right;\n",
              "    }\n",
              "</style>\n",
              "<table border=\"1\" class=\"dataframe\">\n",
              "  <thead>\n",
              "    <tr style=\"text-align: right;\">\n",
              "      <th></th>\n",
              "      <th>\"V1\"</th>\n",
              "    </tr>\n",
              "  </thead>\n",
              "  <tbody>\n",
              "    <tr>\n",
              "      <th>\"1\"</th>\n",
              "      <td>NaN</td>\n",
              "    </tr>\n",
              "    <tr>\n",
              "      <th>\"2\"</th>\n",
              "      <td>0.145199</td>\n",
              "    </tr>\n",
              "    <tr>\n",
              "      <th>\"3\"</th>\n",
              "      <td>0.275387</td>\n",
              "    </tr>\n",
              "    <tr>\n",
              "      <th>\"4\"</th>\n",
              "      <td>0.131571</td>\n",
              "    </tr>\n",
              "    <tr>\n",
              "      <th>\"5\"</th>\n",
              "      <td>0.101473</td>\n",
              "    </tr>\n",
              "  </tbody>\n",
              "</table>\n",
              "</div>"
            ],
            "text/plain": [
              "         \"V1\"\n",
              "\"1\"       NaN\n",
              "\"2\"  0.145199\n",
              "\"3\"  0.275387\n",
              "\"4\"  0.131571\n",
              "\"5\"  0.101473"
            ]
          },
          "metadata": {
            "tags": []
          },
          "execution_count": 128
        }
      ]
    },
    {
      "cell_type": "code",
      "metadata": {
        "id": "PTDmOPA-2hqJ"
      },
      "source": [
        "SSMmax= esa['\"V1\"'].max()\n",
        "SSMmin= esa['\"V1\"'].min()\n"
      ],
      "execution_count": null,
      "outputs": []
    },
    {
      "cell_type": "code",
      "metadata": {
        "colab": {
          "base_uri": "https://localhost:8080/",
          "height": 206
        },
        "id": "T8uwbPVd3ZL_",
        "outputId": "90909be0-7e3b-450a-89d2-bea4fb99e9f3"
      },
      "source": [
        "esa['SMCI'] = 100 * ((esa['\"V1\"'] - SSMmin)/(SSMmax - SSMmin))\n",
        "esa.head()"
      ],
      "execution_count": null,
      "outputs": [
        {
          "output_type": "execute_result",
          "data": {
            "text/html": [
              "<div>\n",
              "<style scoped>\n",
              "    .dataframe tbody tr th:only-of-type {\n",
              "        vertical-align: middle;\n",
              "    }\n",
              "\n",
              "    .dataframe tbody tr th {\n",
              "        vertical-align: top;\n",
              "    }\n",
              "\n",
              "    .dataframe thead th {\n",
              "        text-align: right;\n",
              "    }\n",
              "</style>\n",
              "<table border=\"1\" class=\"dataframe\">\n",
              "  <thead>\n",
              "    <tr style=\"text-align: right;\">\n",
              "      <th></th>\n",
              "      <th>\"V1\"</th>\n",
              "      <th>SMCI</th>\n",
              "    </tr>\n",
              "  </thead>\n",
              "  <tbody>\n",
              "    <tr>\n",
              "      <th>\"1\"</th>\n",
              "      <td>NaN</td>\n",
              "      <td>NaN</td>\n",
              "    </tr>\n",
              "    <tr>\n",
              "      <th>\"2\"</th>\n",
              "      <td>0.145199</td>\n",
              "      <td>21.976531</td>\n",
              "    </tr>\n",
              "    <tr>\n",
              "      <th>\"3\"</th>\n",
              "      <td>0.275387</td>\n",
              "      <td>61.696216</td>\n",
              "    </tr>\n",
              "    <tr>\n",
              "      <th>\"4\"</th>\n",
              "      <td>0.131571</td>\n",
              "      <td>17.818896</td>\n",
              "    </tr>\n",
              "    <tr>\n",
              "      <th>\"5\"</th>\n",
              "      <td>0.101473</td>\n",
              "      <td>8.636093</td>\n",
              "    </tr>\n",
              "  </tbody>\n",
              "</table>\n",
              "</div>"
            ],
            "text/plain": [
              "         \"V1\"       SMCI\n",
              "\"1\"       NaN        NaN\n",
              "\"2\"  0.145199  21.976531\n",
              "\"3\"  0.275387  61.696216\n",
              "\"4\"  0.131571  17.818896\n",
              "\"5\"  0.101473   8.636093"
            ]
          },
          "metadata": {
            "tags": []
          },
          "execution_count": 132
        }
      ]
    },
    {
      "cell_type": "code",
      "metadata": {
        "colab": {
          "base_uri": "https://localhost:8080/"
        },
        "id": "BTeu1Soh4T9J",
        "outputId": "cbfbdb43-7d30-4f96-d001-3e9b5e3d9a07"
      },
      "source": [
        "esa['SMCI'].describe()"
      ],
      "execution_count": null,
      "outputs": [
        {
          "output_type": "execute_result",
          "data": {
            "text/plain": [
              "count    6273.000000\n",
              "mean       25.702952\n",
              "std        15.452061\n",
              "min         0.000000\n",
              "25%        13.707272\n",
              "50%        21.154145\n",
              "75%        34.821974\n",
              "max       100.000000\n",
              "Name: SMCI, dtype: float64"
            ]
          },
          "metadata": {
            "tags": []
          },
          "execution_count": 134
        }
      ]
    },
    {
      "cell_type": "markdown",
      "metadata": {
        "id": "TJMqq0_y4XW3"
      },
      "source": [
        "O índice se manteve em média em torno de 25 durante as últimas duas decadas."
      ]
    },
    {
      "cell_type": "code",
      "metadata": {
        "colab": {
          "base_uri": "https://localhost:8080/",
          "height": 282
        },
        "id": "z2wi1bhw3_WF",
        "outputId": "f43167ce-2d7e-4c0e-8876-13c7562aaea0"
      },
      "source": [
        "esa['SMCI'].plot()"
      ],
      "execution_count": null,
      "outputs": [
        {
          "output_type": "execute_result",
          "data": {
            "text/plain": [
              "<matplotlib.axes._subplots.AxesSubplot at 0x7ffafeae3250>"
            ]
          },
          "metadata": {
            "tags": []
          },
          "execution_count": 133
        },
        {
          "output_type": "display_data",
          "data": {
            "image/png": "[encoded data removed]",
            "text/plain": [
              "<Figure size 432x288 with 1 Axes>"
            ]
          },
          "metadata": {
            "tags": [],
            "needs_background": "light"
          }
        }
      ]
    },
    {
      "cell_type": "markdown",
      "metadata": {
        "id": "jwJRf2D3br_W"
      },
      "source": [
        "### Budyko Framework"
      ]
    },
    {
      "cell_type": "code",
      "metadata": {
        "colab": {
          "base_uri": "https://localhost:8080/",
          "height": 226
        },
        "id": "dpWjNQcsMhMg",
        "outputId": "b51cdb1d-cb76-4bff-9539-213bda0dde1b"
      },
      "source": [
        "budyko = pd.read_csv('./drive/MyDrive/CRH/Budyko_relatorio.csv')\n",
        "budyko.head()"
      ],
      "execution_count": null,
      "outputs": [
        {
          "output_type": "execute_result",
          "data": {
            "text/html": [
              "<div>\n",
              "<style scoped>\n",
              "    .dataframe tbody tr th:only-of-type {\n",
              "        vertical-align: middle;\n",
              "    }\n",
              "\n",
              "    .dataframe tbody tr th {\n",
              "        vertical-align: top;\n",
              "    }\n",
              "\n",
              "    .dataframe thead th {\n",
              "        text-align: right;\n",
              "    }\n",
              "</style>\n",
              "<table border=\"1\" class=\"dataframe\">\n",
              "  <thead>\n",
              "    <tr style=\"text-align: right;\">\n",
              "      <th></th>\n",
              "      <th>Ano</th>\n",
              "      <th>Q_Tracunhaem</th>\n",
              "      <th>Q_Tapacura</th>\n",
              "      <th>Q_Ipojuca</th>\n",
              "      <th>Q_Una</th>\n",
              "      <th>Q_Pajeu</th>\n",
              "      <th>P_Tracunhaem</th>\n",
              "      <th>P_Tapacura</th>\n",
              "      <th>P_Ipojuca</th>\n",
              "      <th>P_Una</th>\n",
              "      <th>P_Pajeu</th>\n",
              "      <th>ETP_Tracunhaem</th>\n",
              "      <th>ETP_Tapacura</th>\n",
              "      <th>ETP_Ipojuca</th>\n",
              "      <th>ETP_Una</th>\n",
              "      <th>ETP_Pajeu</th>\n",
              "      <th>ETP_P_Tracunhaem</th>\n",
              "      <th>ETP_P_Tapacura</th>\n",
              "      <th>ETP_P_Ipojuca</th>\n",
              "      <th>ETP_P_Una</th>\n",
              "      <th>ETP_P_Pajeu</th>\n",
              "      <th>E_Tracunhaem</th>\n",
              "      <th>E_Tapacura</th>\n",
              "      <th>E_Ipojuca</th>\n",
              "      <th>E_Una</th>\n",
              "      <th>E_Pajeu</th>\n",
              "      <th>E_P_Tracunhaem</th>\n",
              "      <th>E_P_Tapacura</th>\n",
              "      <th>E_P_Ipojuca</th>\n",
              "      <th>E_P_Una</th>\n",
              "      <th>E_P_Pajeu</th>\n",
              "    </tr>\n",
              "  </thead>\n",
              "  <tbody>\n",
              "    <tr>\n",
              "      <th>0</th>\n",
              "      <td>1979.0</td>\n",
              "      <td>508.94</td>\n",
              "      <td>41.04</td>\n",
              "      <td>155.94</td>\n",
              "      <td>33.36</td>\n",
              "      <td>19.53</td>\n",
              "      <td>1103.70</td>\n",
              "      <td>955.00</td>\n",
              "      <td>496.92</td>\n",
              "      <td>499.87</td>\n",
              "      <td>623.60</td>\n",
              "      <td>1551.76</td>\n",
              "      <td>1591.71</td>\n",
              "      <td>1802.66</td>\n",
              "      <td>1834.04</td>\n",
              "      <td>2206.05</td>\n",
              "      <td>1.41</td>\n",
              "      <td>1.67</td>\n",
              "      <td>3.63</td>\n",
              "      <td>3.67</td>\n",
              "      <td>3.54</td>\n",
              "      <td>594.76</td>\n",
              "      <td>913.97</td>\n",
              "      <td>340.98</td>\n",
              "      <td>466.51</td>\n",
              "      <td>604.07</td>\n",
              "      <td>0.54</td>\n",
              "      <td>0.96</td>\n",
              "      <td>0.69</td>\n",
              "      <td>0.93</td>\n",
              "      <td>0.97</td>\n",
              "    </tr>\n",
              "    <tr>\n",
              "      <th>1</th>\n",
              "      <td>1980.0</td>\n",
              "      <td>351.63</td>\n",
              "      <td>44.36</td>\n",
              "      <td>104.68</td>\n",
              "      <td>15.94</td>\n",
              "      <td>36.06</td>\n",
              "      <td>909.02</td>\n",
              "      <td>1160.47</td>\n",
              "      <td>487.64</td>\n",
              "      <td>432.21</td>\n",
              "      <td>482.27</td>\n",
              "      <td>1518.30</td>\n",
              "      <td>1557.53</td>\n",
              "      <td>1764.64</td>\n",
              "      <td>1796.14</td>\n",
              "      <td>2170.22</td>\n",
              "      <td>1.67</td>\n",
              "      <td>1.34</td>\n",
              "      <td>3.62</td>\n",
              "      <td>4.16</td>\n",
              "      <td>4.50</td>\n",
              "      <td>557.39</td>\n",
              "      <td>1116.11</td>\n",
              "      <td>382.96</td>\n",
              "      <td>416.28</td>\n",
              "      <td>446.21</td>\n",
              "      <td>0.61</td>\n",
              "      <td>0.96</td>\n",
              "      <td>0.79</td>\n",
              "      <td>0.96</td>\n",
              "      <td>0.93</td>\n",
              "    </tr>\n",
              "    <tr>\n",
              "      <th>2</th>\n",
              "      <td>1981.0</td>\n",
              "      <td>237.91</td>\n",
              "      <td>88.45</td>\n",
              "      <td>226.62</td>\n",
              "      <td>132.99</td>\n",
              "      <td>117.61</td>\n",
              "      <td>881.54</td>\n",
              "      <td>875.45</td>\n",
              "      <td>659.34</td>\n",
              "      <td>602.05</td>\n",
              "      <td>538.18</td>\n",
              "      <td>1534.37</td>\n",
              "      <td>1564.38</td>\n",
              "      <td>1754.76</td>\n",
              "      <td>1787.82</td>\n",
              "      <td>2150.86</td>\n",
              "      <td>1.74</td>\n",
              "      <td>1.79</td>\n",
              "      <td>2.66</td>\n",
              "      <td>2.97</td>\n",
              "      <td>4.00</td>\n",
              "      <td>643.62</td>\n",
              "      <td>787.01</td>\n",
              "      <td>432.72</td>\n",
              "      <td>469.06</td>\n",
              "      <td>420.57</td>\n",
              "      <td>0.73</td>\n",
              "      <td>0.90</td>\n",
              "      <td>0.66</td>\n",
              "      <td>0.78</td>\n",
              "      <td>0.78</td>\n",
              "    </tr>\n",
              "    <tr>\n",
              "      <th>3</th>\n",
              "      <td>1982.0</td>\n",
              "      <td>305.57</td>\n",
              "      <td>73.92</td>\n",
              "      <td>152.28</td>\n",
              "      <td>57.64</td>\n",
              "      <td>23.78</td>\n",
              "      <td>1004.77</td>\n",
              "      <td>1023.37</td>\n",
              "      <td>521.99</td>\n",
              "      <td>615.92</td>\n",
              "      <td>436.99</td>\n",
              "      <td>1516.59</td>\n",
              "      <td>1554.99</td>\n",
              "      <td>1762.41</td>\n",
              "      <td>1795.57</td>\n",
              "      <td>2176.00</td>\n",
              "      <td>1.51</td>\n",
              "      <td>1.52</td>\n",
              "      <td>3.38</td>\n",
              "      <td>2.92</td>\n",
              "      <td>4.98</td>\n",
              "      <td>699.20</td>\n",
              "      <td>949.45</td>\n",
              "      <td>369.71</td>\n",
              "      <td>558.28</td>\n",
              "      <td>413.22</td>\n",
              "      <td>0.70</td>\n",
              "      <td>0.93</td>\n",
              "      <td>0.71</td>\n",
              "      <td>0.91</td>\n",
              "      <td>0.95</td>\n",
              "    </tr>\n",
              "    <tr>\n",
              "      <th>4</th>\n",
              "      <td>1983.0</td>\n",
              "      <td>116.16</td>\n",
              "      <td>43.61</td>\n",
              "      <td>69.29</td>\n",
              "      <td>10.28</td>\n",
              "      <td>8.21</td>\n",
              "      <td>762.67</td>\n",
              "      <td>833.58</td>\n",
              "      <td>465.82</td>\n",
              "      <td>432.59</td>\n",
              "      <td>417.19</td>\n",
              "      <td>1556.61</td>\n",
              "      <td>1600.47</td>\n",
              "      <td>1824.84</td>\n",
              "      <td>1861.05</td>\n",
              "      <td>2267.75</td>\n",
              "      <td>2.04</td>\n",
              "      <td>1.92</td>\n",
              "      <td>3.92</td>\n",
              "      <td>4.30</td>\n",
              "      <td>5.44</td>\n",
              "      <td>646.51</td>\n",
              "      <td>789.97</td>\n",
              "      <td>396.53</td>\n",
              "      <td>422.32</td>\n",
              "      <td>408.99</td>\n",
              "      <td>0.85</td>\n",
              "      <td>0.95</td>\n",
              "      <td>0.85</td>\n",
              "      <td>0.98</td>\n",
              "      <td>0.98</td>\n",
              "    </tr>\n",
              "  </tbody>\n",
              "</table>\n",
              "</div>"
            ],
            "text/plain": [
              "      Ano  Q_Tracunhaem  Q_Tapacura  ...  E_P_Ipojuca  E_P_Una   E_P_Pajeu\n",
              "0  1979.0        508.94       41.04  ...         0.69      0.93       0.97\n",
              "1  1980.0        351.63       44.36  ...         0.79      0.96       0.93\n",
              "2  1981.0        237.91       88.45  ...         0.66      0.78       0.78\n",
              "3  1982.0        305.57       73.92  ...         0.71      0.91       0.95\n",
              "4  1983.0        116.16       43.61  ...         0.85      0.98       0.98\n",
              "\n",
              "[5 rows x 31 columns]"
            ]
          },
          "metadata": {
            "tags": []
          },
          "execution_count": 99
        }
      ]
    },
    {
      "cell_type": "markdown",
      "metadata": {
        "id": "h1sQRZHBdpE3"
      },
      "source": [
        "obs: Implementar cálculo de w em python e pelo google earth engine. Referência: https://mygeoblog.com/2016/11/28/the-budyko-curve/"
      ]
    },
    {
      "cell_type": "code",
      "metadata": {
        "id": "KRmisPzhcKYt"
      },
      "source": [],
      "execution_count": null,
      "outputs": []
    },
    {
      "cell_type": "markdown",
      "metadata": {
        "id": "-cdXd0DjM39M"
      },
      "source": [
        "## Mudanças Climáticas"
      ]
    },
    {
      "cell_type": "markdown",
      "metadata": {
        "id": "OppIMijtdoMq"
      },
      "source": [
        "### API PROJETA\n",
        "\n",
        "Manual de utilização da API:  \n",
        "https://projeta.cptec.inpe.br/#/api\n",
        "\n",
        "O site gera de maneira amigável o link necessário para a requisição dos dados. Segue o gif com a demonstração:\n",
        "\n",
        "![projeta](https://media.giphy.com/media/ZYBPbSUlf11t6MURNr/giphy.gif)"
      ]
    },
    {
      "cell_type": "code",
      "metadata": {
        "id": "C2ADrzLidxd5"
      },
      "source": [
        "#requisação dos dados do projeta\n",
        "response_projeta = requests.get('https://projeta.cptec.inpe.br/api/v1/public/ETA/17/MONTHLY/3/1/1961/12/1990/PREC/-9.383333/-40.5/').json()\n",
        "#requisição dos dados do INMET\n",
        "response_inmet = requests.get('https://apitempo.inmet.gov.br/normais/consulta/1/N208/82983').json()"
      ],
      "execution_count": null,
      "outputs": []
    },
    {
      "cell_type": "code",
      "metadata": {
        "colab": {
          "base_uri": "https://localhost:8080/",
          "height": 206
        },
        "id": "PA9toOMmdztc",
        "outputId": "00bb89b6-73b8-4718-e88e-5716d42acc7b"
      },
      "source": [
        "df_projeta = pd.DataFrame.from_dict(response_projeta)\n",
        "df_projeta.head()"
      ],
      "execution_count": null,
      "outputs": [
        {
          "output_type": "execute_result",
          "data": {
            "text/html": [
              "<div>\n",
              "<style scoped>\n",
              "    .dataframe tbody tr th:only-of-type {\n",
              "        vertical-align: middle;\n",
              "    }\n",
              "\n",
              "    .dataframe tbody tr th {\n",
              "        vertical-align: top;\n",
              "    }\n",
              "\n",
              "    .dataframe thead th {\n",
              "        text-align: right;\n",
              "    }\n",
              "</style>\n",
              "<table border=\"1\" class=\"dataframe\">\n",
              "  <thead>\n",
              "    <tr style=\"text-align: right;\">\n",
              "      <th></th>\n",
              "      <th>value</th>\n",
              "      <th>date</th>\n",
              "      <th>time</th>\n",
              "      <th>variable</th>\n",
              "      <th>lat</th>\n",
              "      <th>lng</th>\n",
              "    </tr>\n",
              "  </thead>\n",
              "  <tbody>\n",
              "    <tr>\n",
              "      <th>0</th>\n",
              "      <td>105.328659</td>\n",
              "      <td>1961-01-01</td>\n",
              "      <td>00:00:00</td>\n",
              "      <td>PREC</td>\n",
              "      <td>-9.375000000000004</td>\n",
              "      <td>-40.474999999999994</td>\n",
              "    </tr>\n",
              "    <tr>\n",
              "      <th>1</th>\n",
              "      <td>126.111458</td>\n",
              "      <td>1961-02-01</td>\n",
              "      <td>00:00:00</td>\n",
              "      <td>PREC</td>\n",
              "      <td>-9.375000000000004</td>\n",
              "      <td>-40.474999999999994</td>\n",
              "    </tr>\n",
              "    <tr>\n",
              "      <th>2</th>\n",
              "      <td>60.088303</td>\n",
              "      <td>1961-03-01</td>\n",
              "      <td>00:00:00</td>\n",
              "      <td>PREC</td>\n",
              "      <td>-9.375000000000004</td>\n",
              "      <td>-40.474999999999994</td>\n",
              "    </tr>\n",
              "    <tr>\n",
              "      <th>3</th>\n",
              "      <td>53.314522</td>\n",
              "      <td>1961-04-01</td>\n",
              "      <td>00:00:00</td>\n",
              "      <td>PREC</td>\n",
              "      <td>-9.375000000000004</td>\n",
              "      <td>-40.474999999999994</td>\n",
              "    </tr>\n",
              "    <tr>\n",
              "      <th>4</th>\n",
              "      <td>7.182036</td>\n",
              "      <td>1961-05-01</td>\n",
              "      <td>00:00:00</td>\n",
              "      <td>PREC</td>\n",
              "      <td>-9.375000000000004</td>\n",
              "      <td>-40.474999999999994</td>\n",
              "    </tr>\n",
              "  </tbody>\n",
              "</table>\n",
              "</div>"
            ],
            "text/plain": [
              "        value        date  ...                 lat                  lng\n",
              "0  105.328659  1961-01-01  ...  -9.375000000000004  -40.474999999999994\n",
              "1  126.111458  1961-02-01  ...  -9.375000000000004  -40.474999999999994\n",
              "2   60.088303  1961-03-01  ...  -9.375000000000004  -40.474999999999994\n",
              "3   53.314522  1961-04-01  ...  -9.375000000000004  -40.474999999999994\n",
              "4    7.182036  1961-05-01  ...  -9.375000000000004  -40.474999999999994\n",
              "\n",
              "[5 rows x 6 columns]"
            ]
          },
          "metadata": {
            "tags": []
          },
          "execution_count": 101
        }
      ]
    },
    {
      "cell_type": "code",
      "metadata": {
        "id": "zSPlvxZWd5W1"
      },
      "source": [
        "df_projeta['date'] =  pd.to_datetime(df_projeta['date'], format='%Y-%m-%d')\n",
        "df_projeta.set_index('date', inplace=True)"
      ],
      "execution_count": null,
      "outputs": []
    },
    {
      "cell_type": "code",
      "metadata": {
        "colab": {
          "base_uri": "https://localhost:8080/",
          "height": 426
        },
        "id": "nJ3sYOBtd6KK",
        "outputId": "fd7e5a1d-96c2-4f54-fa4a-6d452559ebc8"
      },
      "source": [
        "df_projeta_media_mensal = df_projeta.groupby(df_projeta.index.month).mean()\n",
        "df_projeta_media_mensal.reset_index(inplace = True)\n",
        "df_projeta_media_mensal"
      ],
      "execution_count": null,
      "outputs": [
        {
          "output_type": "execute_result",
          "data": {
            "text/html": [
              "<div>\n",
              "<style scoped>\n",
              "    .dataframe tbody tr th:only-of-type {\n",
              "        vertical-align: middle;\n",
              "    }\n",
              "\n",
              "    .dataframe tbody tr th {\n",
              "        vertical-align: top;\n",
              "    }\n",
              "\n",
              "    .dataframe thead th {\n",
              "        text-align: right;\n",
              "    }\n",
              "</style>\n",
              "<table border=\"1\" class=\"dataframe\">\n",
              "  <thead>\n",
              "    <tr style=\"text-align: right;\">\n",
              "      <th></th>\n",
              "      <th>date</th>\n",
              "      <th>value</th>\n",
              "    </tr>\n",
              "  </thead>\n",
              "  <tbody>\n",
              "    <tr>\n",
              "      <th>0</th>\n",
              "      <td>1</td>\n",
              "      <td>74.256452</td>\n",
              "    </tr>\n",
              "    <tr>\n",
              "      <th>1</th>\n",
              "      <td>2</td>\n",
              "      <td>83.179056</td>\n",
              "    </tr>\n",
              "    <tr>\n",
              "      <th>2</th>\n",
              "      <td>3</td>\n",
              "      <td>77.468180</td>\n",
              "    </tr>\n",
              "    <tr>\n",
              "      <th>3</th>\n",
              "      <td>4</td>\n",
              "      <td>46.833511</td>\n",
              "    </tr>\n",
              "    <tr>\n",
              "      <th>4</th>\n",
              "      <td>5</td>\n",
              "      <td>6.292696</td>\n",
              "    </tr>\n",
              "    <tr>\n",
              "      <th>5</th>\n",
              "      <td>6</td>\n",
              "      <td>3.541074</td>\n",
              "    </tr>\n",
              "    <tr>\n",
              "      <th>6</th>\n",
              "      <td>7</td>\n",
              "      <td>1.848299</td>\n",
              "    </tr>\n",
              "    <tr>\n",
              "      <th>7</th>\n",
              "      <td>8</td>\n",
              "      <td>1.438151</td>\n",
              "    </tr>\n",
              "    <tr>\n",
              "      <th>8</th>\n",
              "      <td>9</td>\n",
              "      <td>1.782439</td>\n",
              "    </tr>\n",
              "    <tr>\n",
              "      <th>9</th>\n",
              "      <td>10</td>\n",
              "      <td>8.202111</td>\n",
              "    </tr>\n",
              "    <tr>\n",
              "      <th>10</th>\n",
              "      <td>11</td>\n",
              "      <td>19.998971</td>\n",
              "    </tr>\n",
              "    <tr>\n",
              "      <th>11</th>\n",
              "      <td>12</td>\n",
              "      <td>28.159164</td>\n",
              "    </tr>\n",
              "  </tbody>\n",
              "</table>\n",
              "</div>"
            ],
            "text/plain": [
              "    date      value\n",
              "0      1  74.256452\n",
              "1      2  83.179056\n",
              "2      3  77.468180\n",
              "3      4  46.833511\n",
              "4      5   6.292696\n",
              "5      6   3.541074\n",
              "6      7   1.848299\n",
              "7      8   1.438151\n",
              "8      9   1.782439\n",
              "9     10   8.202111\n",
              "10    11  19.998971\n",
              "11    12  28.159164"
            ]
          },
          "metadata": {
            "tags": []
          },
          "execution_count": 103
        }
      ]
    },
    {
      "cell_type": "code",
      "metadata": {
        "colab": {
          "base_uri": "https://localhost:8080/",
          "height": 426
        },
        "id": "OkUfgUVud9Uw",
        "outputId": "f0d6376c-176d-49a8-d83b-9b41e79d1dc4"
      },
      "source": [
        "df_inmet = pd.DataFrame.from_dict(response_inmet)\n",
        "\n",
        "result = pd.concat([df_inmet[0:12], df_projeta_media_mensal], axis=1).reindex(df_inmet[0:12].index)\n",
        "result"
      ],
      "execution_count": null,
      "outputs": [
        {
          "output_type": "execute_result",
          "data": {
            "text/html": [
              "<div>\n",
              "<style scoped>\n",
              "    .dataframe tbody tr th:only-of-type {\n",
              "        vertical-align: middle;\n",
              "    }\n",
              "\n",
              "    .dataframe tbody tr th {\n",
              "        vertical-align: top;\n",
              "    }\n",
              "\n",
              "    .dataframe thead th {\n",
              "        text-align: right;\n",
              "    }\n",
              "</style>\n",
              "<table border=\"1\" class=\"dataframe\">\n",
              "  <thead>\n",
              "    <tr style=\"text-align: right;\">\n",
              "      <th></th>\n",
              "      <th>MES_MEDICAO</th>\n",
              "      <th>CD_ESTACAO</th>\n",
              "      <th>VALOR</th>\n",
              "      <th>date</th>\n",
              "      <th>value</th>\n",
              "    </tr>\n",
              "  </thead>\n",
              "  <tbody>\n",
              "    <tr>\n",
              "      <th>0</th>\n",
              "      <td>01</td>\n",
              "      <td>82983</td>\n",
              "      <td>81.9</td>\n",
              "      <td>1</td>\n",
              "      <td>74.256452</td>\n",
              "    </tr>\n",
              "    <tr>\n",
              "      <th>1</th>\n",
              "      <td>02</td>\n",
              "      <td>82983</td>\n",
              "      <td>105.9</td>\n",
              "      <td>2</td>\n",
              "      <td>83.179056</td>\n",
              "    </tr>\n",
              "    <tr>\n",
              "      <th>2</th>\n",
              "      <td>03</td>\n",
              "      <td>82983</td>\n",
              "      <td>136.3</td>\n",
              "      <td>3</td>\n",
              "      <td>77.468180</td>\n",
              "    </tr>\n",
              "    <tr>\n",
              "      <th>3</th>\n",
              "      <td>04</td>\n",
              "      <td>82983</td>\n",
              "      <td>93.6</td>\n",
              "      <td>4</td>\n",
              "      <td>46.833511</td>\n",
              "    </tr>\n",
              "    <tr>\n",
              "      <th>4</th>\n",
              "      <td>05</td>\n",
              "      <td>82983</td>\n",
              "      <td>21.7</td>\n",
              "      <td>5</td>\n",
              "      <td>6.292696</td>\n",
              "    </tr>\n",
              "    <tr>\n",
              "      <th>5</th>\n",
              "      <td>06</td>\n",
              "      <td>82983</td>\n",
              "      <td>5.1</td>\n",
              "      <td>6</td>\n",
              "      <td>3.541074</td>\n",
              "    </tr>\n",
              "    <tr>\n",
              "      <th>6</th>\n",
              "      <td>07</td>\n",
              "      <td>82983</td>\n",
              "      <td>8.7</td>\n",
              "      <td>7</td>\n",
              "      <td>1.848299</td>\n",
              "    </tr>\n",
              "    <tr>\n",
              "      <th>7</th>\n",
              "      <td>08</td>\n",
              "      <td>82983</td>\n",
              "      <td>2.4</td>\n",
              "      <td>8</td>\n",
              "      <td>1.438151</td>\n",
              "    </tr>\n",
              "    <tr>\n",
              "      <th>8</th>\n",
              "      <td>09</td>\n",
              "      <td>82983</td>\n",
              "      <td>5.6</td>\n",
              "      <td>9</td>\n",
              "      <td>1.782439</td>\n",
              "    </tr>\n",
              "    <tr>\n",
              "      <th>9</th>\n",
              "      <td>10</td>\n",
              "      <td>82983</td>\n",
              "      <td>11.9</td>\n",
              "      <td>10</td>\n",
              "      <td>8.202111</td>\n",
              "    </tr>\n",
              "    <tr>\n",
              "      <th>10</th>\n",
              "      <td>11</td>\n",
              "      <td>82983</td>\n",
              "      <td>53.5</td>\n",
              "      <td>11</td>\n",
              "      <td>19.998971</td>\n",
              "    </tr>\n",
              "    <tr>\n",
              "      <th>11</th>\n",
              "      <td>12</td>\n",
              "      <td>82983</td>\n",
              "      <td>50.8</td>\n",
              "      <td>12</td>\n",
              "      <td>28.159164</td>\n",
              "    </tr>\n",
              "  </tbody>\n",
              "</table>\n",
              "</div>"
            ],
            "text/plain": [
              "   MES_MEDICAO CD_ESTACAO  VALOR  date      value\n",
              "0           01      82983   81.9     1  74.256452\n",
              "1           02      82983  105.9     2  83.179056\n",
              "2           03      82983  136.3     3  77.468180\n",
              "3           04      82983   93.6     4  46.833511\n",
              "4           05      82983   21.7     5   6.292696\n",
              "5           06      82983    5.1     6   3.541074\n",
              "6           07      82983    8.7     7   1.848299\n",
              "7           08      82983    2.4     8   1.438151\n",
              "8           09      82983    5.6     9   1.782439\n",
              "9           10      82983   11.9    10   8.202111\n",
              "10          11      82983   53.5    11  19.998971\n",
              "11          12      82983   50.8    12  28.159164"
            ]
          },
          "metadata": {
            "tags": []
          },
          "execution_count": 104
        }
      ]
    },
    {
      "cell_type": "code",
      "metadata": {
        "id": "CQkGLvjzeDtg"
      },
      "source": [
        "result[\"VALOR\"] = pd.to_numeric(result[\"VALOR\"], downcast=\"float\")\n",
        "result[\"value\"] = pd.to_numeric(result[\"value\"], downcast=\"float\")"
      ],
      "execution_count": null,
      "outputs": []
    },
    {
      "cell_type": "code",
      "metadata": {
        "colab": {
          "base_uri": "https://localhost:8080/",
          "height": 295
        },
        "id": "72g26HVQeJUB",
        "outputId": "9e272e06-2606-4d88-9b9b-fd11ba68cf64"
      },
      "source": [
        "import matplotlib.pyplot as plt\n",
        "\n",
        "x = result['date']\n",
        "y1 = result['VALOR']\n",
        "y2 = result['value']\n",
        "\n",
        "plt.plot(x, y1, label = \"INMET\")\n",
        "plt.plot(x, y2, label = \"BESM\")\n",
        "\n",
        "\n",
        "plt.xlabel('Mês')\n",
        "plt.ylabel('Precipitação')\n",
        "plt.title('Precipitação Observada x projetada')\n",
        "plt.legend()\n",
        "plt.show()"
      ],
      "execution_count": null,
      "outputs": [
        {
          "output_type": "display_data",
          "data": {
            "image/png": "[encoded data removed]",
            "text/plain": [
              "<Figure size 432x288 with 1 Axes>"
            ]
          },
          "metadata": {
            "tags": [],
            "needs_background": "light"
          }
        }
      ]
    },
    {
      "cell_type": "markdown",
      "metadata": {
        "id": "aAyRrxkeNzlq"
      },
      "source": [
        "Aparentemente os dados do PROJETA subestimam a chuva, visto que no período chuvoso de Petrolina (início do ano) a discrepancia chega a ser de próxima de 100%."
      ]
    },
    {
      "cell_type": "markdown",
      "metadata": {
        "id": "iV1MGsX5i_rK"
      },
      "source": [
        "### Correção de erros sistemáticos"
      ]
    },
    {
      "cell_type": "code",
      "metadata": {
        "colab": {
          "base_uri": "https://localhost:8080/"
        },
        "id": "tmyW5EtkeMhz",
        "outputId": "da921fb6-db32-4bae-eef0-1c4360e76f4d"
      },
      "source": [
        "deltaBase =  result['VALOR'] - result['value']\n",
        "deltaBase"
      ],
      "execution_count": null,
      "outputs": [
        {
          "output_type": "execute_result",
          "data": {
            "text/plain": [
              "0      7.643547\n",
              "1     22.720947\n",
              "2     58.831825\n",
              "3     46.766487\n",
              "4     15.407305\n",
              "5      1.558926\n",
              "6      6.851701\n",
              "7      0.961850\n",
              "8      3.817561\n",
              "9      3.697888\n",
              "10    33.501030\n",
              "11    22.640835\n",
              "dtype: float32"
            ]
          },
          "metadata": {
            "tags": []
          },
          "execution_count": 107
        }
      ]
    },
    {
      "cell_type": "code",
      "metadata": {
        "colab": {
          "base_uri": "https://localhost:8080/"
        },
        "id": "3XWCUqZ_jduq",
        "outputId": "0732b9ab-7ea7-4d57-843a-15105e512b6a"
      },
      "source": [
        "baseCorregida = result['value'] + deltaBase\n",
        "baseCorregida"
      ],
      "execution_count": null,
      "outputs": [
        {
          "output_type": "execute_result",
          "data": {
            "text/plain": [
              "0      81.900002\n",
              "1     105.900002\n",
              "2     136.300003\n",
              "3      93.599998\n",
              "4      21.700001\n",
              "5       5.100000\n",
              "6       8.700000\n",
              "7       2.400000\n",
              "8       5.600000\n",
              "9      11.900000\n",
              "10     53.500000\n",
              "11     50.799999\n",
              "dtype: float32"
            ]
          },
          "metadata": {
            "tags": []
          },
          "execution_count": 108
        }
      ]
    },
    {
      "cell_type": "code",
      "metadata": {
        "colab": {
          "base_uri": "https://localhost:8080/",
          "height": 206
        },
        "id": "_oL4bWJ2juwi",
        "outputId": "52f47e56-520f-4432-9cfe-c85bd9b077c5"
      },
      "source": [
        "projetaFuturo = requests.get('https://projeta.cptec.inpe.br/api/v1/public/ETA/20/MONTHLY/3/1/2021/12/2030/PREC/-9.383333/-40.5/').json()\n",
        "projetaFuturo = pd.DataFrame.from_dict(projetaFuturo)\n",
        "projetaFuturo.head()"
      ],
      "execution_count": null,
      "outputs": [
        {
          "output_type": "execute_result",
          "data": {
            "text/html": [
              "<div>\n",
              "<style scoped>\n",
              "    .dataframe tbody tr th:only-of-type {\n",
              "        vertical-align: middle;\n",
              "    }\n",
              "\n",
              "    .dataframe tbody tr th {\n",
              "        vertical-align: top;\n",
              "    }\n",
              "\n",
              "    .dataframe thead th {\n",
              "        text-align: right;\n",
              "    }\n",
              "</style>\n",
              "<table border=\"1\" class=\"dataframe\">\n",
              "  <thead>\n",
              "    <tr style=\"text-align: right;\">\n",
              "      <th></th>\n",
              "      <th>value</th>\n",
              "      <th>date</th>\n",
              "      <th>time</th>\n",
              "      <th>variable</th>\n",
              "      <th>lat</th>\n",
              "      <th>lng</th>\n",
              "    </tr>\n",
              "  </thead>\n",
              "  <tbody>\n",
              "    <tr>\n",
              "      <th>0</th>\n",
              "      <td>216.681213</td>\n",
              "      <td>2021-01-01</td>\n",
              "      <td>00:00:00</td>\n",
              "      <td>PREC</td>\n",
              "      <td>-9.375000000000004</td>\n",
              "      <td>-40.474999999999994</td>\n",
              "    </tr>\n",
              "    <tr>\n",
              "      <th>1</th>\n",
              "      <td>195.382263</td>\n",
              "      <td>2021-02-01</td>\n",
              "      <td>00:00:00</td>\n",
              "      <td>PREC</td>\n",
              "      <td>-9.375000000000004</td>\n",
              "      <td>-40.474999999999994</td>\n",
              "    </tr>\n",
              "    <tr>\n",
              "      <th>2</th>\n",
              "      <td>137.898392</td>\n",
              "      <td>2021-03-01</td>\n",
              "      <td>00:00:00</td>\n",
              "      <td>PREC</td>\n",
              "      <td>-9.375000000000004</td>\n",
              "      <td>-40.474999999999994</td>\n",
              "    </tr>\n",
              "    <tr>\n",
              "      <th>3</th>\n",
              "      <td>81.764008</td>\n",
              "      <td>2021-04-01</td>\n",
              "      <td>00:00:00</td>\n",
              "      <td>PREC</td>\n",
              "      <td>-9.375000000000004</td>\n",
              "      <td>-40.474999999999994</td>\n",
              "    </tr>\n",
              "    <tr>\n",
              "      <th>4</th>\n",
              "      <td>39.364494</td>\n",
              "      <td>2021-05-01</td>\n",
              "      <td>00:00:00</td>\n",
              "      <td>PREC</td>\n",
              "      <td>-9.375000000000004</td>\n",
              "      <td>-40.474999999999994</td>\n",
              "    </tr>\n",
              "  </tbody>\n",
              "</table>\n",
              "</div>"
            ],
            "text/plain": [
              "        value        date  ...                 lat                  lng\n",
              "0  216.681213  2021-01-01  ...  -9.375000000000004  -40.474999999999994\n",
              "1  195.382263  2021-02-01  ...  -9.375000000000004  -40.474999999999994\n",
              "2  137.898392  2021-03-01  ...  -9.375000000000004  -40.474999999999994\n",
              "3   81.764008  2021-04-01  ...  -9.375000000000004  -40.474999999999994\n",
              "4   39.364494  2021-05-01  ...  -9.375000000000004  -40.474999999999994\n",
              "\n",
              "[5 rows x 6 columns]"
            ]
          },
          "metadata": {
            "tags": []
          },
          "execution_count": 109
        }
      ]
    },
    {
      "cell_type": "code",
      "metadata": {
        "id": "p5Q2oTY0kpO0"
      },
      "source": [
        "projetaFuturo['date'] =  pd.to_datetime(projetaFuturo['date'], format='%Y-%m-%d')\n",
        "projetaFuturo['mes'] = pd.DatetimeIndex(projetaFuturo['date']).month\n",
        "projetaFuturo.set_index('date', inplace=True)"
      ],
      "execution_count": null,
      "outputs": []
    },
    {
      "cell_type": "code",
      "metadata": {
        "id": "79ATPHlaxfH8"
      },
      "source": [
        "normalFuturo = projetaFuturo.groupby(pd.Grouper(key=\"mes\")).mean()\n"
      ],
      "execution_count": null,
      "outputs": []
    },
    {
      "cell_type": "code",
      "metadata": {
        "id": "Dq65ZcVX4Ons"
      },
      "source": [
        "projetaFuturo.set_index('mes', inplace=True)\n"
      ],
      "execution_count": null,
      "outputs": []
    },
    {
      "cell_type": "code",
      "metadata": {
        "id": "dsn9ipVf5B_w"
      },
      "source": [
        "full = pd.concat([projetaFuturo, normalFuturo.reindex(projetaFuturo.index)], axis=1)\n"
      ],
      "execution_count": null,
      "outputs": []
    },
    {
      "cell_type": "code",
      "metadata": {
        "id": "_L0tJ9QB_w7c"
      },
      "source": [
        "base = pd.DataFrame(result['VALOR'])"
      ],
      "execution_count": null,
      "outputs": []
    },
    {
      "cell_type": "code",
      "metadata": {
        "id": "UlTp_RZU9aRL"
      },
      "source": [
        "normalFuturoDF = normalFuturo.reset_index(drop=True)\n",
        "normalFuturoDF[\"value\"] = pd.to_numeric(normalFuturoDF[\"value\"], downcast=\"float\")\n",
        "deltaFuturo = normalFuturoDF['value'] - base['VALOR']\n",
        "deltaFuturo = deltaFuturo.to_frame()\n",
        "deltaFuturo['mes'] = [1,2,3,4,5,6,7,8,9,10,11,12]\n",
        "deltaFuturo.set_index('mes', inplace=True)\n"
      ],
      "execution_count": null,
      "outputs": []
    },
    {
      "cell_type": "code",
      "metadata": {
        "colab": {
          "base_uri": "https://localhost:8080/",
          "height": 238
        },
        "id": "XptQh4XgLjR3",
        "outputId": "8ca95b6b-044b-4d7e-da73-46e3e69283fb"
      },
      "source": [
        "futuroCor = pd.concat([full, deltaFuturo.reindex(full.index)], axis=1)\n",
        "futuroCor.head()"
      ],
      "execution_count": null,
      "outputs": [
        {
          "output_type": "execute_result",
          "data": {
            "text/html": [
              "<div>\n",
              "<style scoped>\n",
              "    .dataframe tbody tr th:only-of-type {\n",
              "        vertical-align: middle;\n",
              "    }\n",
              "\n",
              "    .dataframe tbody tr th {\n",
              "        vertical-align: top;\n",
              "    }\n",
              "\n",
              "    .dataframe thead th {\n",
              "        text-align: right;\n",
              "    }\n",
              "</style>\n",
              "<table border=\"1\" class=\"dataframe\">\n",
              "  <thead>\n",
              "    <tr style=\"text-align: right;\">\n",
              "      <th></th>\n",
              "      <th>value</th>\n",
              "      <th>time</th>\n",
              "      <th>variable</th>\n",
              "      <th>lat</th>\n",
              "      <th>lng</th>\n",
              "      <th>value</th>\n",
              "      <th>0</th>\n",
              "    </tr>\n",
              "    <tr>\n",
              "      <th>mes</th>\n",
              "      <th></th>\n",
              "      <th></th>\n",
              "      <th></th>\n",
              "      <th></th>\n",
              "      <th></th>\n",
              "      <th></th>\n",
              "      <th></th>\n",
              "    </tr>\n",
              "  </thead>\n",
              "  <tbody>\n",
              "    <tr>\n",
              "      <th>1</th>\n",
              "      <td>216.681213</td>\n",
              "      <td>00:00:00</td>\n",
              "      <td>PREC</td>\n",
              "      <td>-9.375000000000004</td>\n",
              "      <td>-40.474999999999994</td>\n",
              "      <td>139.818983</td>\n",
              "      <td>57.918983</td>\n",
              "    </tr>\n",
              "    <tr>\n",
              "      <th>2</th>\n",
              "      <td>195.382263</td>\n",
              "      <td>00:00:00</td>\n",
              "      <td>PREC</td>\n",
              "      <td>-9.375000000000004</td>\n",
              "      <td>-40.474999999999994</td>\n",
              "      <td>187.255830</td>\n",
              "      <td>81.355827</td>\n",
              "    </tr>\n",
              "    <tr>\n",
              "      <th>3</th>\n",
              "      <td>137.898392</td>\n",
              "      <td>00:00:00</td>\n",
              "      <td>PREC</td>\n",
              "      <td>-9.375000000000004</td>\n",
              "      <td>-40.474999999999994</td>\n",
              "      <td>173.814758</td>\n",
              "      <td>37.514755</td>\n",
              "    </tr>\n",
              "    <tr>\n",
              "      <th>4</th>\n",
              "      <td>81.764008</td>\n",
              "      <td>00:00:00</td>\n",
              "      <td>PREC</td>\n",
              "      <td>-9.375000000000004</td>\n",
              "      <td>-40.474999999999994</td>\n",
              "      <td>118.472686</td>\n",
              "      <td>24.872688</td>\n",
              "    </tr>\n",
              "    <tr>\n",
              "      <th>5</th>\n",
              "      <td>39.364494</td>\n",
              "      <td>00:00:00</td>\n",
              "      <td>PREC</td>\n",
              "      <td>-9.375000000000004</td>\n",
              "      <td>-40.474999999999994</td>\n",
              "      <td>44.607313</td>\n",
              "      <td>22.907310</td>\n",
              "    </tr>\n",
              "  </tbody>\n",
              "</table>\n",
              "</div>"
            ],
            "text/plain": [
              "          value      time variable  ...                  lng       value          0\n",
              "mes                                 ...                                            \n",
              "1    216.681213  00:00:00     PREC  ...  -40.474999999999994  139.818983  57.918983\n",
              "2    195.382263  00:00:00     PREC  ...  -40.474999999999994  187.255830  81.355827\n",
              "3    137.898392  00:00:00     PREC  ...  -40.474999999999994  173.814758  37.514755\n",
              "4     81.764008  00:00:00     PREC  ...  -40.474999999999994  118.472686  24.872688\n",
              "5     39.364494  00:00:00     PREC  ...  -40.474999999999994   44.607313  22.907310\n",
              "\n",
              "[5 rows x 7 columns]"
            ]
          },
          "metadata": {
            "tags": []
          },
          "execution_count": 116
        }
      ]
    },
    {
      "cell_type": "markdown",
      "metadata": {
        "id": "l4JcWHSLOOlm"
      },
      "source": [
        "observação: os dados corrigidos se encontram no final da tabela, com índice value e 0."
      ]
    },
    {
      "cell_type": "code",
      "metadata": {
        "id": "muqrKmWsMbex"
      },
      "source": [
        "futuroCor.to_csv('besmFuturoCorrigido.csv') #exportação da série de dados corrigidos em formato csv"
      ],
      "execution_count": null,
      "outputs": []
    }
  ]
}